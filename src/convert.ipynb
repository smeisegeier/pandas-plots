{
 "cells": [
  {
   "cell_type": "code",
   "execution_count": 1,
   "id": "504430a7",
   "metadata": {},
   "outputs": [
    {
     "name": "stdout",
     "output_type": "stream",
     "text": [
      "Successfully removed CSS rules and updated: ./docs/test.md\n"
     ]
    }
   ],
   "source": [
    "from pandas_plots.cli import converter\n",
    "from pandas_plots import tbl\n",
    "import seaborn as sb\n",
    "import dataframe_image as dfi\n",
    "\n",
    "#df = sb.load_dataset('taxis')\n",
    "\n",
    "converter.jupyter_to_md(path=\"./test.ipynb\")\n",
    "# converter.jupyter_to_md(path=\"./t.ipynb\")"
   ]
  },
  {
   "cell_type": "code",
   "execution_count": 2,
   "id": "00d8dd22",
   "metadata": {},
   "outputs": [],
   "source": [
    "# _df = df[[\"distance\", \"fare\", \"tip\", \"tolls\"]][:5]\n",
    "# lol = tbl.show_num_df(\n",
    "#     _df,\n",
    "#     data_bar_axis=\"x\",\n",
    "#     pct_axis=\"xy\",\n",
    "#     precision=3,\n",
    "#     total_mode=\"sum\",\n",
    "# )\n",
    "# lol\n",
    "# dfi.export(lol, 'docs/test.png', table_conversion=\"chrome\")"
   ]
  }
 ],
 "metadata": {
  "kernelspec": {
   "display_name": "pandas-plots",
   "language": "python",
   "name": "python3"
  },
  "language_info": {
   "codemirror_mode": {
    "name": "ipython",
    "version": 3
   },
   "file_extension": ".py",
   "mimetype": "text/x-python",
   "name": "python",
   "nbconvert_exporter": "python",
   "pygments_lexer": "ipython3",
   "version": "3.12.9"
  }
 },
 "nbformat": 4,
 "nbformat_minor": 5
}
