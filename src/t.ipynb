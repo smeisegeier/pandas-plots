{
 "cells": [
  {
   "cell_type": "markdown",
   "metadata": {},
   "source": [
    "# <a id='toc1_'></a>[test area](#toc0_)"
   ]
  },
  {
   "cell_type": "markdown",
   "metadata": {},
   "source": [
    "**Table of contents**<a id='toc0_'></a>    \n",
    "- [test area](#toc1_)    \n",
    "    - [load](#toc1_1_1_)    \n",
    "  - [pls](#toc1_2_)    \n",
    "    - [bars](#toc1_2_1_)    \n",
    "    - [histo](#toc1_2_2_)    \n",
    "    - [box](#toc1_2_3_)    \n",
    "    - [pie](#toc1_2_4_)    \n",
    "    - [join](#toc1_2_5_)    \n",
    "    - [sankey](#toc1_2_6_)    \n",
    "  - [tbl](#toc1_3_)    \n",
    "    - [print_summary()](#toc1_3_1_)    \n",
    "    - [describe_df()](#toc1_3_2_)    \n",
    "    - [descr_db()](#toc1_3_3_)    \n",
    "  - [show num](#toc1_4_)    \n",
    "  - [venn](#toc1_5_)    \n",
    "  - [hlp](#toc1_6_)    \n",
    "\n",
    "<!-- vscode-jupyter-toc-config\n",
    "\tnumbering=false\n",
    "\tanchor=true\n",
    "\tflat=false\n",
    "\tminLevel=1\n",
    "\tmaxLevel=6\n",
    "\t/vscode-jupyter-toc-config -->\n",
    "<!-- THIS CELL WILL BE REPLACED ON TOC UPDATE. DO NOT WRITE YOUR TEXT IN THIS CELL -->"
   ]
  },
  {
   "cell_type": "markdown",
   "metadata": {},
   "source": [
    "### <a id='toc1_1_1_'></a>[load](#toc0_)"
   ]
  },
  {
   "cell_type": "code",
   "execution_count": 1,
   "metadata": {},
   "outputs": [
    {
     "name": "stdout",
     "output_type": "stream",
     "text": [
      "🐍 3.12.9 | 📦 matplotlib_venn: 0.11.10 | 📦 dataframe_image: 0.2.7 | 📦 plotly: 6.2.0 | 📦 kaleido: 1.0.0 | 📦 seaborn: 0.13.2 | 📦 pandas: 2.3.1 | 📦 numpy: 1.26.4 | 📦 duckdb: 1.3.2 | 📦 pandas-plots: 0.20.0 | 📦 connection-helper: 0.13.1\n",
      "True\n"
     ]
    }
   ],
   "source": [
    "from pathlib import Path\n",
    "import os\n",
    "import seaborn as sb\n",
    "import pandas as pd\n",
    "import sys\n",
    "import numpy as np\n",
    "# from datetime import datetime\n",
    "# from connection_helper import sql\n",
    "\n",
    "from pandas_plots import tbl, pls, ven , hlp\n",
    "import duckdb as ddb\n",
    "\n",
    "hlp.show_package_version([\"matplotlib_venn\", \"dataframe_image\", \"plotly\", \"kaleido\", \"seaborn\"], )\n",
    "df = sb.load_dataset('taxis')\n",
    "\n",
    "hlp.set_theme(\"dark\")\n",
    "\n",
    "dir_db=Path(\"C://temp\") if hlp.get_os(hlp.OperatingSystem.WINDOWS) else Path(os.path.expanduser(\"~/tmp\"))\n",
    "\n",
    "file_db_clin = dir_db/'workflow/2025-06-24_data_clin.duckdb'\n",
    "\n",
    "if not file_db_clin.is_file():\n",
    "    print(f\"File does not exist: {file_db_clin}\")\n",
    "    raise FileNotFoundError\n",
    "\n",
    "print(hlp.get_os(hlp.OperatingSystem.MAC))"
   ]
  },
  {
   "cell_type": "code",
   "execution_count": 2,
   "metadata": {},
   "outputs": [],
   "source": [
    "con = ddb.connect(file_db_clin, read_only=True)"
   ]
  },
  {
   "cell_type": "code",
   "execution_count": 10,
   "metadata": {},
   "outputs": [
    {
     "name": "stdout",
     "output_type": "stream",
     "text": [
      "🗄️ taxis\t6_433, 14\n",
      "\t(\"pickup, dropoff, passengers, distance, fare, tip, tolls, total, color, payment, pickup_zone, dropoff_zone, pickup_borough, dropoff_borough\")\n",
      "┌─────────────────────┬─────────────────────┬────────────┬──────────┬────────┬────────┬────────┬────────┬─────────┬─────────────┬───────────────────────┬───────────────────────┬────────────────┬─────────────────┐\n",
      "│       pickup        │       dropoff       │ passengers │ distance │  fare  │  tip   │ tolls  │ total  │  color  │   payment   │      pickup_zone      │     dropoff_zone      │ pickup_borough │ dropoff_borough │\n",
      "│    timestamp_ns     │    timestamp_ns     │   int64    │  double  │ double │ double │ double │ double │ varchar │   varchar   │        varchar        │        varchar        │    varchar     │     varchar     │\n",
      "├─────────────────────┼─────────────────────┼────────────┼──────────┼────────┼────────┼────────┼────────┼─────────┼─────────────┼───────────────────────┼───────────────────────┼────────────────┼─────────────────┤\n",
      "│ 2019-03-23 20:21:09 │ 2019-03-23 20:27:24 │          1 │      1.6 │    7.0 │   2.15 │    0.0 │  12.95 │ yellow  │ credit card │ Lenox Hill West       │ UN/Turtle Bay South   │ Manhattan      │ Manhattan       │\n",
      "│ 2019-03-04 16:11:55 │ 2019-03-04 16:19:00 │          1 │     0.79 │    5.0 │    0.0 │    0.0 │    9.3 │ yellow  │ cash        │ Upper West Side South │ Upper West Side South │ Manhattan      │ Manhattan       │\n",
      "│ 2019-03-27 17:53:01 │ 2019-03-27 18:00:25 │          1 │     1.37 │    7.5 │   2.36 │    0.0 │  14.16 │ yellow  │ credit card │ Alphabet City         │ West Village          │ Manhattan      │ Manhattan       │\n",
      "└─────────────────────┴─────────────────────┴────────────┴──────────┴────────┴────────┴────────┴────────┴─────────┴─────────────┴───────────────────────┴───────────────────────┴────────────────┴─────────────────┘\n",
      "\n"
     ]
    }
   ],
   "source": [
    "db = con.from_df(df)\n",
    "tbl.descr_db(db, caption=\"taxis\",)"
   ]
  }
 ],
 "metadata": {
  "kernelspec": {
   "display_name": "pandas-plots",
   "language": "python",
   "name": "python3"
  },
  "language_info": {
   "codemirror_mode": {
    "name": "ipython",
    "version": 3
   },
   "file_extension": ".py",
   "mimetype": "text/x-python",
   "name": "python",
   "nbconvert_exporter": "python",
   "pygments_lexer": "ipython3",
   "version": "3.12.9"
  }
 },
 "nbformat": 4,
 "nbformat_minor": 2
}
