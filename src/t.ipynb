{
 "cells": [
  {
   "cell_type": "markdown",
   "metadata": {},
   "source": [
    "# test area"
   ]
  },
  {
   "cell_type": "markdown",
   "metadata": {},
   "source": [
    "### load"
   ]
  },
  {
   "cell_type": "code",
   "execution_count": 1,
   "metadata": {},
   "outputs": [
    {
     "name": "stdout",
     "output_type": "stream",
     "text": [
      "🐍 3.12.9 | 📦 matplotlib_venn: 0.11.10 | 📦 dataframe_image: 0.2.7 | 📦 plotly: 6.2.0 | 📦 kaleido: 1.0.0 | 📦 seaborn: 0.13.2 | 📦 pandas: 2.3.1 | 📦 numpy: 1.26.4 | 📦 duckdb: 1.3.2 | 📦 pandas-plots: 0.20.0 | 📦 connection-helper: 0.13.1\n",
      "True\n"
     ]
    }
   ],
   "source": [
    "from pathlib import Path\n",
    "import os\n",
    "import seaborn as sb\n",
    "import pandas as pd\n",
    "import sys\n",
    "import numpy as np\n",
    "# from datetime import datetime\n",
    "# from connection_helper import sql\n",
    "\n",
    "from pandas_plots import tbl, pls, ven , hlp\n",
    "import duckdb as ddb\n",
    "\n",
    "hlp.show_package_version([\"matplotlib_venn\", \"dataframe_image\", \"plotly\", \"kaleido\", \"seaborn\"], )\n",
    "df = sb.load_dataset('taxis')\n",
    "\n",
    "hlp.set_theme(\"dark\")\n",
    "\n",
    "dir_db=Path(\"C://temp\") if hlp.get_os(hlp.OperatingSystem.WINDOWS) else Path(os.path.expanduser(\"~/tmp\"))\n",
    "\n",
    "file_db_clin = dir_db/'workflow/2025-06-24_data_clin.duckdb'\n",
    "\n",
    "if not file_db_clin.is_file():\n",
    "    print(f\"File does not exist: {file_db_clin}\")\n",
    "    raise FileNotFoundError\n",
    "\n",
    "print(hlp.get_os(hlp.OperatingSystem.MAC))"
   ]
  },
  {
   "cell_type": "code",
   "execution_count": 2,
   "metadata": {},
   "outputs": [],
   "source": [
    "con = ddb.connect(file_db_clin, read_only=True)"
   ]
  },
  {
   "cell_type": "code",
   "execution_count": 3,
   "metadata": {},
   "outputs": [
    {
     "name": "stdout",
     "output_type": "stream",
     "text": [
      "🗄️ taxis\t6_433, 14\n",
      "\t(\"pickup, dropoff, passengers, distance, fare, tip, tolls, total, color, payment, pickup_zone, dropoff_zone, pickup_borough, dropoff_borough\")\n",
      "┌─────────────────────┬─────────────────────┬────────────┬──────────┬────────┬────────┬────────┬────────┬─────────┬─────────────┬───────────────────────┬───────────────────────┬────────────────┬─────────────────┐\n",
      "│       pickup        │       dropoff       │ passengers │ distance │  fare  │  tip   │ tolls  │ total  │  color  │   payment   │      pickup_zone      │     dropoff_zone      │ pickup_borough │ dropoff_borough │\n",
      "│    timestamp_ns     │    timestamp_ns     │   int64    │  double  │ double │ double │ double │ double │ varchar │   varchar   │        varchar        │        varchar        │    varchar     │     varchar     │\n",
      "├─────────────────────┼─────────────────────┼────────────┼──────────┼────────┼────────┼────────┼────────┼─────────┼─────────────┼───────────────────────┼───────────────────────┼────────────────┼─────────────────┤\n",
      "│ 2019-03-23 20:21:09 │ 2019-03-23 20:27:24 │          1 │      1.6 │    7.0 │   2.15 │    0.0 │  12.95 │ yellow  │ credit card │ Lenox Hill West       │ UN/Turtle Bay South   │ Manhattan      │ Manhattan       │\n",
      "│ 2019-03-04 16:11:55 │ 2019-03-04 16:19:00 │          1 │     0.79 │    5.0 │    0.0 │    0.0 │    9.3 │ yellow  │ cash        │ Upper West Side South │ Upper West Side South │ Manhattan      │ Manhattan       │\n",
      "│ 2019-03-27 17:53:01 │ 2019-03-27 18:00:25 │          1 │     1.37 │    7.5 │   2.36 │    0.0 │  14.16 │ yellow  │ credit card │ Alphabet City         │ West Village          │ Manhattan      │ Manhattan       │\n",
      "└─────────────────────┴─────────────────────┴────────────┴──────────┴────────┴────────┴────────┴────────┴─────────┴─────────────┴───────────────────────┴───────────────────────┴────────────────┴─────────────────┘\n",
      "\n"
     ]
    }
   ],
   "source": [
    "db = con.from_df(df)\n",
    "tbl.descr_db(db, caption=\"taxis\",)"
   ]
  },
  {
   "cell_type": "code",
   "execution_count": 4,
   "metadata": {},
   "outputs": [
    {
     "name": "stdout",
     "output_type": "stream",
     "text": [
      "┌──────────────────────────────────────────────────────────────────────────────────────────────────────────────────────────────────────────┬─────────┐\n",
      "│                                                                   ops                                                                    │ cnt_ops │\n",
      "│                                                                 varchar                                                                  │  int32  │\n",
      "├──────────────────────────────────────────────────────────────────────────────────────────────────────────────────────────────────────────┼─────────┤\n",
      "│ NULL                                                                                                                                     │  165548 │\n",
      "│ 5-401.11 - Exzision einzelner Lymphknoten und Lymphgefäße: Axillär: Mit Radionuklidmarkierung (Sentinel-Lymphonodektomie)                │  135480 │\n",
      "│ 5-573.40 - Transurethrale Inzision, Exzision, Destruktion und Resektion von (erkranktem) Gewebe der Harnblase: Resektion: Nicht fluore…  │   93657 │\n",
      "│ 5-987.0 - Anwendung eines OP-Roboters: Komplexer OP-Roboter                                                                              │   82219 │\n",
      "│ 5-870.a1 - Partielle (brusterhaltende) Exzision der Mamma und Destruktion von Mammagewebe: Partielle Resektion: Defektdeckung durch Mo…  │   64837 │\n",
      "│ 5-870.a2 - Partielle (brusterhaltende) Exzision der Mamma und Destruktion von Mammagewebe: Partielle Resektion: Defektdeckung durch Mo…  │   52163 │\n",
      "│ 5-984 - Mikrochirurgische Technik                                                                                                        │   47344 │\n",
      "│ 5-604.52 - Radikale Prostatovesikulektomie: Laparoskopisch, gefäß- und nervenerhaltend: Mit regionaler Lymphadenektomie                  │   39232 │\n",
      "│ 5-895.14 - Radikale und ausgedehnte Exzision von erkranktem Gewebe an Haut und Unterhaut: Ohne primären Wundverschluss, histographisch…  │   35066 │\n",
      "│ 5-573.41 - Transurethrale Inzision, Exzision, Destruktion und Resektion von (erkranktem) Gewebe der Harnblase: Resektion: Fluoreszenzg…  │   34493 │\n",
      "├──────────────────────────────────────────────────────────────────────────────────────────────────────────────────────────────────────────┴─────────┤\n",
      "│ 10 rows                                                                                                                                  2 columns │\n",
      "└────────────────────────────────────────────────────────────────────────────────────────────────────────────────────────────────────────────────────┘\n",
      "\n",
      "┌────────────────────────────────────────────────────────────────────────────────────────────────────────────────────────────────────────────────────────┬─────────┐\n",
      "│                                                                          ops                                                                           │ cnt_ops │\n",
      "│                                                                        varchar                                                                         │  int32  │\n",
      "├────────────────────────────────────────────────────────────────────────────────────────────────────────────────────────────────────────────────────────┼─────────┤\n",
      "│ NULL                                                                                                                                                   │  165548 │\n",
      "│ 5-401.11 - Exzision einzelner Lymphknoten und Lymphgefäße: Axillär: Mit Radionuklidmarkierung (Sentinel-Lymphonodektomie)                              │  135480 │\n",
      "│ 5-573.40 - Transurethrale Inzision, Exzision, Destruktion und Resektion von (erkranktem) Gewebe der Harnblase: Resektion: Nicht fluoreszenzgestützt    │   93657 │\n",
      "│ 5-987.0 - Anwendung eines OP-Roboters: Komplexer OP-Roboter                                                                                            │   82219 │\n",
      "│ 5-870.a1 - Partielle (brusterhaltende) Exzision der Mamma und Destruktion von Mammagewebe: Partielle Resektion: Defektdeckung durch Mobilisation und A │   64837 │\n",
      "│ 5-870.a2 - Partielle (brusterhaltende) Exzision der Mamma und Destruktion von Mammagewebe: Partielle Resektion: Defektdeckung durch Mobilisation und A │   52163 │\n",
      "│ 5-984 - Mikrochirurgische Technik                                                                                                                      │   47344 │\n",
      "│ 5-604.52 - Radikale Prostatovesikulektomie: Laparoskopisch, gefäß- und nervenerhaltend: Mit regionaler Lymphadenektomie                                │   39232 │\n",
      "│ 5-895.14 - Radikale und ausgedehnte Exzision von erkranktem Gewebe an Haut und Unterhaut: Ohne primären Wundverschluss, histographisch kontrolliert (m │   35066 │\n",
      "│ 5-573.41 - Transurethrale Inzision, Exzision, Destruktion und Resektion von (erkranktem) Gewebe der Harnblase: Resektion: Fluoreszenzgestützt mit Hexa │   34493 │\n",
      "├────────────────────────────────────────────────────────────────────────────────────────────────────────────────────────────────────────────────────────┴─────────┤\n",
      "│ 10 rows                                                                                                                                                2 columns │\n",
      "└──────────────────────────────────────────────────────────────────────────────────────────────────────────────────────────────────────────────────────────────────┘\n",
      "\n"
     ]
    }
   ],
   "source": [
    "db_ops_kkr = con.sql(\"\"\"--sql\n",
    "    select\n",
    "            z_kkr_label,\n",
    "            ops.Code as ops_code,\n",
    "            count(distinct OPSId) as cnt_ops,\n",
    "            dim_ops.name as ops_name,\n",
    "    from Tumor tum\n",
    "    left join OP op on tum.z_tum_id = op.z_tum_id\n",
    "    left join OPS ops on op.OPId = ops.OP_TypId\n",
    "    left join dim_ops on dim_ops.code = ops.Code\n",
    "    group by ops_code, z_kkr_label, ops_name\n",
    "    \"\"\")\n",
    "# tbl.descr_db(db_ops_kkr, \"ops_kk\")\n",
    "\n",
    "# print(db_ops_kkr.aggregate(\"ops_code || ' - ' || ops_name as ops, sum(cnt_ops)::int as cnt_ops\").order(\"cnt_ops desc\").limit(10).to_df())\n",
    "db_ops_kkr.aggregate(\"ops_code || ' - ' || ops_name as ops, sum(cnt_ops)::int as cnt_ops\").order(\"cnt_ops desc\").limit(10).show(max_width=150)\n",
    "db_ops_kkr.aggregate(\"left(ops_code || ' - ' || ops_name,150) as ops, sum(cnt_ops)::int as cnt_ops\").order(\"cnt_ops desc\").limit(10).show()"
   ]
  }
 ],
 "metadata": {
  "kernelspec": {
   "display_name": "pandas-plots",
   "language": "python",
   "name": "python3"
  },
  "language_info": {
   "codemirror_mode": {
    "name": "ipython",
    "version": 3
   },
   "file_extension": ".py",
   "mimetype": "text/x-python",
   "name": "python",
   "nbconvert_exporter": "python",
   "pygments_lexer": "ipython3",
   "version": "3.12.9"
  }
 },
 "nbformat": 4,
 "nbformat_minor": 2
}
