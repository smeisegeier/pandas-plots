{
 "cells": [
  {
   "cell_type": "markdown",
   "metadata": {},
   "source": [
    "# test area"
   ]
  },
  {
   "cell_type": "markdown",
   "metadata": {},
   "source": [
    "### load"
   ]
  },
  {
   "cell_type": "code",
   "execution_count": 1,
   "metadata": {},
   "outputs": [
    {
     "name": "stdout",
     "output_type": "stream",
     "text": [
      "🐍 3.12.9 | 📦 matplotlib_venn: 0.11.10 | 📦 dataframe_image: 0.2.7 | 📦 plotly: 6.2.0 | 📦 kaleido: 1.0.0 | 📦 seaborn: 0.13.2 | 📦 pandas: 2.3.1 | 📦 numpy: 1.26.4 | 📦 duckdb: 1.3.2 | 📦 pandas-plots: 0.16.5 | 📦 connection-helper: 0.12\n",
      "True\n"
     ]
    }
   ],
   "source": [
    "from pathlib import Path\n",
    "import os\n",
    "import seaborn as sb\n",
    "import pandas as pd\n",
    "import sys\n",
    "import numpy as np\n",
    "# from datetime import datetime\n",
    "# from connection_helper import sql\n",
    "\n",
    "from pandas_plots import tbl, pls, ven , hlp\n",
    "import duckdb as ddb\n",
    "\n",
    "hlp.show_package_version([\"matplotlib_venn\", \"dataframe_image\", \"plotly\", \"kaleido\", \"seaborn\"], )\n",
    "df = sb.load_dataset('taxis')\n",
    "os.environ['THEME'] = 'dark'\n",
    "\n",
    "dir_db=Path(\"C://temp\") if hlp.get_os(hlp.OperatingSystem.WINDOWS) else Path(os.path.expanduser(\"~/tmp\"))\n",
    "\n",
    "file_db_clin = dir_db/'workflow/2025-06-24_data_clin.duckdb'\n",
    "\n",
    "if not file_db_clin.is_file():\n",
    "    print(f\"File does not exist: {file_db_clin}\")\n",
    "    raise FileNotFoundError\n",
    "\n",
    "print(hlp.get_os(hlp.OperatingSystem.MAC))"
   ]
  },
  {
   "cell_type": "code",
   "execution_count": 2,
   "metadata": {},
   "outputs": [],
   "source": [
    "con = ddb.connect(file_db_clin, read_only=True)"
   ]
  },
  {
   "cell_type": "code",
   "execution_count": 3,
   "metadata": {},
   "outputs": [],
   "source": [
    "db_delay = con.sql(\"\"\"--sql\n",
    "    select\n",
    "            first(z_kkr_label) as z_kkr_label,\n",
    "            first(z_first_treatment_after_days) as z_first_treatment_after_days, \n",
    "            first(z_first_treatment) as z_first_treatment\n",
    "    from Tumor\n",
    "    where ifnull(z_first_treatment,'') <> ''\n",
    "    and z_dy = 2023 and z_icd10_3d = 'C81'\n",
    "    group by z_tum_id\n",
    "    \"\"\")"
   ]
  },
  {
   "cell_type": "markdown",
   "metadata": {},
   "source": [
    "## pls"
   ]
  },
  {
   "cell_type": "markdown",
   "metadata": {},
   "source": [
    "### bars"
   ]
  },
  {
   "cell_type": "code",
   "execution_count": 83,
   "metadata": {},
   "outputs": [
    {
     "data": {
      "application/vnd.plotly.v1+json": {
       "config": {
        "plotlyServerURL": "https://plot.ly"
       },
       "data": [
        {
         "error_y": {
          "thickness": 5
         },
         "hovertemplate": "z_kkr_label=%{x}<br>pct=%{y}<br>cnt_pct_str=%{text}<extra></extra>",
         "legendgroup": "01-SH",
         "marker": {
          "color": "#1F77B4",
          "pattern": {
           "shape": ""
          }
         },
         "name": "01-SH",
         "orientation": "v",
         "showlegend": true,
         "text": [
          "4_645<br>(6.9%)"
         ],
         "textposition": "outside",
         "type": "bar",
         "x": [
          "01-SH"
         ],
         "xaxis": "x",
         "y": {
          "bdata": "EQ6/m9CusT8=",
          "dtype": "f8"
         },
         "yaxis": "y"
        },
        {
         "error_y": {
          "thickness": 5
         },
         "hovertemplate": "z_kkr_label=%{x}<br>pct=%{y}<br>cnt_pct_str=%{text}<extra></extra>",
         "legendgroup": "02-HH",
         "marker": {
          "color": "#FF7F0E",
          "pattern": {
           "shape": ""
          }
         },
         "name": "02-HH",
         "orientation": "v",
         "showlegend": true,
         "text": [
          "1_695<br>(2.5%)"
         ],
         "textposition": "outside",
         "type": "bar",
         "x": [
          "02-HH"
         ],
         "xaxis": "x",
         "y": {
          "bdata": "waWFM37PmT8=",
          "dtype": "f8"
         },
         "yaxis": "y"
        },
        {
         "error_y": {
          "thickness": 5
         },
         "hovertemplate": "z_kkr_label=%{x}<br>pct=%{y}<br>cnt_pct_str=%{text}<extra></extra>",
         "legendgroup": "03-NI",
         "marker": {
          "color": "#2CA02C",
          "pattern": {
           "shape": ""
          }
         },
         "name": "03-NI",
         "orientation": "v",
         "showlegend": true,
         "text": [
          "6_646<br>(9.9%)"
         ],
         "textposition": "outside",
         "type": "bar",
         "x": [
          "03-NI"
         ],
         "xaxis": "x",
         "y": {
          "bdata": "U1z8A+dMuT8=",
          "dtype": "f8"
         },
         "yaxis": "y"
        },
        {
         "error_y": {
          "thickness": 5
         },
         "hovertemplate": "z_kkr_label=%{x}<br>pct=%{y}<br>cnt_pct_str=%{text}<extra></extra>",
         "legendgroup": "04-HB",
         "marker": {
          "color": "#D62728",
          "pattern": {
           "shape": ""
          }
         },
         "name": "04-HB",
         "orientation": "v",
         "showlegend": true,
         "text": [
          "914<br>(1.4%)"
         ],
         "textposition": "outside",
         "type": "bar",
         "x": [
          "04-HB"
         ],
         "xaxis": "x",
         "y": {
          "bdata": "KiGI//TViz8=",
          "dtype": "f8"
         },
         "yaxis": "y"
        },
        {
         "error_y": {
          "thickness": 5
         },
         "hovertemplate": "z_kkr_label=%{x}<br>pct=%{y}<br>cnt_pct_str=%{text}<extra></extra>",
         "legendgroup": "05-NW",
         "marker": {
          "color": "#9467BD",
          "pattern": {
           "shape": ""
          }
         },
         "name": "05-NW",
         "orientation": "v",
         "showlegend": true,
         "text": [
          "12_879<br>(19.2%)"
         ],
         "textposition": "outside",
         "type": "bar",
         "x": [
          "05-NW"
         ],
         "xaxis": "x",
         "y": {
          "bdata": "AMS+D6iDyD8=",
          "dtype": "f8"
         },
         "yaxis": "y"
        },
        {
         "error_y": {
          "thickness": 5
         },
         "hovertemplate": "z_kkr_label=%{x}<br>pct=%{y}<br>cnt_pct_str=%{text}<extra></extra>",
         "legendgroup": "06-HE",
         "marker": {
          "color": "#8C564B",
          "pattern": {
           "shape": ""
          }
         },
         "name": "06-HE",
         "orientation": "v",
         "showlegend": true,
         "text": [
          "3_928<br>(5.8%)"
         ],
         "textposition": "outside",
         "type": "bar",
         "x": [
          "06-HE"
         ],
         "xaxis": "x",
         "y": {
          "bdata": "g5vyoR3orT8=",
          "dtype": "f8"
         },
         "yaxis": "y"
        },
        {
         "error_y": {
          "thickness": 5
         },
         "hovertemplate": "z_kkr_label=%{x}<br>pct=%{y}<br>cnt_pct_str=%{text}<extra></extra>",
         "legendgroup": "07-RP",
         "marker": {
          "color": "#E377C2",
          "pattern": {
           "shape": ""
          }
         },
         "name": "07-RP",
         "orientation": "v",
         "showlegend": true,
         "text": [
          "3_672<br>(5.5%)"
         ],
         "textposition": "outside",
         "type": "bar",
         "x": [
          "07-RP"
         ],
         "xaxis": "x",
         "y": {
          "bdata": "qHOdkCT1qz8=",
          "dtype": "f8"
         },
         "yaxis": "y"
        },
        {
         "error_y": {
          "thickness": 5
         },
         "hovertemplate": "z_kkr_label=%{x}<br>pct=%{y}<br>cnt_pct_str=%{text}<extra></extra>",
         "legendgroup": "08-BW",
         "marker": {
          "color": "#7F7F7F",
          "pattern": {
           "shape": ""
          }
         },
         "name": "08-BW",
         "orientation": "v",
         "showlegend": true,
         "text": [
          "7_859<br>(11.7%)"
         ],
         "textposition": "outside",
         "type": "bar",
         "x": [
          "08-BW"
         ],
         "xaxis": "x",
         "y": {
          "bdata": "PpuMFwrrvT8=",
          "dtype": "f8"
         },
         "yaxis": "y"
        },
        {
         "error_y": {
          "thickness": 5
         },
         "hovertemplate": "z_kkr_label=%{x}<br>pct=%{y}<br>cnt_pct_str=%{text}<extra></extra>",
         "legendgroup": "09-BY",
         "marker": {
          "color": "#BCBD22",
          "pattern": {
           "shape": ""
          }
         },
         "name": "09-BY",
         "orientation": "v",
         "showlegend": true,
         "text": [
          "10_937<br>(16.3%)"
         ],
         "textposition": "outside",
         "type": "bar",
         "x": [
          "09-BY"
         ],
         "xaxis": "x",
         "y": {
          "bdata": "68RftVzRxD8=",
          "dtype": "f8"
         },
         "yaxis": "y"
        },
        {
         "error_y": {
          "thickness": 5
         },
         "hovertemplate": "z_kkr_label=%{x}<br>pct=%{y}<br>cnt_pct_str=%{text}<extra></extra>",
         "legendgroup": "10-SL",
         "marker": {
          "color": "#17BECF",
          "pattern": {
           "shape": ""
          }
         },
         "name": "10-SL",
         "orientation": "v",
         "showlegend": true,
         "text": [
          "485<br>(0.7%)"
         ],
         "textposition": "outside",
         "type": "bar",
         "x": [
          "10-SL"
         ],
         "xaxis": "x",
         "y": {
          "bdata": "CqSy7o6KfT8=",
          "dtype": "f8"
         },
         "yaxis": "y"
        },
        {
         "error_y": {
          "thickness": 5
         },
         "hovertemplate": "z_kkr_label=%{x}<br>pct=%{y}<br>cnt_pct_str=%{text}<extra></extra>",
         "legendgroup": "11-BE",
         "marker": {
          "color": "#1F77B4",
          "pattern": {
           "shape": ""
          }
         },
         "name": "11-BE",
         "orientation": "v",
         "showlegend": true,
         "text": [
          "2_949<br>(4.4%)"
         ],
         "textposition": "outside",
         "type": "bar",
         "x": [
          "11-BE"
         ],
         "xaxis": "x",
         "y": {
          "bdata": "GvSpJO9zpj8=",
          "dtype": "f8"
         },
         "yaxis": "y"
        },
        {
         "error_y": {
          "thickness": 5
         },
         "hovertemplate": "z_kkr_label=%{x}<br>pct=%{y}<br>cnt_pct_str=%{text}<extra></extra>",
         "legendgroup": "12-BB",
         "marker": {
          "color": "#FF7F0E",
          "pattern": {
           "shape": ""
          }
         },
         "name": "12-BB",
         "orientation": "v",
         "showlegend": true,
         "text": [
          "1_255<br>(1.9%)"
         ],
         "textposition": "outside",
         "type": "bar",
         "x": [
          "12-BB"
         ],
         "xaxis": "x",
         "y": {
          "bdata": "wuzwB0Yckz8=",
          "dtype": "f8"
         },
         "yaxis": "y"
        },
        {
         "error_y": {
          "thickness": 5
         },
         "hovertemplate": "z_kkr_label=%{x}<br>pct=%{y}<br>cnt_pct_str=%{text}<extra></extra>",
         "legendgroup": "13-MV",
         "marker": {
          "color": "#2CA02C",
          "pattern": {
           "shape": ""
          }
         },
         "name": "13-MV",
         "orientation": "v",
         "showlegend": true,
         "text": [
          "2_257<br>(3.4%)"
         ],
         "textposition": "outside",
         "type": "bar",
         "x": [
          "13-MV"
         ],
         "xaxis": "x",
         "y": {
          "bdata": "X8TP4SUvoT8=",
          "dtype": "f8"
         },
         "yaxis": "y"
        },
        {
         "error_y": {
          "thickness": 5
         },
         "hovertemplate": "z_kkr_label=%{x}<br>pct=%{y}<br>cnt_pct_str=%{text}<extra></extra>",
         "legendgroup": "14-SN",
         "marker": {
          "color": "#D62728",
          "pattern": {
           "shape": ""
          }
         },
         "name": "14-SN",
         "orientation": "v",
         "showlegend": true,
         "text": [
          "4_944<br>(7.4%)"
         ],
         "textposition": "outside",
         "type": "bar",
         "x": [
          "14-SN"
         ],
         "xaxis": "x",
         "y": {
          "bdata": "10heDzXSsj8=",
          "dtype": "f8"
         },
         "yaxis": "y"
        },
        {
         "error_y": {
          "thickness": 5
         },
         "hovertemplate": "z_kkr_label=%{x}<br>pct=%{y}<br>cnt_pct_str=%{text}<extra></extra>",
         "legendgroup": "15-ST",
         "marker": {
          "color": "#9467BD",
          "pattern": {
           "shape": ""
          }
         },
         "name": "15-ST",
         "orientation": "v",
         "showlegend": true,
         "text": [
          "1_202<br>(1.8%)"
         ],
         "textposition": "outside",
         "type": "bar",
         "x": [
          "15-ST"
         ],
         "xaxis": "x",
         "y": {
          "bdata": "QarD5qpNkj8=",
          "dtype": "f8"
         },
         "yaxis": "y"
        },
        {
         "error_y": {
          "thickness": 5
         },
         "hovertemplate": "z_kkr_label=%{x}<br>pct=%{y}<br>cnt_pct_str=%{text}<extra></extra>",
         "legendgroup": "16-TH",
         "marker": {
          "color": "#8C564B",
          "pattern": {
           "shape": ""
          }
         },
         "name": "16-TH",
         "orientation": "v",
         "showlegend": true,
         "text": [
          "980<br>(1.5%)"
         ],
         "textposition": "outside",
         "type": "bar",
         "x": [
          "16-TH"
         ],
         "xaxis": "x",
         "y": {
          "bdata": "RPJn2YXYjT8=",
          "dtype": "f8"
         },
         "yaxis": "y"
        }
       ],
       "layout": {
        "barmode": "relative",
        "height": 500,
        "legend": {
         "title": {
          "text": "z_kkr_label"
         },
         "tracegroupgap": 0
        },
        "showlegend": false,
        "template": {
         "data": {
          "bar": [
           {
            "error_x": {
             "color": "#f2f5fa"
            },
            "error_y": {
             "color": "#f2f5fa"
            },
            "marker": {
             "line": {
              "color": "rgb(17,17,17)",
              "width": 0.5
             },
             "pattern": {
              "fillmode": "overlay",
              "size": 10,
              "solidity": 0.2
             }
            },
            "type": "bar"
           }
          ],
          "barpolar": [
           {
            "marker": {
             "line": {
              "color": "rgb(17,17,17)",
              "width": 0.5
             },
             "pattern": {
              "fillmode": "overlay",
              "size": 10,
              "solidity": 0.2
             }
            },
            "type": "barpolar"
           }
          ],
          "carpet": [
           {
            "aaxis": {
             "endlinecolor": "#A2B1C6",
             "gridcolor": "#506784",
             "linecolor": "#506784",
             "minorgridcolor": "#506784",
             "startlinecolor": "#A2B1C6"
            },
            "baxis": {
             "endlinecolor": "#A2B1C6",
             "gridcolor": "#506784",
             "linecolor": "#506784",
             "minorgridcolor": "#506784",
             "startlinecolor": "#A2B1C6"
            },
            "type": "carpet"
           }
          ],
          "choropleth": [
           {
            "colorbar": {
             "outlinewidth": 0,
             "ticks": ""
            },
            "type": "choropleth"
           }
          ],
          "contour": [
           {
            "colorbar": {
             "outlinewidth": 0,
             "ticks": ""
            },
            "colorscale": [
             [
              0,
              "#0d0887"
             ],
             [
              0.1111111111111111,
              "#46039f"
             ],
             [
              0.2222222222222222,
              "#7201a8"
             ],
             [
              0.3333333333333333,
              "#9c179e"
             ],
             [
              0.4444444444444444,
              "#bd3786"
             ],
             [
              0.5555555555555556,
              "#d8576b"
             ],
             [
              0.6666666666666666,
              "#ed7953"
             ],
             [
              0.7777777777777778,
              "#fb9f3a"
             ],
             [
              0.8888888888888888,
              "#fdca26"
             ],
             [
              1,
              "#f0f921"
             ]
            ],
            "type": "contour"
           }
          ],
          "contourcarpet": [
           {
            "colorbar": {
             "outlinewidth": 0,
             "ticks": ""
            },
            "type": "contourcarpet"
           }
          ],
          "heatmap": [
           {
            "colorbar": {
             "outlinewidth": 0,
             "ticks": ""
            },
            "colorscale": [
             [
              0,
              "#0d0887"
             ],
             [
              0.1111111111111111,
              "#46039f"
             ],
             [
              0.2222222222222222,
              "#7201a8"
             ],
             [
              0.3333333333333333,
              "#9c179e"
             ],
             [
              0.4444444444444444,
              "#bd3786"
             ],
             [
              0.5555555555555556,
              "#d8576b"
             ],
             [
              0.6666666666666666,
              "#ed7953"
             ],
             [
              0.7777777777777778,
              "#fb9f3a"
             ],
             [
              0.8888888888888888,
              "#fdca26"
             ],
             [
              1,
              "#f0f921"
             ]
            ],
            "type": "heatmap"
           }
          ],
          "histogram": [
           {
            "marker": {
             "pattern": {
              "fillmode": "overlay",
              "size": 10,
              "solidity": 0.2
             }
            },
            "type": "histogram"
           }
          ],
          "histogram2d": [
           {
            "colorbar": {
             "outlinewidth": 0,
             "ticks": ""
            },
            "colorscale": [
             [
              0,
              "#0d0887"
             ],
             [
              0.1111111111111111,
              "#46039f"
             ],
             [
              0.2222222222222222,
              "#7201a8"
             ],
             [
              0.3333333333333333,
              "#9c179e"
             ],
             [
              0.4444444444444444,
              "#bd3786"
             ],
             [
              0.5555555555555556,
              "#d8576b"
             ],
             [
              0.6666666666666666,
              "#ed7953"
             ],
             [
              0.7777777777777778,
              "#fb9f3a"
             ],
             [
              0.8888888888888888,
              "#fdca26"
             ],
             [
              1,
              "#f0f921"
             ]
            ],
            "type": "histogram2d"
           }
          ],
          "histogram2dcontour": [
           {
            "colorbar": {
             "outlinewidth": 0,
             "ticks": ""
            },
            "colorscale": [
             [
              0,
              "#0d0887"
             ],
             [
              0.1111111111111111,
              "#46039f"
             ],
             [
              0.2222222222222222,
              "#7201a8"
             ],
             [
              0.3333333333333333,
              "#9c179e"
             ],
             [
              0.4444444444444444,
              "#bd3786"
             ],
             [
              0.5555555555555556,
              "#d8576b"
             ],
             [
              0.6666666666666666,
              "#ed7953"
             ],
             [
              0.7777777777777778,
              "#fb9f3a"
             ],
             [
              0.8888888888888888,
              "#fdca26"
             ],
             [
              1,
              "#f0f921"
             ]
            ],
            "type": "histogram2dcontour"
           }
          ],
          "mesh3d": [
           {
            "colorbar": {
             "outlinewidth": 0,
             "ticks": ""
            },
            "type": "mesh3d"
           }
          ],
          "parcoords": [
           {
            "line": {
             "colorbar": {
              "outlinewidth": 0,
              "ticks": ""
             }
            },
            "type": "parcoords"
           }
          ],
          "pie": [
           {
            "automargin": true,
            "type": "pie"
           }
          ],
          "scatter": [
           {
            "marker": {
             "line": {
              "color": "#283442"
             }
            },
            "type": "scatter"
           }
          ],
          "scatter3d": [
           {
            "line": {
             "colorbar": {
              "outlinewidth": 0,
              "ticks": ""
             }
            },
            "marker": {
             "colorbar": {
              "outlinewidth": 0,
              "ticks": ""
             }
            },
            "type": "scatter3d"
           }
          ],
          "scattercarpet": [
           {
            "marker": {
             "colorbar": {
              "outlinewidth": 0,
              "ticks": ""
             }
            },
            "type": "scattercarpet"
           }
          ],
          "scattergeo": [
           {
            "marker": {
             "colorbar": {
              "outlinewidth": 0,
              "ticks": ""
             }
            },
            "type": "scattergeo"
           }
          ],
          "scattergl": [
           {
            "marker": {
             "line": {
              "color": "#283442"
             }
            },
            "type": "scattergl"
           }
          ],
          "scattermap": [
           {
            "marker": {
             "colorbar": {
              "outlinewidth": 0,
              "ticks": ""
             }
            },
            "type": "scattermap"
           }
          ],
          "scattermapbox": [
           {
            "marker": {
             "colorbar": {
              "outlinewidth": 0,
              "ticks": ""
             }
            },
            "type": "scattermapbox"
           }
          ],
          "scatterpolar": [
           {
            "marker": {
             "colorbar": {
              "outlinewidth": 0,
              "ticks": ""
             }
            },
            "type": "scatterpolar"
           }
          ],
          "scatterpolargl": [
           {
            "marker": {
             "colorbar": {
              "outlinewidth": 0,
              "ticks": ""
             }
            },
            "type": "scatterpolargl"
           }
          ],
          "scatterternary": [
           {
            "marker": {
             "colorbar": {
              "outlinewidth": 0,
              "ticks": ""
             }
            },
            "type": "scatterternary"
           }
          ],
          "surface": [
           {
            "colorbar": {
             "outlinewidth": 0,
             "ticks": ""
            },
            "colorscale": [
             [
              0,
              "#0d0887"
             ],
             [
              0.1111111111111111,
              "#46039f"
             ],
             [
              0.2222222222222222,
              "#7201a8"
             ],
             [
              0.3333333333333333,
              "#9c179e"
             ],
             [
              0.4444444444444444,
              "#bd3786"
             ],
             [
              0.5555555555555556,
              "#d8576b"
             ],
             [
              0.6666666666666666,
              "#ed7953"
             ],
             [
              0.7777777777777778,
              "#fb9f3a"
             ],
             [
              0.8888888888888888,
              "#fdca26"
             ],
             [
              1,
              "#f0f921"
             ]
            ],
            "type": "surface"
           }
          ],
          "table": [
           {
            "cells": {
             "fill": {
              "color": "#506784"
             },
             "line": {
              "color": "rgb(17,17,17)"
             }
            },
            "header": {
             "fill": {
              "color": "#2a3f5f"
             },
             "line": {
              "color": "rgb(17,17,17)"
             }
            },
            "type": "table"
           }
          ]
         },
         "layout": {
          "annotationdefaults": {
           "arrowcolor": "#f2f5fa",
           "arrowhead": 0,
           "arrowwidth": 1
          },
          "autotypenumbers": "strict",
          "coloraxis": {
           "colorbar": {
            "outlinewidth": 0,
            "ticks": ""
           }
          },
          "colorscale": {
           "diverging": [
            [
             0,
             "#8e0152"
            ],
            [
             0.1,
             "#c51b7d"
            ],
            [
             0.2,
             "#de77ae"
            ],
            [
             0.3,
             "#f1b6da"
            ],
            [
             0.4,
             "#fde0ef"
            ],
            [
             0.5,
             "#f7f7f7"
            ],
            [
             0.6,
             "#e6f5d0"
            ],
            [
             0.7,
             "#b8e186"
            ],
            [
             0.8,
             "#7fbc41"
            ],
            [
             0.9,
             "#4d9221"
            ],
            [
             1,
             "#276419"
            ]
           ],
           "sequential": [
            [
             0,
             "#0d0887"
            ],
            [
             0.1111111111111111,
             "#46039f"
            ],
            [
             0.2222222222222222,
             "#7201a8"
            ],
            [
             0.3333333333333333,
             "#9c179e"
            ],
            [
             0.4444444444444444,
             "#bd3786"
            ],
            [
             0.5555555555555556,
             "#d8576b"
            ],
            [
             0.6666666666666666,
             "#ed7953"
            ],
            [
             0.7777777777777778,
             "#fb9f3a"
            ],
            [
             0.8888888888888888,
             "#fdca26"
            ],
            [
             1,
             "#f0f921"
            ]
           ],
           "sequentialminus": [
            [
             0,
             "#0d0887"
            ],
            [
             0.1111111111111111,
             "#46039f"
            ],
            [
             0.2222222222222222,
             "#7201a8"
            ],
            [
             0.3333333333333333,
             "#9c179e"
            ],
            [
             0.4444444444444444,
             "#bd3786"
            ],
            [
             0.5555555555555556,
             "#d8576b"
            ],
            [
             0.6666666666666666,
             "#ed7953"
            ],
            [
             0.7777777777777778,
             "#fb9f3a"
            ],
            [
             0.8888888888888888,
             "#fdca26"
            ],
            [
             1,
             "#f0f921"
            ]
           ]
          },
          "colorway": [
           "#636efa",
           "#EF553B",
           "#00cc96",
           "#ab63fa",
           "#FFA15A",
           "#19d3f3",
           "#FF6692",
           "#B6E880",
           "#FF97FF",
           "#FECB52"
          ],
          "font": {
           "color": "#f2f5fa"
          },
          "geo": {
           "bgcolor": "rgb(17,17,17)",
           "lakecolor": "rgb(17,17,17)",
           "landcolor": "rgb(17,17,17)",
           "showlakes": true,
           "showland": true,
           "subunitcolor": "#506784"
          },
          "hoverlabel": {
           "align": "left"
          },
          "hovermode": "closest",
          "mapbox": {
           "style": "dark"
          },
          "paper_bgcolor": "rgb(17,17,17)",
          "plot_bgcolor": "rgb(17,17,17)",
          "polar": {
           "angularaxis": {
            "gridcolor": "#506784",
            "linecolor": "#506784",
            "ticks": ""
           },
           "bgcolor": "rgb(17,17,17)",
           "radialaxis": {
            "gridcolor": "#506784",
            "linecolor": "#506784",
            "ticks": ""
           }
          },
          "scene": {
           "xaxis": {
            "backgroundcolor": "rgb(17,17,17)",
            "gridcolor": "#506784",
            "gridwidth": 2,
            "linecolor": "#506784",
            "showbackground": true,
            "ticks": "",
            "zerolinecolor": "#C8D4E3"
           },
           "yaxis": {
            "backgroundcolor": "rgb(17,17,17)",
            "gridcolor": "#506784",
            "gridwidth": 2,
            "linecolor": "#506784",
            "showbackground": true,
            "ticks": "",
            "zerolinecolor": "#C8D4E3"
           },
           "zaxis": {
            "backgroundcolor": "rgb(17,17,17)",
            "gridcolor": "#506784",
            "gridwidth": 2,
            "linecolor": "#506784",
            "showbackground": true,
            "ticks": "",
            "zerolinecolor": "#C8D4E3"
           }
          },
          "shapedefaults": {
           "line": {
            "color": "#f2f5fa"
           }
          },
          "sliderdefaults": {
           "bgcolor": "#C8D4E3",
           "bordercolor": "rgb(17,17,17)",
           "borderwidth": 1,
           "tickwidth": 0
          },
          "ternary": {
           "aaxis": {
            "gridcolor": "#506784",
            "linecolor": "#506784",
            "ticks": ""
           },
           "baxis": {
            "gridcolor": "#506784",
            "linecolor": "#506784",
            "ticks": ""
           },
           "bgcolor": "rgb(17,17,17)",
           "caxis": {
            "gridcolor": "#506784",
            "linecolor": "#506784",
            "ticks": ""
           }
          },
          "title": {
           "x": 0.05
          },
          "updatemenudefaults": {
           "bgcolor": "#506784",
           "borderwidth": 0
          },
          "xaxis": {
           "automargin": true,
           "gridcolor": "#283442",
           "linecolor": "#506784",
           "ticks": "",
           "title": {
            "standoff": 15
           },
           "zerolinecolor": "#283442",
           "zerolinewidth": 2
          },
          "yaxis": {
           "automargin": true,
           "gridcolor": "#283442",
           "linecolor": "#506784",
           "ticks": "",
           "title": {
            "standoff": 15
           },
           "zerolinecolor": "#283442",
           "zerolinewidth": 2
          }
         }
        },
        "title": {
         "font": {
          "size": 24
         },
         "text": "[z_first_treatment_after_days] by [z_kkr_label], n=1_687 (67_247)",
         "xanchor": "left",
         "y": 0.95,
         "yanchor": "top"
        },
        "width": 1600,
        "xaxis": {
         "anchor": "y",
         "categoryarray": [
          "01-SH",
          "02-HH",
          "03-NI",
          "04-HB",
          "05-NW",
          "06-HE",
          "07-RP",
          "08-BW",
          "09-BY",
          "10-SL",
          "11-BE",
          "12-BB",
          "13-MV",
          "14-SN",
          "15-ST",
          "16-TH"
         ],
         "categoryorder": "category ascending",
         "domain": [
          0,
          1
         ],
         "gridwidth": 1,
         "showgrid": true,
         "title": {
          "text": "z_kkr_label"
         }
        },
        "yaxis": {
         "anchor": "x",
         "domain": [
          0,
          1
         ],
         "dtick": 0.05,
         "gridwidth": 1,
         "range": [
          0,
          0.22120310199711513
         ],
         "showgrid": true,
         "title": {
          "text": "pct"
         }
        }
       }
      }
     },
     "metadata": {},
     "output_type": "display_data"
    },
    {
     "data": {
      "application/vnd.plotly.v1+json": {
       "config": {
        "plotlyServerURL": "https://plot.ly"
       },
       "data": [
        {
         "error_y": {
          "array": {
           "bdata": "AAAAAAAAGkA=",
           "dtype": "f8"
          },
          "thickness": 5
         },
         "hovertemplate": "z_kkr_label=%{x}<br>mean=%{y}<br>ci_str=%{text}<extra></extra>",
         "insidetextanchor": "start",
         "legendgroup": "01-SH",
         "marker": {
          "color": "#1F77B4",
          "pattern": {
           "shape": ""
          }
         },
         "name": "01-SH",
         "orientation": "v",
         "showlegend": true,
         "text": [
          "34<br>[28;41]"
         ],
         "textfont": {
          "color": "white",
          "size": 14
         },
         "textposition": "inside",
         "type": "bar",
         "x": [
          "01-SH"
         ],
         "xaxis": "x",
         "y": {
          "bdata": "AAAAAABAQUA=",
          "dtype": "f8"
         },
         "yaxis": "y"
        },
        {
         "error_y": {
          "array": {
           "bdata": "AAAAAAAALEA=",
           "dtype": "f8"
          },
          "thickness": 5
         },
         "hovertemplate": "z_kkr_label=%{x}<br>mean=%{y}<br>ci_str=%{text}<extra></extra>",
         "insidetextanchor": "start",
         "legendgroup": "02-HH",
         "marker": {
          "color": "#FF7F0E",
          "pattern": {
           "shape": ""
          }
         },
         "name": "02-HH",
         "orientation": "v",
         "showlegend": true,
         "text": [
          "26<br>[12;40]"
         ],
         "textfont": {
          "color": "white",
          "size": 14
         },
         "textposition": "inside",
         "type": "bar",
         "x": [
          "02-HH"
         ],
         "xaxis": "x",
         "y": {
          "bdata": "AAAAAAAAOkA=",
          "dtype": "f8"
         },
         "yaxis": "y"
        },
        {
         "error_y": {
          "array": {
           "bdata": "AAAAAAAADkA=",
           "dtype": "f8"
          },
          "thickness": 5
         },
         "hovertemplate": "z_kkr_label=%{x}<br>mean=%{y}<br>ci_str=%{text}<extra></extra>",
         "insidetextanchor": "start",
         "legendgroup": "03-NI",
         "marker": {
          "color": "#2CA02C",
          "pattern": {
           "shape": ""
          }
         },
         "name": "03-NI",
         "orientation": "v",
         "showlegend": true,
         "text": [
          "34<br>[30;38]"
         ],
         "textfont": {
          "color": "white",
          "size": 14
         },
         "textposition": "inside",
         "type": "bar",
         "x": [
          "03-NI"
         ],
         "xaxis": "x",
         "y": {
          "bdata": "AAAAAAAAQUA=",
          "dtype": "f8"
         },
         "yaxis": "y"
        },
        {
         "error_y": {
          "array": {
           "bdata": "AAAAAAAgQUA=",
           "dtype": "f8"
          },
          "thickness": 5
         },
         "hovertemplate": "z_kkr_label=%{x}<br>mean=%{y}<br>ci_str=%{text}<extra></extra>",
         "insidetextanchor": "start",
         "legendgroup": "04-HB",
         "marker": {
          "color": "#D62728",
          "pattern": {
           "shape": ""
          }
         },
         "name": "04-HB",
         "orientation": "v",
         "showlegend": true,
         "text": [
          "31<br>[-3;65]"
         ],
         "textfont": {
          "color": "white",
          "size": 14
         },
         "textposition": "inside",
         "type": "bar",
         "x": [
          "04-HB"
         ],
         "xaxis": "x",
         "y": {
          "bdata": "AAAAAAAAP0A=",
          "dtype": "f8"
         },
         "yaxis": "y"
        },
        {
         "error_y": {
          "array": {
           "bdata": "AAAAAAAADEA=",
           "dtype": "f8"
          },
          "thickness": 5
         },
         "hovertemplate": "z_kkr_label=%{x}<br>mean=%{y}<br>ci_str=%{text}<extra></extra>",
         "insidetextanchor": "start",
         "legendgroup": "05-NW",
         "marker": {
          "color": "#9467BD",
          "pattern": {
           "shape": ""
          }
         },
         "name": "05-NW",
         "orientation": "v",
         "showlegend": true,
         "text": [
          "22<br>[19;26]"
         ],
         "textfont": {
          "color": "white",
          "size": 14
         },
         "textposition": "inside",
         "type": "bar",
         "x": [
          "05-NW"
         ],
         "xaxis": "x",
         "y": {
          "bdata": "AAAAAACANkA=",
          "dtype": "f8"
         },
         "yaxis": "y"
        },
        {
         "error_y": {
          "array": {
           "bdata": "AAAAAAAADEA=",
           "dtype": "f8"
          },
          "thickness": 5
         },
         "hovertemplate": "z_kkr_label=%{x}<br>mean=%{y}<br>ci_str=%{text}<extra></extra>",
         "insidetextanchor": "start",
         "legendgroup": "06-HE",
         "marker": {
          "color": "#8C564B",
          "pattern": {
           "shape": ""
          }
         },
         "name": "06-HE",
         "orientation": "v",
         "showlegend": true,
         "text": [
          "26<br>[22;30]"
         ],
         "textfont": {
          "color": "white",
          "size": 14
         },
         "textposition": "inside",
         "type": "bar",
         "x": [
          "06-HE"
         ],
         "xaxis": "x",
         "y": {
          "bdata": "AAAAAAAAOkA=",
          "dtype": "f8"
         },
         "yaxis": "y"
        },
        {
         "error_y": {
          "array": {
           "bdata": "AAAAAACALkA=",
           "dtype": "f8"
          },
          "thickness": 5
         },
         "hovertemplate": "z_kkr_label=%{x}<br>mean=%{y}<br>ci_str=%{text}<extra></extra>",
         "insidetextanchor": "start",
         "legendgroup": "07-RP",
         "marker": {
          "color": "#E377C2",
          "pattern": {
           "shape": ""
          }
         },
         "name": "07-RP",
         "orientation": "v",
         "showlegend": true,
         "text": [
          "35<br>[20;50]"
         ],
         "textfont": {
          "color": "white",
          "size": 14
         },
         "textposition": "inside",
         "type": "bar",
         "x": [
          "07-RP"
         ],
         "xaxis": "x",
         "y": {
          "bdata": "AAAAAACAQUA=",
          "dtype": "f8"
         },
         "yaxis": "y"
        },
        {
         "error_y": {
          "array": {
           "bdata": "AAAAAAAADEA=",
           "dtype": "f8"
          },
          "thickness": 5
         },
         "hovertemplate": "z_kkr_label=%{x}<br>mean=%{y}<br>ci_str=%{text}<extra></extra>",
         "insidetextanchor": "start",
         "legendgroup": "08-BW",
         "marker": {
          "color": "#7F7F7F",
          "pattern": {
           "shape": ""
          }
         },
         "name": "08-BW",
         "orientation": "v",
         "showlegend": true,
         "text": [
          "21<br>[18;24]"
         ],
         "textfont": {
          "color": "white",
          "size": 14
         },
         "textposition": "inside",
         "type": "bar",
         "x": [
          "08-BW"
         ],
         "xaxis": "x",
         "y": {
          "bdata": "AAAAAAAANUA=",
          "dtype": "f8"
         },
         "yaxis": "y"
        },
        {
         "error_y": {
          "array": {
           "bdata": "wMzMzMwMEEA=",
           "dtype": "f8"
          },
          "thickness": 5
         },
         "hovertemplate": "z_kkr_label=%{x}<br>mean=%{y}<br>ci_str=%{text}<extra></extra>",
         "insidetextanchor": "start",
         "legendgroup": "09-BY",
         "marker": {
          "color": "#BCBD22",
          "pattern": {
           "shape": ""
          }
         },
         "name": "09-BY",
         "orientation": "v",
         "showlegend": true,
         "text": [
          "33<br>[29;37]"
         ],
         "textfont": {
          "color": "white",
          "size": 14
         },
         "textposition": "inside",
         "type": "bar",
         "x": [
          "09-BY"
         ],
         "xaxis": "x",
         "y": {
          "bdata": "AAAAAACAQEA=",
          "dtype": "f8"
         },
         "yaxis": "y"
        },
        {
         "error_y": {
          "array": {
           "bdata": "AAAAAACAMUA=",
           "dtype": "f8"
          },
          "thickness": 5
         },
         "hovertemplate": "z_kkr_label=%{x}<br>mean=%{y}<br>ci_str=%{text}<extra></extra>",
         "insidetextanchor": "start",
         "legendgroup": "10-SL",
         "marker": {
          "color": "#17BECF",
          "pattern": {
           "shape": ""
          }
         },
         "name": "10-SL",
         "orientation": "v",
         "showlegend": true,
         "text": [
          "28<br>[10;46]"
         ],
         "textfont": {
          "color": "white",
          "size": 14
         },
         "textposition": "inside",
         "type": "bar",
         "x": [
          "10-SL"
         ],
         "xaxis": "x",
         "y": {
          "bdata": "AAAAAAAAPEA=",
          "dtype": "f8"
         },
         "yaxis": "y"
        },
        {
         "error_y": {
          "array": {
           "bdata": "AAAAAAAAFkA=",
           "dtype": "f8"
          },
          "thickness": 5
         },
         "hovertemplate": "z_kkr_label=%{x}<br>mean=%{y}<br>ci_str=%{text}<extra></extra>",
         "insidetextanchor": "start",
         "legendgroup": "11-BE",
         "marker": {
          "color": "#1F77B4",
          "pattern": {
           "shape": ""
          }
         },
         "name": "11-BE",
         "orientation": "v",
         "showlegend": true,
         "text": [
          "28<br>[22;34]"
         ],
         "textfont": {
          "color": "white",
          "size": 14
         },
         "textposition": "inside",
         "type": "bar",
         "x": [
          "11-BE"
         ],
         "xaxis": "x",
         "y": {
          "bdata": "AAAAAAAAPEA=",
          "dtype": "f8"
         },
         "yaxis": "y"
        },
        {
         "error_y": {
          "array": {
           "bdata": "AAAAAAAADEA=",
           "dtype": "f8"
          },
          "thickness": 5
         },
         "hovertemplate": "z_kkr_label=%{x}<br>mean=%{y}<br>ci_str=%{text}<extra></extra>",
         "insidetextanchor": "start",
         "legendgroup": "12-BB",
         "marker": {
          "color": "#FF7F0E",
          "pattern": {
           "shape": ""
          }
         },
         "name": "12-BB",
         "orientation": "v",
         "showlegend": true,
         "text": [
          "21<br>[18;24]"
         ],
         "textfont": {
          "color": "white",
          "size": 14
         },
         "textposition": "inside",
         "type": "bar",
         "x": [
          "12-BB"
         ],
         "xaxis": "x",
         "y": {
          "bdata": "AAAAAAAANUA=",
          "dtype": "f8"
         },
         "yaxis": "y"
        },
        {
         "error_y": {
          "array": {
           "bdata": "AAAAAAAAKUA=",
           "dtype": "f8"
          },
          "thickness": 5
         },
         "hovertemplate": "z_kkr_label=%{x}<br>mean=%{y}<br>ci_str=%{text}<extra></extra>",
         "insidetextanchor": "start",
         "legendgroup": "13-MV",
         "marker": {
          "color": "#2CA02C",
          "pattern": {
           "shape": ""
          }
         },
         "name": "13-MV",
         "orientation": "v",
         "showlegend": true,
         "text": [
          "33<br>[20;46]"
         ],
         "textfont": {
          "color": "white",
          "size": 14
         },
         "textposition": "inside",
         "type": "bar",
         "x": [
          "13-MV"
         ],
         "xaxis": "x",
         "y": {
          "bdata": "AAAAAACAQEA=",
          "dtype": "f8"
         },
         "yaxis": "y"
        },
        {
         "error_y": {
          "array": {
           "bdata": "AAAAAAAAFUA=",
           "dtype": "f8"
          },
          "thickness": 5
         },
         "hovertemplate": "z_kkr_label=%{x}<br>mean=%{y}<br>ci_str=%{text}<extra></extra>",
         "insidetextanchor": "start",
         "legendgroup": "14-SN",
         "marker": {
          "color": "#D62728",
          "pattern": {
           "shape": ""
          }
         },
         "name": "14-SN",
         "orientation": "v",
         "showlegend": true,
         "text": [
          "30<br>[25;35]"
         ],
         "textfont": {
          "color": "white",
          "size": 14
         },
         "textposition": "inside",
         "type": "bar",
         "x": [
          "14-SN"
         ],
         "xaxis": "x",
         "y": {
          "bdata": "AAAAAAAAPkA=",
          "dtype": "f8"
         },
         "yaxis": "y"
        },
        {
         "error_y": {
          "array": {
           "bdata": "AAAAAAAAI0A=",
           "dtype": "f8"
          },
          "thickness": 5
         },
         "hovertemplate": "z_kkr_label=%{x}<br>mean=%{y}<br>ci_str=%{text}<extra></extra>",
         "insidetextanchor": "start",
         "legendgroup": "15-ST",
         "marker": {
          "color": "#9467BD",
          "pattern": {
           "shape": ""
          }
         },
         "name": "15-ST",
         "orientation": "v",
         "showlegend": true,
         "text": [
          "34<br>[24;44]"
         ],
         "textfont": {
          "color": "white",
          "size": 14
         },
         "textposition": "inside",
         "type": "bar",
         "x": [
          "15-ST"
         ],
         "xaxis": "x",
         "y": {
          "bdata": "AAAAAAAAQUA=",
          "dtype": "f8"
         },
         "yaxis": "y"
        },
        {
         "error_y": {
          "array": {
           "bdata": "MDMzMzODJ0A=",
           "dtype": "f8"
          },
          "thickness": 5
         },
         "hovertemplate": "z_kkr_label=%{x}<br>mean=%{y}<br>ci_str=%{text}<extra></extra>",
         "insidetextanchor": "start",
         "legendgroup": "16-TH",
         "marker": {
          "color": "#8C564B",
          "pattern": {
           "shape": ""
          }
         },
         "name": "16-TH",
         "orientation": "v",
         "showlegend": true,
         "text": [
          "22<br>[10;34]"
         ],
         "textfont": {
          "color": "white",
          "size": 14
         },
         "textposition": "inside",
         "type": "bar",
         "x": [
          "16-TH"
         ],
         "xaxis": "x",
         "y": {
          "bdata": "AAAAAAAANkA=",
          "dtype": "f8"
         },
         "yaxis": "y"
        }
       ],
       "layout": {
        "barmode": "relative",
        "height": 600,
        "legend": {
         "title": {
          "text": "z_kkr_label"
         },
         "tracegroupgap": 0
        },
        "showlegend": false,
        "template": {
         "data": {
          "bar": [
           {
            "error_x": {
             "color": "#f2f5fa"
            },
            "error_y": {
             "color": "#f2f5fa"
            },
            "marker": {
             "line": {
              "color": "rgb(17,17,17)",
              "width": 0.5
             },
             "pattern": {
              "fillmode": "overlay",
              "size": 10,
              "solidity": 0.2
             }
            },
            "type": "bar"
           }
          ],
          "barpolar": [
           {
            "marker": {
             "line": {
              "color": "rgb(17,17,17)",
              "width": 0.5
             },
             "pattern": {
              "fillmode": "overlay",
              "size": 10,
              "solidity": 0.2
             }
            },
            "type": "barpolar"
           }
          ],
          "carpet": [
           {
            "aaxis": {
             "endlinecolor": "#A2B1C6",
             "gridcolor": "#506784",
             "linecolor": "#506784",
             "minorgridcolor": "#506784",
             "startlinecolor": "#A2B1C6"
            },
            "baxis": {
             "endlinecolor": "#A2B1C6",
             "gridcolor": "#506784",
             "linecolor": "#506784",
             "minorgridcolor": "#506784",
             "startlinecolor": "#A2B1C6"
            },
            "type": "carpet"
           }
          ],
          "choropleth": [
           {
            "colorbar": {
             "outlinewidth": 0,
             "ticks": ""
            },
            "type": "choropleth"
           }
          ],
          "contour": [
           {
            "colorbar": {
             "outlinewidth": 0,
             "ticks": ""
            },
            "colorscale": [
             [
              0,
              "#0d0887"
             ],
             [
              0.1111111111111111,
              "#46039f"
             ],
             [
              0.2222222222222222,
              "#7201a8"
             ],
             [
              0.3333333333333333,
              "#9c179e"
             ],
             [
              0.4444444444444444,
              "#bd3786"
             ],
             [
              0.5555555555555556,
              "#d8576b"
             ],
             [
              0.6666666666666666,
              "#ed7953"
             ],
             [
              0.7777777777777778,
              "#fb9f3a"
             ],
             [
              0.8888888888888888,
              "#fdca26"
             ],
             [
              1,
              "#f0f921"
             ]
            ],
            "type": "contour"
           }
          ],
          "contourcarpet": [
           {
            "colorbar": {
             "outlinewidth": 0,
             "ticks": ""
            },
            "type": "contourcarpet"
           }
          ],
          "heatmap": [
           {
            "colorbar": {
             "outlinewidth": 0,
             "ticks": ""
            },
            "colorscale": [
             [
              0,
              "#0d0887"
             ],
             [
              0.1111111111111111,
              "#46039f"
             ],
             [
              0.2222222222222222,
              "#7201a8"
             ],
             [
              0.3333333333333333,
              "#9c179e"
             ],
             [
              0.4444444444444444,
              "#bd3786"
             ],
             [
              0.5555555555555556,
              "#d8576b"
             ],
             [
              0.6666666666666666,
              "#ed7953"
             ],
             [
              0.7777777777777778,
              "#fb9f3a"
             ],
             [
              0.8888888888888888,
              "#fdca26"
             ],
             [
              1,
              "#f0f921"
             ]
            ],
            "type": "heatmap"
           }
          ],
          "histogram": [
           {
            "marker": {
             "pattern": {
              "fillmode": "overlay",
              "size": 10,
              "solidity": 0.2
             }
            },
            "type": "histogram"
           }
          ],
          "histogram2d": [
           {
            "colorbar": {
             "outlinewidth": 0,
             "ticks": ""
            },
            "colorscale": [
             [
              0,
              "#0d0887"
             ],
             [
              0.1111111111111111,
              "#46039f"
             ],
             [
              0.2222222222222222,
              "#7201a8"
             ],
             [
              0.3333333333333333,
              "#9c179e"
             ],
             [
              0.4444444444444444,
              "#bd3786"
             ],
             [
              0.5555555555555556,
              "#d8576b"
             ],
             [
              0.6666666666666666,
              "#ed7953"
             ],
             [
              0.7777777777777778,
              "#fb9f3a"
             ],
             [
              0.8888888888888888,
              "#fdca26"
             ],
             [
              1,
              "#f0f921"
             ]
            ],
            "type": "histogram2d"
           }
          ],
          "histogram2dcontour": [
           {
            "colorbar": {
             "outlinewidth": 0,
             "ticks": ""
            },
            "colorscale": [
             [
              0,
              "#0d0887"
             ],
             [
              0.1111111111111111,
              "#46039f"
             ],
             [
              0.2222222222222222,
              "#7201a8"
             ],
             [
              0.3333333333333333,
              "#9c179e"
             ],
             [
              0.4444444444444444,
              "#bd3786"
             ],
             [
              0.5555555555555556,
              "#d8576b"
             ],
             [
              0.6666666666666666,
              "#ed7953"
             ],
             [
              0.7777777777777778,
              "#fb9f3a"
             ],
             [
              0.8888888888888888,
              "#fdca26"
             ],
             [
              1,
              "#f0f921"
             ]
            ],
            "type": "histogram2dcontour"
           }
          ],
          "mesh3d": [
           {
            "colorbar": {
             "outlinewidth": 0,
             "ticks": ""
            },
            "type": "mesh3d"
           }
          ],
          "parcoords": [
           {
            "line": {
             "colorbar": {
              "outlinewidth": 0,
              "ticks": ""
             }
            },
            "type": "parcoords"
           }
          ],
          "pie": [
           {
            "automargin": true,
            "type": "pie"
           }
          ],
          "scatter": [
           {
            "marker": {
             "line": {
              "color": "#283442"
             }
            },
            "type": "scatter"
           }
          ],
          "scatter3d": [
           {
            "line": {
             "colorbar": {
              "outlinewidth": 0,
              "ticks": ""
             }
            },
            "marker": {
             "colorbar": {
              "outlinewidth": 0,
              "ticks": ""
             }
            },
            "type": "scatter3d"
           }
          ],
          "scattercarpet": [
           {
            "marker": {
             "colorbar": {
              "outlinewidth": 0,
              "ticks": ""
             }
            },
            "type": "scattercarpet"
           }
          ],
          "scattergeo": [
           {
            "marker": {
             "colorbar": {
              "outlinewidth": 0,
              "ticks": ""
             }
            },
            "type": "scattergeo"
           }
          ],
          "scattergl": [
           {
            "marker": {
             "line": {
              "color": "#283442"
             }
            },
            "type": "scattergl"
           }
          ],
          "scattermap": [
           {
            "marker": {
             "colorbar": {
              "outlinewidth": 0,
              "ticks": ""
             }
            },
            "type": "scattermap"
           }
          ],
          "scattermapbox": [
           {
            "marker": {
             "colorbar": {
              "outlinewidth": 0,
              "ticks": ""
             }
            },
            "type": "scattermapbox"
           }
          ],
          "scatterpolar": [
           {
            "marker": {
             "colorbar": {
              "outlinewidth": 0,
              "ticks": ""
             }
            },
            "type": "scatterpolar"
           }
          ],
          "scatterpolargl": [
           {
            "marker": {
             "colorbar": {
              "outlinewidth": 0,
              "ticks": ""
             }
            },
            "type": "scatterpolargl"
           }
          ],
          "scatterternary": [
           {
            "marker": {
             "colorbar": {
              "outlinewidth": 0,
              "ticks": ""
             }
            },
            "type": "scatterternary"
           }
          ],
          "surface": [
           {
            "colorbar": {
             "outlinewidth": 0,
             "ticks": ""
            },
            "colorscale": [
             [
              0,
              "#0d0887"
             ],
             [
              0.1111111111111111,
              "#46039f"
             ],
             [
              0.2222222222222222,
              "#7201a8"
             ],
             [
              0.3333333333333333,
              "#9c179e"
             ],
             [
              0.4444444444444444,
              "#bd3786"
             ],
             [
              0.5555555555555556,
              "#d8576b"
             ],
             [
              0.6666666666666666,
              "#ed7953"
             ],
             [
              0.7777777777777778,
              "#fb9f3a"
             ],
             [
              0.8888888888888888,
              "#fdca26"
             ],
             [
              1,
              "#f0f921"
             ]
            ],
            "type": "surface"
           }
          ],
          "table": [
           {
            "cells": {
             "fill": {
              "color": "#506784"
             },
             "line": {
              "color": "rgb(17,17,17)"
             }
            },
            "header": {
             "fill": {
              "color": "#2a3f5f"
             },
             "line": {
              "color": "rgb(17,17,17)"
             }
            },
            "type": "table"
           }
          ]
         },
         "layout": {
          "annotationdefaults": {
           "arrowcolor": "#f2f5fa",
           "arrowhead": 0,
           "arrowwidth": 1
          },
          "autotypenumbers": "strict",
          "coloraxis": {
           "colorbar": {
            "outlinewidth": 0,
            "ticks": ""
           }
          },
          "colorscale": {
           "diverging": [
            [
             0,
             "#8e0152"
            ],
            [
             0.1,
             "#c51b7d"
            ],
            [
             0.2,
             "#de77ae"
            ],
            [
             0.3,
             "#f1b6da"
            ],
            [
             0.4,
             "#fde0ef"
            ],
            [
             0.5,
             "#f7f7f7"
            ],
            [
             0.6,
             "#e6f5d0"
            ],
            [
             0.7,
             "#b8e186"
            ],
            [
             0.8,
             "#7fbc41"
            ],
            [
             0.9,
             "#4d9221"
            ],
            [
             1,
             "#276419"
            ]
           ],
           "sequential": [
            [
             0,
             "#0d0887"
            ],
            [
             0.1111111111111111,
             "#46039f"
            ],
            [
             0.2222222222222222,
             "#7201a8"
            ],
            [
             0.3333333333333333,
             "#9c179e"
            ],
            [
             0.4444444444444444,
             "#bd3786"
            ],
            [
             0.5555555555555556,
             "#d8576b"
            ],
            [
             0.6666666666666666,
             "#ed7953"
            ],
            [
             0.7777777777777778,
             "#fb9f3a"
            ],
            [
             0.8888888888888888,
             "#fdca26"
            ],
            [
             1,
             "#f0f921"
            ]
           ],
           "sequentialminus": [
            [
             0,
             "#0d0887"
            ],
            [
             0.1111111111111111,
             "#46039f"
            ],
            [
             0.2222222222222222,
             "#7201a8"
            ],
            [
             0.3333333333333333,
             "#9c179e"
            ],
            [
             0.4444444444444444,
             "#bd3786"
            ],
            [
             0.5555555555555556,
             "#d8576b"
            ],
            [
             0.6666666666666666,
             "#ed7953"
            ],
            [
             0.7777777777777778,
             "#fb9f3a"
            ],
            [
             0.8888888888888888,
             "#fdca26"
            ],
            [
             1,
             "#f0f921"
            ]
           ]
          },
          "colorway": [
           "#636efa",
           "#EF553B",
           "#00cc96",
           "#ab63fa",
           "#FFA15A",
           "#19d3f3",
           "#FF6692",
           "#B6E880",
           "#FF97FF",
           "#FECB52"
          ],
          "font": {
           "color": "#f2f5fa"
          },
          "geo": {
           "bgcolor": "rgb(17,17,17)",
           "lakecolor": "rgb(17,17,17)",
           "landcolor": "rgb(17,17,17)",
           "showlakes": true,
           "showland": true,
           "subunitcolor": "#506784"
          },
          "hoverlabel": {
           "align": "left"
          },
          "hovermode": "closest",
          "mapbox": {
           "style": "dark"
          },
          "paper_bgcolor": "rgb(17,17,17)",
          "plot_bgcolor": "rgb(17,17,17)",
          "polar": {
           "angularaxis": {
            "gridcolor": "#506784",
            "linecolor": "#506784",
            "ticks": ""
           },
           "bgcolor": "rgb(17,17,17)",
           "radialaxis": {
            "gridcolor": "#506784",
            "linecolor": "#506784",
            "ticks": ""
           }
          },
          "scene": {
           "xaxis": {
            "backgroundcolor": "rgb(17,17,17)",
            "gridcolor": "#506784",
            "gridwidth": 2,
            "linecolor": "#506784",
            "showbackground": true,
            "ticks": "",
            "zerolinecolor": "#C8D4E3"
           },
           "yaxis": {
            "backgroundcolor": "rgb(17,17,17)",
            "gridcolor": "#506784",
            "gridwidth": 2,
            "linecolor": "#506784",
            "showbackground": true,
            "ticks": "",
            "zerolinecolor": "#C8D4E3"
           },
           "zaxis": {
            "backgroundcolor": "rgb(17,17,17)",
            "gridcolor": "#506784",
            "gridwidth": 2,
            "linecolor": "#506784",
            "showbackground": true,
            "ticks": "",
            "zerolinecolor": "#C8D4E3"
           }
          },
          "shapedefaults": {
           "line": {
            "color": "#f2f5fa"
           }
          },
          "sliderdefaults": {
           "bgcolor": "#C8D4E3",
           "bordercolor": "rgb(17,17,17)",
           "borderwidth": 1,
           "tickwidth": 0
          },
          "ternary": {
           "aaxis": {
            "gridcolor": "#506784",
            "linecolor": "#506784",
            "ticks": ""
           },
           "baxis": {
            "gridcolor": "#506784",
            "linecolor": "#506784",
            "ticks": ""
           },
           "bgcolor": "rgb(17,17,17)",
           "caxis": {
            "gridcolor": "#506784",
            "linecolor": "#506784",
            "ticks": ""
           }
          },
          "title": {
           "x": 0.05
          },
          "updatemenudefaults": {
           "bgcolor": "#506784",
           "borderwidth": 0
          },
          "xaxis": {
           "automargin": true,
           "gridcolor": "#283442",
           "linecolor": "#506784",
           "ticks": "",
           "title": {
            "standoff": 15
           },
           "zerolinecolor": "#283442",
           "zerolinewidth": 2
          },
          "yaxis": {
           "automargin": true,
           "gridcolor": "#283442",
           "linecolor": "#506784",
           "ticks": "",
           "title": {
            "standoff": 15
           },
           "zerolinecolor": "#283442",
           "zerolinewidth": 2
          }
         }
        },
        "title": {
         "font": {
          "size": 24
         },
         "text": "[z_first_treatment_after_days] by [z_kkr_label], NULL excluded, n=1_687)<br><sub>ci(95) on medians<sub>",
         "xanchor": "left",
         "y": 0.95,
         "yanchor": "top"
        },
        "width": 1600,
        "xaxis": {
         "anchor": "y",
         "categoryarray": [
          "01-SH",
          "02-HH",
          "03-NI",
          "04-HB",
          "05-NW",
          "06-HE",
          "07-RP",
          "08-BW",
          "09-BY",
          "10-SL",
          "11-BE",
          "12-BB",
          "13-MV",
          "14-SN",
          "15-ST",
          "16-TH"
         ],
         "categoryorder": "category ascending",
         "domain": [
          0,
          1
         ],
         "gridwidth": 1,
         "showgrid": true,
         "title": {
          "text": "z_kkr_label"
         }
        },
        "yaxis": {
         "anchor": "x",
         "domain": [
          0,
          1
         ],
         "gridwidth": 1,
         "showgrid": true,
         "title": {
          "text": "mean"
         }
        }
       }
      }
     },
     "metadata": {},
     "output_type": "display_data"
    }
   ],
   "source": [
    "_ = pls.plot_bars(\n",
    "    db_delay.to_df().iloc[:,:2],\n",
    "    # height=400,\n",
    "    # width=1000,\n",
    "    # use_ci=True,\n",
    "    # ci_agg='median',\n",
    ")\n",
    "_ = pls.plot_bars(\n",
    "    db_delay.to_df().iloc[:,:2],\n",
    "    height=600,\n",
    "    use_ci=True,\n",
    "    ci_agg='median',\n",
    ")"
   ]
  },
  {
   "cell_type": "code",
   "execution_count": 84,
   "metadata": {},
   "outputs": [
    {
     "data": {
      "application/vnd.plotly.v1+json": {
       "config": {
        "plotlyServerURL": "https://plot.ly"
       },
       "data": [
        {
         "hovertemplate": "col=op<br>value=%{x}<br>index=%{y}<br>cnt_pct_bar_str=%{text}<extra></extra>",
         "legendgroup": "op",
         "marker": {
          "color": "#636EFA",
          "pattern": {
           "shape": ""
          }
         },
         "name": "op",
         "orientation": "h",
         "showlegend": true,
         "text": [
          "80",
          "84",
          "79",
          "107 (12%)",
          "1_302 (10%)",
          "12",
          "2",
          "225",
          "562 (5%)",
          "16",
          "0",
          "31",
          "0",
          "85",
          "0",
          "0"
         ],
         "textposition": "auto",
         "type": "bar",
         "x": {
          "bdata": "UAAAAFQAAABPAAAAawAAABYFAAAMAAAAAgAAAOEAAAAyAgAAEAAAAAAAAAAfAAAAAAAAAFUAAAAAAAAAAAAAAA==",
          "dtype": "i4"
         },
         "xaxis": "x",
         "y": [
          "01-SH",
          "02-HH",
          "03-NI",
          "04-HB",
          "05-NW",
          "06-HE",
          "07-RP",
          "08-BW",
          "09-BY",
          "10-SL",
          "11-BE",
          "12-BB",
          "13-MV",
          "14-SN",
          "15-ST",
          "16-TH"
         ],
         "yaxis": "y"
        },
        {
         "hovertemplate": "col=st<br>value=%{x}<br>index=%{y}<br>cnt_pct_bar_str=%{text}<extra></extra>",
         "legendgroup": "st",
         "marker": {
          "color": "#EF553B",
          "pattern": {
           "shape": ""
          }
         },
         "name": "st",
         "orientation": "h",
         "showlegend": true,
         "text": [
          "1_680 (36%)",
          "415 (24%)",
          "1_041 (16%)",
          "485 (53%)",
          "1_533 (12%)",
          "797 (20%)",
          "2_394 (65%)",
          "823 (10%)",
          "3_173 (29%)",
          "249 (8%)",
          "93",
          "585 (12%)",
          "61 (5%)",
          "146 (15%)"
         ],
         "textposition": "auto",
         "type": "bar",
         "x": {
          "bdata": "kAYAAJ8BAAARBAAA5QEAAP0FAAAdAwAAWgkAADcDAABlDAAA+QAAAF0AAABJAgAAPQAAAJIAAAA=",
          "dtype": "i4"
         },
         "xaxis": "x",
         "y": [
          "01-SH",
          "02-HH",
          "03-NI",
          "04-HB",
          "05-NW",
          "06-HE",
          "07-RP",
          "08-BW",
          "09-BY",
          "11-BE",
          "13-MV",
          "14-SN",
          "15-ST",
          "16-TH"
         ],
         "yaxis": "y"
        },
        {
         "hovertemplate": "col=sy<br>value=%{x}<br>index=%{y}<br>cnt_pct_bar_str=%{text}<extra></extra>",
         "legendgroup": "sy",
         "marker": {
          "color": "#00CC96",
          "pattern": {
           "shape": ""
          }
         },
         "name": "sy",
         "orientation": "h",
         "showlegend": true,
         "text": [
          "2_885 (62%)",
          "1_196 (71%)",
          "5_526 (83%)",
          "322 (35%)",
          "10_044 (78%)",
          "3_119 (79%)",
          "1_276 (35%)",
          "6_811 (87%)",
          "7_202 (66%)",
          "469 (97%)",
          "2_700 (92%)",
          "1_224 (98%)",
          "2_164 (96%)",
          "4_274 (86%)",
          "1_141 (95%)",
          "834 (85%)"
         ],
         "textposition": "auto",
         "type": "bar",
         "x": {
          "bdata": "RQsAAKwEAACWFQAAQgEAADwnAAAvDAAA/AQAAJsaAAAiHAAA1QEAAIwKAADIBAAAdAgAALIQAAB1BAAAQgMAAA==",
          "dtype": "i4"
         },
         "xaxis": "x",
         "y": [
          "01-SH",
          "02-HH",
          "03-NI",
          "04-HB",
          "05-NW",
          "06-HE",
          "07-RP",
          "08-BW",
          "09-BY",
          "10-SL",
          "11-BE",
          "12-BB",
          "13-MV",
          "14-SN",
          "15-ST",
          "16-TH"
         ],
         "yaxis": "y"
        }
       ],
       "layout": {
        "barmode": "relative",
        "barnorm": "percent",
        "height": 600,
        "legend": {
         "title": {
          "text": "z_first_treatment"
         },
         "tracegroupgap": 0,
         "traceorder": "normal"
        },
        "template": {
         "data": {
          "bar": [
           {
            "error_x": {
             "color": "#f2f5fa"
            },
            "error_y": {
             "color": "#f2f5fa"
            },
            "marker": {
             "line": {
              "color": "rgb(17,17,17)",
              "width": 0.5
             },
             "pattern": {
              "fillmode": "overlay",
              "size": 10,
              "solidity": 0.2
             }
            },
            "type": "bar"
           }
          ],
          "barpolar": [
           {
            "marker": {
             "line": {
              "color": "rgb(17,17,17)",
              "width": 0.5
             },
             "pattern": {
              "fillmode": "overlay",
              "size": 10,
              "solidity": 0.2
             }
            },
            "type": "barpolar"
           }
          ],
          "carpet": [
           {
            "aaxis": {
             "endlinecolor": "#A2B1C6",
             "gridcolor": "#506784",
             "linecolor": "#506784",
             "minorgridcolor": "#506784",
             "startlinecolor": "#A2B1C6"
            },
            "baxis": {
             "endlinecolor": "#A2B1C6",
             "gridcolor": "#506784",
             "linecolor": "#506784",
             "minorgridcolor": "#506784",
             "startlinecolor": "#A2B1C6"
            },
            "type": "carpet"
           }
          ],
          "choropleth": [
           {
            "colorbar": {
             "outlinewidth": 0,
             "ticks": ""
            },
            "type": "choropleth"
           }
          ],
          "contour": [
           {
            "colorbar": {
             "outlinewidth": 0,
             "ticks": ""
            },
            "colorscale": [
             [
              0,
              "#0d0887"
             ],
             [
              0.1111111111111111,
              "#46039f"
             ],
             [
              0.2222222222222222,
              "#7201a8"
             ],
             [
              0.3333333333333333,
              "#9c179e"
             ],
             [
              0.4444444444444444,
              "#bd3786"
             ],
             [
              0.5555555555555556,
              "#d8576b"
             ],
             [
              0.6666666666666666,
              "#ed7953"
             ],
             [
              0.7777777777777778,
              "#fb9f3a"
             ],
             [
              0.8888888888888888,
              "#fdca26"
             ],
             [
              1,
              "#f0f921"
             ]
            ],
            "type": "contour"
           }
          ],
          "contourcarpet": [
           {
            "colorbar": {
             "outlinewidth": 0,
             "ticks": ""
            },
            "type": "contourcarpet"
           }
          ],
          "heatmap": [
           {
            "colorbar": {
             "outlinewidth": 0,
             "ticks": ""
            },
            "colorscale": [
             [
              0,
              "#0d0887"
             ],
             [
              0.1111111111111111,
              "#46039f"
             ],
             [
              0.2222222222222222,
              "#7201a8"
             ],
             [
              0.3333333333333333,
              "#9c179e"
             ],
             [
              0.4444444444444444,
              "#bd3786"
             ],
             [
              0.5555555555555556,
              "#d8576b"
             ],
             [
              0.6666666666666666,
              "#ed7953"
             ],
             [
              0.7777777777777778,
              "#fb9f3a"
             ],
             [
              0.8888888888888888,
              "#fdca26"
             ],
             [
              1,
              "#f0f921"
             ]
            ],
            "type": "heatmap"
           }
          ],
          "histogram": [
           {
            "marker": {
             "pattern": {
              "fillmode": "overlay",
              "size": 10,
              "solidity": 0.2
             }
            },
            "type": "histogram"
           }
          ],
          "histogram2d": [
           {
            "colorbar": {
             "outlinewidth": 0,
             "ticks": ""
            },
            "colorscale": [
             [
              0,
              "#0d0887"
             ],
             [
              0.1111111111111111,
              "#46039f"
             ],
             [
              0.2222222222222222,
              "#7201a8"
             ],
             [
              0.3333333333333333,
              "#9c179e"
             ],
             [
              0.4444444444444444,
              "#bd3786"
             ],
             [
              0.5555555555555556,
              "#d8576b"
             ],
             [
              0.6666666666666666,
              "#ed7953"
             ],
             [
              0.7777777777777778,
              "#fb9f3a"
             ],
             [
              0.8888888888888888,
              "#fdca26"
             ],
             [
              1,
              "#f0f921"
             ]
            ],
            "type": "histogram2d"
           }
          ],
          "histogram2dcontour": [
           {
            "colorbar": {
             "outlinewidth": 0,
             "ticks": ""
            },
            "colorscale": [
             [
              0,
              "#0d0887"
             ],
             [
              0.1111111111111111,
              "#46039f"
             ],
             [
              0.2222222222222222,
              "#7201a8"
             ],
             [
              0.3333333333333333,
              "#9c179e"
             ],
             [
              0.4444444444444444,
              "#bd3786"
             ],
             [
              0.5555555555555556,
              "#d8576b"
             ],
             [
              0.6666666666666666,
              "#ed7953"
             ],
             [
              0.7777777777777778,
              "#fb9f3a"
             ],
             [
              0.8888888888888888,
              "#fdca26"
             ],
             [
              1,
              "#f0f921"
             ]
            ],
            "type": "histogram2dcontour"
           }
          ],
          "mesh3d": [
           {
            "colorbar": {
             "outlinewidth": 0,
             "ticks": ""
            },
            "type": "mesh3d"
           }
          ],
          "parcoords": [
           {
            "line": {
             "colorbar": {
              "outlinewidth": 0,
              "ticks": ""
             }
            },
            "type": "parcoords"
           }
          ],
          "pie": [
           {
            "automargin": true,
            "type": "pie"
           }
          ],
          "scatter": [
           {
            "marker": {
             "line": {
              "color": "#283442"
             }
            },
            "type": "scatter"
           }
          ],
          "scatter3d": [
           {
            "line": {
             "colorbar": {
              "outlinewidth": 0,
              "ticks": ""
             }
            },
            "marker": {
             "colorbar": {
              "outlinewidth": 0,
              "ticks": ""
             }
            },
            "type": "scatter3d"
           }
          ],
          "scattercarpet": [
           {
            "marker": {
             "colorbar": {
              "outlinewidth": 0,
              "ticks": ""
             }
            },
            "type": "scattercarpet"
           }
          ],
          "scattergeo": [
           {
            "marker": {
             "colorbar": {
              "outlinewidth": 0,
              "ticks": ""
             }
            },
            "type": "scattergeo"
           }
          ],
          "scattergl": [
           {
            "marker": {
             "line": {
              "color": "#283442"
             }
            },
            "type": "scattergl"
           }
          ],
          "scattermap": [
           {
            "marker": {
             "colorbar": {
              "outlinewidth": 0,
              "ticks": ""
             }
            },
            "type": "scattermap"
           }
          ],
          "scattermapbox": [
           {
            "marker": {
             "colorbar": {
              "outlinewidth": 0,
              "ticks": ""
             }
            },
            "type": "scattermapbox"
           }
          ],
          "scatterpolar": [
           {
            "marker": {
             "colorbar": {
              "outlinewidth": 0,
              "ticks": ""
             }
            },
            "type": "scatterpolar"
           }
          ],
          "scatterpolargl": [
           {
            "marker": {
             "colorbar": {
              "outlinewidth": 0,
              "ticks": ""
             }
            },
            "type": "scatterpolargl"
           }
          ],
          "scatterternary": [
           {
            "marker": {
             "colorbar": {
              "outlinewidth": 0,
              "ticks": ""
             }
            },
            "type": "scatterternary"
           }
          ],
          "surface": [
           {
            "colorbar": {
             "outlinewidth": 0,
             "ticks": ""
            },
            "colorscale": [
             [
              0,
              "#0d0887"
             ],
             [
              0.1111111111111111,
              "#46039f"
             ],
             [
              0.2222222222222222,
              "#7201a8"
             ],
             [
              0.3333333333333333,
              "#9c179e"
             ],
             [
              0.4444444444444444,
              "#bd3786"
             ],
             [
              0.5555555555555556,
              "#d8576b"
             ],
             [
              0.6666666666666666,
              "#ed7953"
             ],
             [
              0.7777777777777778,
              "#fb9f3a"
             ],
             [
              0.8888888888888888,
              "#fdca26"
             ],
             [
              1,
              "#f0f921"
             ]
            ],
            "type": "surface"
           }
          ],
          "table": [
           {
            "cells": {
             "fill": {
              "color": "#506784"
             },
             "line": {
              "color": "rgb(17,17,17)"
             }
            },
            "header": {
             "fill": {
              "color": "#2a3f5f"
             },
             "line": {
              "color": "rgb(17,17,17)"
             }
            },
            "type": "table"
           }
          ]
         },
         "layout": {
          "annotationdefaults": {
           "arrowcolor": "#f2f5fa",
           "arrowhead": 0,
           "arrowwidth": 1
          },
          "autotypenumbers": "strict",
          "coloraxis": {
           "colorbar": {
            "outlinewidth": 0,
            "ticks": ""
           }
          },
          "colorscale": {
           "diverging": [
            [
             0,
             "#8e0152"
            ],
            [
             0.1,
             "#c51b7d"
            ],
            [
             0.2,
             "#de77ae"
            ],
            [
             0.3,
             "#f1b6da"
            ],
            [
             0.4,
             "#fde0ef"
            ],
            [
             0.5,
             "#f7f7f7"
            ],
            [
             0.6,
             "#e6f5d0"
            ],
            [
             0.7,
             "#b8e186"
            ],
            [
             0.8,
             "#7fbc41"
            ],
            [
             0.9,
             "#4d9221"
            ],
            [
             1,
             "#276419"
            ]
           ],
           "sequential": [
            [
             0,
             "#0d0887"
            ],
            [
             0.1111111111111111,
             "#46039f"
            ],
            [
             0.2222222222222222,
             "#7201a8"
            ],
            [
             0.3333333333333333,
             "#9c179e"
            ],
            [
             0.4444444444444444,
             "#bd3786"
            ],
            [
             0.5555555555555556,
             "#d8576b"
            ],
            [
             0.6666666666666666,
             "#ed7953"
            ],
            [
             0.7777777777777778,
             "#fb9f3a"
            ],
            [
             0.8888888888888888,
             "#fdca26"
            ],
            [
             1,
             "#f0f921"
            ]
           ],
           "sequentialminus": [
            [
             0,
             "#0d0887"
            ],
            [
             0.1111111111111111,
             "#46039f"
            ],
            [
             0.2222222222222222,
             "#7201a8"
            ],
            [
             0.3333333333333333,
             "#9c179e"
            ],
            [
             0.4444444444444444,
             "#bd3786"
            ],
            [
             0.5555555555555556,
             "#d8576b"
            ],
            [
             0.6666666666666666,
             "#ed7953"
            ],
            [
             0.7777777777777778,
             "#fb9f3a"
            ],
            [
             0.8888888888888888,
             "#fdca26"
            ],
            [
             1,
             "#f0f921"
            ]
           ]
          },
          "colorway": [
           "#636efa",
           "#EF553B",
           "#00cc96",
           "#ab63fa",
           "#FFA15A",
           "#19d3f3",
           "#FF6692",
           "#B6E880",
           "#FF97FF",
           "#FECB52"
          ],
          "font": {
           "color": "#f2f5fa"
          },
          "geo": {
           "bgcolor": "rgb(17,17,17)",
           "lakecolor": "rgb(17,17,17)",
           "landcolor": "rgb(17,17,17)",
           "showlakes": true,
           "showland": true,
           "subunitcolor": "#506784"
          },
          "hoverlabel": {
           "align": "left"
          },
          "hovermode": "closest",
          "mapbox": {
           "style": "dark"
          },
          "paper_bgcolor": "rgb(17,17,17)",
          "plot_bgcolor": "rgb(17,17,17)",
          "polar": {
           "angularaxis": {
            "gridcolor": "#506784",
            "linecolor": "#506784",
            "ticks": ""
           },
           "bgcolor": "rgb(17,17,17)",
           "radialaxis": {
            "gridcolor": "#506784",
            "linecolor": "#506784",
            "ticks": ""
           }
          },
          "scene": {
           "xaxis": {
            "backgroundcolor": "rgb(17,17,17)",
            "gridcolor": "#506784",
            "gridwidth": 2,
            "linecolor": "#506784",
            "showbackground": true,
            "ticks": "",
            "zerolinecolor": "#C8D4E3"
           },
           "yaxis": {
            "backgroundcolor": "rgb(17,17,17)",
            "gridcolor": "#506784",
            "gridwidth": 2,
            "linecolor": "#506784",
            "showbackground": true,
            "ticks": "",
            "zerolinecolor": "#C8D4E3"
           },
           "zaxis": {
            "backgroundcolor": "rgb(17,17,17)",
            "gridcolor": "#506784",
            "gridwidth": 2,
            "linecolor": "#506784",
            "showbackground": true,
            "ticks": "",
            "zerolinecolor": "#C8D4E3"
           }
          },
          "shapedefaults": {
           "line": {
            "color": "#f2f5fa"
           }
          },
          "sliderdefaults": {
           "bgcolor": "#C8D4E3",
           "bordercolor": "rgb(17,17,17)",
           "borderwidth": 1,
           "tickwidth": 0
          },
          "ternary": {
           "aaxis": {
            "gridcolor": "#506784",
            "linecolor": "#506784",
            "ticks": ""
           },
           "baxis": {
            "gridcolor": "#506784",
            "linecolor": "#506784",
            "ticks": ""
           },
           "bgcolor": "rgb(17,17,17)",
           "caxis": {
            "gridcolor": "#506784",
            "linecolor": "#506784",
            "ticks": ""
           }
          },
          "title": {
           "x": 0.05
          },
          "updatemenudefaults": {
           "bgcolor": "#506784",
           "borderwidth": 0
          },
          "xaxis": {
           "automargin": true,
           "gridcolor": "#283442",
           "linecolor": "#506784",
           "ticks": "",
           "title": {
            "standoff": 15
           },
           "zerolinecolor": "#283442",
           "zerolinewidth": 2
          },
          "yaxis": {
           "automargin": true,
           "gridcolor": "#283442",
           "linecolor": "#506784",
           "ticks": "",
           "title": {
            "standoff": 15
           },
           "zerolinecolor": "#283442",
           "zerolinewidth": 2
          }
         }
        },
        "title": {
         "font": {
          "size": 24
         },
         "text": "[z_kkr_label] by [z_first_treatment], n=46 (67_247)",
         "xanchor": "left",
         "y": 0.95,
         "yanchor": "top"
        },
        "width": 2000,
        "xaxis": {
         "anchor": "y",
         "domain": [
          0,
          1
         ],
         "dtick": 5,
         "gridwidth": 1,
         "showgrid": true,
         "title": {
          "text": "value"
         }
        },
        "yaxis": {
         "anchor": "x",
         "categoryarray": [
          "16-TH",
          "15-ST",
          "14-SN",
          "13-MV",
          "12-BB",
          "11-BE",
          "10-SL",
          "09-BY",
          "08-BW",
          "07-RP",
          "06-HE",
          "05-NW",
          "04-HB",
          "03-NI",
          "02-HH",
          "01-SH"
         ],
         "categoryorder": "array",
         "domain": [
          0,
          1
         ],
         "gridwidth": 1,
         "showgrid": true,
         "title": {
          "text": "index"
         }
        }
       }
      }
     },
     "metadata": {},
     "output_type": "display_data"
    }
   ],
   "source": [
    "pls.plot_stacked_bars(\n",
    "    db_delay.to_df().iloc[:,[0,2,1]].dropna(),\n",
    "    height=600,\n",
    "    # width=1000,\n",
    "    orientation=\"h\",\n",
    "    relative=True,\n",
    "    show_pct_bar=True,\n",
    "    # renderer=\"png\",\n",
    "    )"
   ]
  },
  {
   "cell_type": "code",
   "execution_count": 85,
   "metadata": {},
   "outputs": [
    {
     "data": {
      "text/html": [
       "<div>\n",
       "<style scoped>\n",
       "    .dataframe tbody tr th:only-of-type {\n",
       "        vertical-align: middle;\n",
       "    }\n",
       "\n",
       "    .dataframe tbody tr th {\n",
       "        vertical-align: top;\n",
       "    }\n",
       "\n",
       "    .dataframe thead th {\n",
       "        text-align: right;\n",
       "    }\n",
       "</style>\n",
       "<table border=\"1\" class=\"dataframe\">\n",
       "  <thead>\n",
       "    <tr style=\"text-align: right;\">\n",
       "      <th></th>\n",
       "      <th>z_dy</th>\n",
       "      <th>tu</th>\n",
       "      <th>z_kkr_label</th>\n",
       "      <th>cnt</th>\n",
       "    </tr>\n",
       "  </thead>\n",
       "  <tbody>\n",
       "    <tr>\n",
       "      <th>0</th>\n",
       "      <td>2020</td>\n",
       "      <td>06</td>\n",
       "      <td>13-MV</td>\n",
       "      <td>1</td>\n",
       "    </tr>\n",
       "    <tr>\n",
       "      <th>1</th>\n",
       "      <td>2020</td>\n",
       "      <td>30</td>\n",
       "      <td>13-MV</td>\n",
       "      <td>1</td>\n",
       "    </tr>\n",
       "    <tr>\n",
       "      <th>2</th>\n",
       "      <td>2020</td>\n",
       "      <td>###</td>\n",
       "      <td>13-MV</td>\n",
       "      <td>21</td>\n",
       "    </tr>\n",
       "    <tr>\n",
       "      <th>3</th>\n",
       "      <td>2020</td>\n",
       "      <td>18</td>\n",
       "      <td>11-BE</td>\n",
       "      <td>1</td>\n",
       "    </tr>\n",
       "    <tr>\n",
       "      <th>4</th>\n",
       "      <td>2020</td>\n",
       "      <td>18.</td>\n",
       "      <td>13-MV</td>\n",
       "      <td>1</td>\n",
       "    </tr>\n",
       "    <tr>\n",
       "      <th>...</th>\n",
       "      <td>...</td>\n",
       "      <td>...</td>\n",
       "      <td>...</td>\n",
       "      <td>...</td>\n",
       "    </tr>\n",
       "    <tr>\n",
       "      <th>16352</th>\n",
       "      <td>2023</td>\n",
       "      <td>S37</td>\n",
       "      <td>14-SN</td>\n",
       "      <td>1</td>\n",
       "    </tr>\n",
       "    <tr>\n",
       "      <th>16353</th>\n",
       "      <td>2023</td>\n",
       "      <td>S72</td>\n",
       "      <td>11-BE</td>\n",
       "      <td>1</td>\n",
       "    </tr>\n",
       "    <tr>\n",
       "      <th>16354</th>\n",
       "      <td>2023</td>\n",
       "      <td>Z22</td>\n",
       "      <td>14-SN</td>\n",
       "      <td>1</td>\n",
       "    </tr>\n",
       "    <tr>\n",
       "      <th>16355</th>\n",
       "      <td>2023</td>\n",
       "      <td>Z85</td>\n",
       "      <td>14-SN</td>\n",
       "      <td>1</td>\n",
       "    </tr>\n",
       "    <tr>\n",
       "      <th>16356</th>\n",
       "      <td>2023</td>\n",
       "      <td>Z96</td>\n",
       "      <td>14-SN</td>\n",
       "      <td>1</td>\n",
       "    </tr>\n",
       "  </tbody>\n",
       "</table>\n",
       "<p>16357 rows × 4 columns</p>\n",
       "</div>"
      ],
      "text/plain": [
       "       z_dy   tu z_kkr_label  cnt\n",
       "0      2020   06       13-MV    1\n",
       "1      2020   30       13-MV    1\n",
       "2      2020  ###       13-MV   21\n",
       "3      2020   18       11-BE    1\n",
       "4      2020  18.       13-MV    1\n",
       "...     ...  ...         ...  ...\n",
       "16352  2023  S37       14-SN    1\n",
       "16353  2023  S72       11-BE    1\n",
       "16354  2023  Z22       14-SN    1\n",
       "16355  2023  Z85       14-SN    1\n",
       "16356  2023  Z96       14-SN    1\n",
       "\n",
       "[16357 rows x 4 columns]"
      ]
     },
     "metadata": {},
     "output_type": "display_data"
    },
    {
     "name": "stdout",
     "output_type": "stream",
     "text": [
      "z_dy            int64\n",
      "tu             object\n",
      "z_kkr_label    object\n",
      "cnt             int64\n",
      "dtype: object\n"
     ]
    },
    {
     "data": {
      "image/png": "[encoded data removed]"
     },
     "metadata": {},
     "output_type": "display_data"
    }
   ],
   "source": [
    "df_facets = pd.read_csv(\"assets/facets.csv\", sep=\";\")#.astype({\"z_dy\": \"Int64\"}).astype({\"z_dy\": str})\n",
    "display(df_facets[:None])\n",
    "print(df_facets.dtypes)\n",
    "\n",
    "_df = df_facets[\n",
    "    [\n",
    "        \"z_dy\",\n",
    "        \"tu\",\n",
    "        \"z_kkr_label\",\n",
    "        \"cnt\",\n",
    "    ]\n",
    "]#[:100]\n",
    "# _df\n",
    "\n",
    "\n",
    "l=pls.plot_facet_stacked_bars(\n",
    "    _df,\n",
    "    top_n_color=5,\n",
    "    # subplots_per_row=3,\n",
    "    # top_n_facet=15,\n",
    "    # top_n_index=3, \n",
    "    show_other=True,\n",
    "    sort_values_color=True,\n",
    "    # sort_values_facet=True,\n",
    "    relative=True,\n",
    "    # show_pct=True,\n",
    "    annotations=True,\n",
    "    subplot_size=300,\n",
    "    subplots_per_row=5,\n",
    "    # renderer=\"\",\n",
    "    # show_pct=True,\n",
    "    )\n",
    "# l\n",
    "\n",
    "# ll = pls.plot_facet_stacked_bars(\n",
    "#     _df,\n",
    "#     top_n_color=5,\n",
    "#     # subplots_per_row=8,\n",
    "#     # top_n_facet=15,\n",
    "#     # top_n_index=3, \n",
    "#     show_other=True,\n",
    "#     sort_values_color=True,\n",
    "#     # sort_values_facet=True,\n",
    "#     relative=True,\n",
    "#     annotations=True,\n",
    "#     )\n",
    "# # ll"
   ]
  },
  {
   "cell_type": "markdown",
   "metadata": {},
   "source": [
    "### histo"
   ]
  },
  {
   "cell_type": "code",
   "execution_count": 86,
   "metadata": {},
   "outputs": [
    {
     "data": {
      "image/png": "[encoded data removed]",
      "text/plain": [
       "<Figure size 1280x240 with 1 Axes>"
      ]
     },
     "metadata": {},
     "output_type": "display_data"
    },
    {
     "name": "stdout",
     "output_type": "stream",
     "text": [
      "distance -> min: 0.0 | lower: 0.0 | q25: 0.98 | median: 1.64 | mean: 3.025 | q75: 3.21 | upper: 6.555 | max: 36.7 | std: 3.828 | cv: 1.266 | sum: 19_457.36 | skew: 3.008 | kurto: 11.135  \n"
     ]
    }
   ],
   "source": [
    "_=pls.plot_histogram_large(\n",
    "    df.distance,\n",
    "    # nbins=50,\n",
    "    height=300,\n",
    "    summary=True\n",
    ")"
   ]
  },
  {
   "cell_type": "code",
   "execution_count": 87,
   "metadata": {},
   "outputs": [],
   "source": [
    "# _df = df[\"distance\"]\n",
    "# # _df#.to_frame()\n",
    "# # _df=df[[\"fare\",\"distance\"]]\n",
    "# pls.plot_histogram(\n",
    "#     _df,\n",
    "#     height=300,\n",
    "#     width=1000,\n",
    "#     precision=0,\n",
    "#     orientation=\"v\",\n",
    "#     histnorm=\"\",\n",
    "#     nbins=-1,\n",
    "#     # barmode=\"overlay\",\n",
    "#     # renderer=\"png\",\n",
    "#     # png_path=Path(\".local/box5.png\"),\n",
    "#     summary=True,\n",
    "#     caption=\"test lol xd-lmao\",\n",
    "# )"
   ]
  },
  {
   "cell_type": "markdown",
   "metadata": {},
   "source": [
    "### box"
   ]
  },
  {
   "cell_type": "code",
   "execution_count": 88,
   "metadata": {},
   "outputs": [
    {
     "data": {
      "image/png": "[encoded data removed]",
      "text/plain": [
       "<Figure size 1200x200 with 1 Axes>"
      ]
     },
     "metadata": {},
     "output_type": "display_data"
    },
    {
     "name": "stdout",
     "output_type": "stream",
     "text": [
      "distance -> min: 0.0 | lower: 0.0 | q25: 0.98 | median: 1.64 | mean: 3.025 | q75: 3.21 | upper: 6.555 | max: 36.7 | std: 3.828 | cv: 1.266 | sum: 19_457.36 | skew: 3.008 | kurto: 11.135  \n"
     ]
    }
   ],
   "source": [
    "_=pls.plot_box_large(\n",
    "    df[\"distance\"],\n",
    "    height=200,\n",
    "    violin=True,\n",
    "    # use_log=True,\n",
    ")"
   ]
  },
  {
   "cell_type": "code",
   "execution_count": 89,
   "metadata": {},
   "outputs": [
    {
     "data": {
      "image/png": "[encoded data removed]",
      "text/plain": [
       "<Figure size 600x600 with 1 Axes>"
      ]
     },
     "metadata": {},
     "output_type": "display_data"
    },
    {
     "name": "stdout",
     "output_type": "stream",
     "text": [
      "🟧 all data\n",
      "distance -> min: 0.0 | lower: 0.0 | q25: 0.98 | median: 1.64 | mean: 3.02 | q75: 3.21 | upper: 6.56 | max: 36.7 | std: 3.83 | cv: 1.27 | sum: 19_457.36 | skew: 3.01 | kurto: 11.13  \n",
      "🟧 boxes\n",
      "Bronx -> min: 0.0 | lower: 0.0 | q25: 2.36 | median: 4.31 | mean: 6.61 | q75: 9.44 | upper: 20.06 | max: 24.2 | std: 5.95 | cv: 0.9 | sum: 905.88 | skew: 1.3 | kurto: 0.88  \n",
      "Brooklyn -> min: 0.0 | lower: 0.0 | q25: 1.53 | median: 3.63 | mean: 5.03 | q75: 7.3 | upper: 15.95 | max: 26.92 | std: 4.49 | cv: 0.89 | sum: 2_519.28 | skew: 1.42 | kurto: 2.23  \n",
      "Manhattan -> min: 0.0 | lower: 0.0 | q25: 0.91 | median: 1.5 | mean: 2.39 | q75: 2.6 | upper: 5.14 | max: 30.23 | std: 2.91 | cv: 1.21 | sum: 12_447.68 | skew: 3.74 | kurto: 17.39  \n",
      "Queens -> min: 0.0 | lower: 0.0 | q25: 1.34 | median: 3.56 | mean: 5.96 | q75: 9.89 | upper: 22.72 | max: 36.7 | std: 5.89 | cv: 0.99 | sum: 3_230.13 | skew: 1.29 | kurto: 1.5  \n",
      "Staten Island -> min: 15.51 | lower: 15.51 | q25: 15.68 | median: 15.86 | mean: 15.86 | q75: 16.03 | upper: 16.2 | max: 16.2 | std: 0.49 | cv: 0.03 | sum: 31.71 | skew: -0.0 | kurto: -2.0  \n",
      "nan -> min: 0.0 | lower: 0.0 | q25: 0.0 | median: 0.9 | mean: 7.17 | q75: 12.6 | upper: 31.5 | max: 36.66 | std: 10.71 | cv: 1.49 | sum: 322.68 | skew: 1.45 | kurto: 0.86  \n"
     ]
    }
   ],
   "source": [
    "_=pls.plot_boxes_large(\n",
    "    df[[\"dropoff_borough\",\"distance\"]],\n",
    "    width=600,\n",
    "    # violin=True,\n",
    "    # use_log=True,\n",
    ")"
   ]
  },
  {
   "cell_type": "code",
   "execution_count": 90,
   "metadata": {},
   "outputs": [],
   "source": [
    "# pls.plot_box(\n",
    "#     df.distance,\n",
    "#     height=400,\n",
    "#     violin=False,\n",
    "#     x_min=-2,\n",
    "#     x_max=50,\n",
    "#     # summary = False\n",
    "# )\n",
    "\n",
    "# _df = df[[\"dropoff_borough\", \"distance\"]]\n",
    "# # _df[\"dropoff_borough\"] = _df[\"dropoff_borough\"].astype(str)\n",
    "# display(_df.dtypes)\n",
    "# display(_df)\n",
    "# _=pls.plot_boxes(\n",
    "#     _df,\n",
    "#     width=1600,\n",
    "#     annotations=False,\n",
    "#     precision=4,\n",
    "# )"
   ]
  },
  {
   "cell_type": "markdown",
   "metadata": {},
   "source": [
    "### pie"
   ]
  },
  {
   "cell_type": "code",
   "execution_count": 91,
   "metadata": {},
   "outputs": [
    {
     "data": {
      "image/png": "[encoded data removed]",
      "text/plain": [
       "<Figure size 800x500 with 1 Axes>"
      ]
     },
     "metadata": {},
     "output_type": "display_data"
    }
   ],
   "source": [
    "df[\"payment\"]\n",
    "pls.plot_pie(\n",
    "    data=df[\"payment\"],\n",
    "    caption=\"test lol\",\n",
    "    donut_size=0.3,\n",
    "    # precision=3,\n",
    ")"
   ]
  },
  {
   "cell_type": "markdown",
   "metadata": {},
   "source": [
    "### join"
   ]
  },
  {
   "cell_type": "code",
   "execution_count": 92,
   "metadata": {},
   "outputs": [
    {
     "data": {
      "image/png": "[encoded data removed]",
      "text/plain": [
       "<Figure size 500x500 with 3 Axes>"
      ]
     },
     "metadata": {},
     "output_type": "display_data"
    }
   ],
   "source": [
    "_df = df[[\"fare\", \"passengers\"]]\n",
    "# pls.plot_joint(_df, precision=0, size=15, kind=\"reg\", caption=\"\")\n",
    "# pls.plot_joint(_df, precision=0, size=15, kind=\"hex\", png_path=Path(\".local/box6.png\"))\n",
    "pls.plot_joint(_df, precision=0, size=5, kind=\"kde\",)\n",
    "# pls.plot_joint(_df, precision=0, size=5, kind=\"hist\",)\n",
    "# pls.plot_joint(_df, precision=0, size=5, kind=\"kde\", png_path=Path(\".local/box7.png\"))"
   ]
  },
  {
   "cell_type": "markdown",
   "metadata": {},
   "source": [
    "### sankey"
   ]
  },
  {
   "cell_type": "code",
   "execution_count": 93,
   "metadata": {},
   "outputs": [
    {
     "name": "stdout",
     "output_type": "stream",
     "text": [
      "--- Using demo data (data_demo) ---\n",
      "  tumor-id diagnosis date treatment\n",
      "0        1     2020-01-01        op\n",
      "1        1     2021-02-01      syst\n",
      "2        1     2022-03-01        op\n",
      "3        1     2023-04-01       rad\n",
      "4        1     2024-05-01        op\n",
      "-----------------------------------\n"
     ]
    },
    {
     "data": {
      "application/vnd.plotly.v1+json": {
       "config": {
        "plotlyServerURL": "https://plot.ly"
       },
       "data": [
        {
         "link": {
          "color": [
           "rgba(128, 128, 128, 0.6)",
           "rgba(128, 128, 128, 0.6)",
           "rgba(128, 128, 128, 0.6)",
           "rgba(128, 128, 128, 0.6)",
           "rgba(255, 99, 71, 0.6)",
           "rgba(60, 179, 113, 0.6)",
           "rgba(65, 105, 225, 0.6)",
           "rgba(255, 215, 0, 0.6)",
           "rgba(147, 112, 219, 0.6)",
           "rgba(0, 206, 209, 0.6)",
           "rgba(255, 160, 122, 0.6)",
           "rgba(124, 252, 0, 0.6)",
           "rgba(147, 112, 219, 0.6)",
           "rgba(255, 99, 71, 0.6)",
           "rgba(147, 112, 219, 0.6)",
           "rgba(30, 144, 255, 0.6)"
          ],
          "source": [
           0,
           0,
           0,
           0,
           1,
           1,
           3,
           3,
           4,
           4,
           6,
           7,
           8,
           9,
           10,
           12
          ],
          "target": [
           1,
           2,
           3,
           4,
           6,
           8,
           6,
           8,
           5,
           7,
           10,
           9,
           9,
           12,
           11,
           13
          ],
          "value": [
           6,
           1,
           2,
           3,
           2,
           1,
           1,
           1,
           1,
           1,
           1,
           1,
           2,
           2,
           1,
           1
          ]
         },
         "node": {
          "align": "left",
          "color": "blue",
          "label": [
           "[0] start 12 (100%)",
           "[1] op 6 (50%)",
           "[1] rad 1 (8%)",
           "[1] st 2 (17%)",
           "[1] syst 3 (25%)",
           "[2] op 1 (8%)",
           "[2] rad 3 (25%)",
           "[2] st 1 (8%)",
           "[2] syst 2 (17%)",
           "[3] op 3 (25%)",
           "[3] syst 1 (8%)",
           "[4] op 1 (8%)",
           "[4] rad 2 (17%)",
           "[5] op 1 (8%)"
          ],
          "line": {
           "color": "black",
           "width": 0.5
          },
          "pad": 15,
          "thickness": 20
         },
         "type": "sankey"
        }
       ],
       "layout": {
        "font": {
         "size": 15
        },
        "template": {
         "data": {
          "bar": [
           {
            "error_x": {
             "color": "#2a3f5f"
            },
            "error_y": {
             "color": "#2a3f5f"
            },
            "marker": {
             "line": {
              "color": "#E5ECF6",
              "width": 0.5
             },
             "pattern": {
              "fillmode": "overlay",
              "size": 10,
              "solidity": 0.2
             }
            },
            "type": "bar"
           }
          ],
          "barpolar": [
           {
            "marker": {
             "line": {
              "color": "#E5ECF6",
              "width": 0.5
             },
             "pattern": {
              "fillmode": "overlay",
              "size": 10,
              "solidity": 0.2
             }
            },
            "type": "barpolar"
           }
          ],
          "carpet": [
           {
            "aaxis": {
             "endlinecolor": "#2a3f5f",
             "gridcolor": "white",
             "linecolor": "white",
             "minorgridcolor": "white",
             "startlinecolor": "#2a3f5f"
            },
            "baxis": {
             "endlinecolor": "#2a3f5f",
             "gridcolor": "white",
             "linecolor": "white",
             "minorgridcolor": "white",
             "startlinecolor": "#2a3f5f"
            },
            "type": "carpet"
           }
          ],
          "choropleth": [
           {
            "colorbar": {
             "outlinewidth": 0,
             "ticks": ""
            },
            "type": "choropleth"
           }
          ],
          "contour": [
           {
            "colorbar": {
             "outlinewidth": 0,
             "ticks": ""
            },
            "colorscale": [
             [
              0,
              "#0d0887"
             ],
             [
              0.1111111111111111,
              "#46039f"
             ],
             [
              0.2222222222222222,
              "#7201a8"
             ],
             [
              0.3333333333333333,
              "#9c179e"
             ],
             [
              0.4444444444444444,
              "#bd3786"
             ],
             [
              0.5555555555555556,
              "#d8576b"
             ],
             [
              0.6666666666666666,
              "#ed7953"
             ],
             [
              0.7777777777777778,
              "#fb9f3a"
             ],
             [
              0.8888888888888888,
              "#fdca26"
             ],
             [
              1,
              "#f0f921"
             ]
            ],
            "type": "contour"
           }
          ],
          "contourcarpet": [
           {
            "colorbar": {
             "outlinewidth": 0,
             "ticks": ""
            },
            "type": "contourcarpet"
           }
          ],
          "heatmap": [
           {
            "colorbar": {
             "outlinewidth": 0,
             "ticks": ""
            },
            "colorscale": [
             [
              0,
              "#0d0887"
             ],
             [
              0.1111111111111111,
              "#46039f"
             ],
             [
              0.2222222222222222,
              "#7201a8"
             ],
             [
              0.3333333333333333,
              "#9c179e"
             ],
             [
              0.4444444444444444,
              "#bd3786"
             ],
             [
              0.5555555555555556,
              "#d8576b"
             ],
             [
              0.6666666666666666,
              "#ed7953"
             ],
             [
              0.7777777777777778,
              "#fb9f3a"
             ],
             [
              0.8888888888888888,
              "#fdca26"
             ],
             [
              1,
              "#f0f921"
             ]
            ],
            "type": "heatmap"
           }
          ],
          "histogram": [
           {
            "marker": {
             "pattern": {
              "fillmode": "overlay",
              "size": 10,
              "solidity": 0.2
             }
            },
            "type": "histogram"
           }
          ],
          "histogram2d": [
           {
            "colorbar": {
             "outlinewidth": 0,
             "ticks": ""
            },
            "colorscale": [
             [
              0,
              "#0d0887"
             ],
             [
              0.1111111111111111,
              "#46039f"
             ],
             [
              0.2222222222222222,
              "#7201a8"
             ],
             [
              0.3333333333333333,
              "#9c179e"
             ],
             [
              0.4444444444444444,
              "#bd3786"
             ],
             [
              0.5555555555555556,
              "#d8576b"
             ],
             [
              0.6666666666666666,
              "#ed7953"
             ],
             [
              0.7777777777777778,
              "#fb9f3a"
             ],
             [
              0.8888888888888888,
              "#fdca26"
             ],
             [
              1,
              "#f0f921"
             ]
            ],
            "type": "histogram2d"
           }
          ],
          "histogram2dcontour": [
           {
            "colorbar": {
             "outlinewidth": 0,
             "ticks": ""
            },
            "colorscale": [
             [
              0,
              "#0d0887"
             ],
             [
              0.1111111111111111,
              "#46039f"
             ],
             [
              0.2222222222222222,
              "#7201a8"
             ],
             [
              0.3333333333333333,
              "#9c179e"
             ],
             [
              0.4444444444444444,
              "#bd3786"
             ],
             [
              0.5555555555555556,
              "#d8576b"
             ],
             [
              0.6666666666666666,
              "#ed7953"
             ],
             [
              0.7777777777777778,
              "#fb9f3a"
             ],
             [
              0.8888888888888888,
              "#fdca26"
             ],
             [
              1,
              "#f0f921"
             ]
            ],
            "type": "histogram2dcontour"
           }
          ],
          "mesh3d": [
           {
            "colorbar": {
             "outlinewidth": 0,
             "ticks": ""
            },
            "type": "mesh3d"
           }
          ],
          "parcoords": [
           {
            "line": {
             "colorbar": {
              "outlinewidth": 0,
              "ticks": ""
             }
            },
            "type": "parcoords"
           }
          ],
          "pie": [
           {
            "automargin": true,
            "type": "pie"
           }
          ],
          "scatter": [
           {
            "fillpattern": {
             "fillmode": "overlay",
             "size": 10,
             "solidity": 0.2
            },
            "type": "scatter"
           }
          ],
          "scatter3d": [
           {
            "line": {
             "colorbar": {
              "outlinewidth": 0,
              "ticks": ""
             }
            },
            "marker": {
             "colorbar": {
              "outlinewidth": 0,
              "ticks": ""
             }
            },
            "type": "scatter3d"
           }
          ],
          "scattercarpet": [
           {
            "marker": {
             "colorbar": {
              "outlinewidth": 0,
              "ticks": ""
             }
            },
            "type": "scattercarpet"
           }
          ],
          "scattergeo": [
           {
            "marker": {
             "colorbar": {
              "outlinewidth": 0,
              "ticks": ""
             }
            },
            "type": "scattergeo"
           }
          ],
          "scattergl": [
           {
            "marker": {
             "colorbar": {
              "outlinewidth": 0,
              "ticks": ""
             }
            },
            "type": "scattergl"
           }
          ],
          "scattermap": [
           {
            "marker": {
             "colorbar": {
              "outlinewidth": 0,
              "ticks": ""
             }
            },
            "type": "scattermap"
           }
          ],
          "scattermapbox": [
           {
            "marker": {
             "colorbar": {
              "outlinewidth": 0,
              "ticks": ""
             }
            },
            "type": "scattermapbox"
           }
          ],
          "scatterpolar": [
           {
            "marker": {
             "colorbar": {
              "outlinewidth": 0,
              "ticks": ""
             }
            },
            "type": "scatterpolar"
           }
          ],
          "scatterpolargl": [
           {
            "marker": {
             "colorbar": {
              "outlinewidth": 0,
              "ticks": ""
             }
            },
            "type": "scatterpolargl"
           }
          ],
          "scatterternary": [
           {
            "marker": {
             "colorbar": {
              "outlinewidth": 0,
              "ticks": ""
             }
            },
            "type": "scatterternary"
           }
          ],
          "surface": [
           {
            "colorbar": {
             "outlinewidth": 0,
             "ticks": ""
            },
            "colorscale": [
             [
              0,
              "#0d0887"
             ],
             [
              0.1111111111111111,
              "#46039f"
             ],
             [
              0.2222222222222222,
              "#7201a8"
             ],
             [
              0.3333333333333333,
              "#9c179e"
             ],
             [
              0.4444444444444444,
              "#bd3786"
             ],
             [
              0.5555555555555556,
              "#d8576b"
             ],
             [
              0.6666666666666666,
              "#ed7953"
             ],
             [
              0.7777777777777778,
              "#fb9f3a"
             ],
             [
              0.8888888888888888,
              "#fdca26"
             ],
             [
              1,
              "#f0f921"
             ]
            ],
            "type": "surface"
           }
          ],
          "table": [
           {
            "cells": {
             "fill": {
              "color": "#EBF0F8"
             },
             "line": {
              "color": "white"
             }
            },
            "header": {
             "fill": {
              "color": "#C8D4E3"
             },
             "line": {
              "color": "white"
             }
            },
            "type": "table"
           }
          ]
         },
         "layout": {
          "annotationdefaults": {
           "arrowcolor": "#2a3f5f",
           "arrowhead": 0,
           "arrowwidth": 1
          },
          "autotypenumbers": "strict",
          "coloraxis": {
           "colorbar": {
            "outlinewidth": 0,
            "ticks": ""
           }
          },
          "colorscale": {
           "diverging": [
            [
             0,
             "#8e0152"
            ],
            [
             0.1,
             "#c51b7d"
            ],
            [
             0.2,
             "#de77ae"
            ],
            [
             0.3,
             "#f1b6da"
            ],
            [
             0.4,
             "#fde0ef"
            ],
            [
             0.5,
             "#f7f7f7"
            ],
            [
             0.6,
             "#e6f5d0"
            ],
            [
             0.7,
             "#b8e186"
            ],
            [
             0.8,
             "#7fbc41"
            ],
            [
             0.9,
             "#4d9221"
            ],
            [
             1,
             "#276419"
            ]
           ],
           "sequential": [
            [
             0,
             "#0d0887"
            ],
            [
             0.1111111111111111,
             "#46039f"
            ],
            [
             0.2222222222222222,
             "#7201a8"
            ],
            [
             0.3333333333333333,
             "#9c179e"
            ],
            [
             0.4444444444444444,
             "#bd3786"
            ],
            [
             0.5555555555555556,
             "#d8576b"
            ],
            [
             0.6666666666666666,
             "#ed7953"
            ],
            [
             0.7777777777777778,
             "#fb9f3a"
            ],
            [
             0.8888888888888888,
             "#fdca26"
            ],
            [
             1,
             "#f0f921"
            ]
           ],
           "sequentialminus": [
            [
             0,
             "#0d0887"
            ],
            [
             0.1111111111111111,
             "#46039f"
            ],
            [
             0.2222222222222222,
             "#7201a8"
            ],
            [
             0.3333333333333333,
             "#9c179e"
            ],
            [
             0.4444444444444444,
             "#bd3786"
            ],
            [
             0.5555555555555556,
             "#d8576b"
            ],
            [
             0.6666666666666666,
             "#ed7953"
            ],
            [
             0.7777777777777778,
             "#fb9f3a"
            ],
            [
             0.8888888888888888,
             "#fdca26"
            ],
            [
             1,
             "#f0f921"
            ]
           ]
          },
          "colorway": [
           "#636efa",
           "#EF553B",
           "#00cc96",
           "#ab63fa",
           "#FFA15A",
           "#19d3f3",
           "#FF6692",
           "#B6E880",
           "#FF97FF",
           "#FECB52"
          ],
          "font": {
           "color": "#2a3f5f"
          },
          "geo": {
           "bgcolor": "white",
           "lakecolor": "white",
           "landcolor": "#E5ECF6",
           "showlakes": true,
           "showland": true,
           "subunitcolor": "white"
          },
          "hoverlabel": {
           "align": "left"
          },
          "hovermode": "closest",
          "mapbox": {
           "style": "light"
          },
          "paper_bgcolor": "white",
          "plot_bgcolor": "#E5ECF6",
          "polar": {
           "angularaxis": {
            "gridcolor": "white",
            "linecolor": "white",
            "ticks": ""
           },
           "bgcolor": "#E5ECF6",
           "radialaxis": {
            "gridcolor": "white",
            "linecolor": "white",
            "ticks": ""
           }
          },
          "scene": {
           "xaxis": {
            "backgroundcolor": "#E5ECF6",
            "gridcolor": "white",
            "gridwidth": 2,
            "linecolor": "white",
            "showbackground": true,
            "ticks": "",
            "zerolinecolor": "white"
           },
           "yaxis": {
            "backgroundcolor": "#E5ECF6",
            "gridcolor": "white",
            "gridwidth": 2,
            "linecolor": "white",
            "showbackground": true,
            "ticks": "",
            "zerolinecolor": "white"
           },
           "zaxis": {
            "backgroundcolor": "#E5ECF6",
            "gridcolor": "white",
            "gridwidth": 2,
            "linecolor": "white",
            "showbackground": true,
            "ticks": "",
            "zerolinecolor": "white"
           }
          },
          "shapedefaults": {
           "line": {
            "color": "#2a3f5f"
           }
          },
          "ternary": {
           "aaxis": {
            "gridcolor": "white",
            "linecolor": "white",
            "ticks": ""
           },
           "baxis": {
            "gridcolor": "white",
            "linecolor": "white",
            "ticks": ""
           },
           "bgcolor": "#E5ECF6",
           "caxis": {
            "gridcolor": "white",
            "linecolor": "white",
            "ticks": ""
           }
          },
          "title": {
           "x": 0.05
          },
          "xaxis": {
           "automargin": true,
           "gridcolor": "white",
           "linecolor": "white",
           "ticks": "",
           "title": {
            "standoff": 15
           },
           "zerolinecolor": "white",
           "zerolinewidth": 2
          },
          "yaxis": {
           "automargin": true,
           "gridcolor": "white",
           "linecolor": "white",
           "ticks": "",
           "title": {
            "standoff": 15
           },
           "zerolinecolor": "white",
           "zerolinewidth": 2
          }
         }
        },
        "title": {
         "text": "[tumor-id] over [treatment], n=12 (27)"
        },
        "width": 2000
       }
      }
     },
     "metadata": {},
     "output_type": "display_data"
    }
   ],
   "source": [
    "pls.plot_sankey(\n",
    "    width=2000,\n",
    "    font_size=15,\n",
    "    # renderer=\"png\",\n",
    ")"
   ]
  },
  {
   "cell_type": "markdown",
   "metadata": {},
   "source": [
    "## tbl"
   ]
  },
  {
   "cell_type": "markdown",
   "metadata": {},
   "source": [
    "### describe_df()"
   ]
  },
  {
   "cell_type": "code",
   "execution_count": null,
   "metadata": {},
   "outputs": [
    {
     "name": "stdout",
     "output_type": "stream",
     "text": [
      "🔵 *** df: taxis ***  \n",
      "🟣 shape: (6_433, 15) columns: ['pickup' 'dropoff' 'passengers' 'distance' 'fare' 'tip' 'tolls' 'total'\n",
      " 'color' 'payment' 'pickup_zone' 'dropoff_zone' 'pickup_borough'\n",
      " 'dropoff_borough' 'lol']  \n",
      "🟣 duplicates: 0  \n",
      "🟣 uniques: [{pickup: 6_414 dropoff: 6_425 passengers: 7 distance: 1_079 fare: 220 tip: 489 tolls:  \n",
      "16 total: 898 color: 2 payment: 2 pickup_zone: 194 dropoff_zone: 203 pickup_borough:  \n",
      "4 dropoff_borough: 5 lol: 1}]  \n",
      "🟣 missings: [{pickup: 0 dropoff: 0 passengers: 0 distance: 0 fare: 0 tip: 0 tolls: 0 total: 0 color:  \n",
      "0 payment: 44 pickup_zone: 26 dropoff_zone: 45 pickup_borough: 26 dropoff_borough:  \n",
      "45 lol: 0}]  \n",
      "--- column uniques (all)  \n",
      "🟠 index [0, 1, 2, 3, 4,]  \n",
      "🟠 pickup(6_414|datetime64[ns])   [2019-02-28 23:29:03, 2019-03-01 00:03:29, 2019-03-01 00:08:32, 2019-03-01 00:15:53,  \n",
      "2019-03-01 00:29:22,]  \n",
      "🟠 dropoff(6_425|datetime64[ns])   [2019-02-28 23:32:35, 2019-03-01 00:13:32, 2019-03-01 00:29:47, 2019-03-01 00:32:48,  \n",
      "2019-03-01 00:37:39,]  \n",
      "🟠 passengers(7|int64)   [0, 1, 2, 3, 4,]  \n",
      "🟠 distance(1_079|float64)   [0.0, 0.01, 0.02, 0.03, 0.04,]  \n",
      "🟠 fare(220|float64)   [1.0, 2.5, 3.0, 3.5, 4.0,]  \n",
      "🟠 tip(489|float64)   [0.0, 0.01, 0.02, 0.06, 0.08,]  \n",
      "🟠 tolls(16|float64)   [0.0, 2.64, 4.75, 5.54, 5.75,]  \n",
      "🟠 total(898|float64)   [1.3, 3.3, 3.31, 3.8, 4.3,]  \n",
      "🟠 color(2|object)   ['green', 'yellow',]  \n",
      "🟠 payment(3|object)   ['<NA>', 'cash', 'credit card',]  \n",
      "🟠 pickup_zone(195|object)   ['<NA>', 'Allerton/Pelham Gardens', 'Alphabet City', 'Astoria', 'Auburndale',]  \n",
      "🟠 dropoff_zone(204|object)   ['<NA>', 'Allerton/Pelham Gardens', 'Alphabet City', 'Astoria', 'Auburndale',]  \n",
      "🟠 pickup_borough(5|object)   ['<NA>', 'Bronx', 'Brooklyn', 'Manhattan', 'Queens',]  \n",
      "🟠 dropoff_borough(6|object)   ['<NA>', 'Bronx', 'Brooklyn', 'Manhattan', 'Queens',]  \n",
      "🟠 lol(1|object)   ['nan',]  \n",
      "--- column stats (numeric)  \n",
      "passengers -> min: 0 | lower: 0 | q25: 1.0 | median: 1.0 | mean: 1.539 | q75: 2.0 | upper: 3.5 | max: 6 | std: 1.204 | cv: 0.782 | sum: 9_902 | skew: 2.359 | kurto: 4.881  \n",
      "distance -> min: 0.0 | lower: 0.0 | q25: 0.98 | median: 1.64 | mean: 3.025 | q75: 3.21 | upper: 6.555 | max: 36.7 | std: 3.828 | cv: 1.266 | sum: 19_457.36 | skew: 3.008 | kurto: 11.135  \n",
      "fare -> min: 1.0 | lower: 1.0 | q25: 6.5 | median: 9.5 | mean: 13.091 | q75: 15.0 | upper: 27.75 | max: 150.0 | std: 11.552 | cv: 0.882 | sum: 84_214.87 | skew: 3.217 | kurto: 17.649  \n",
      "tip -> min: 0.0 | lower: 0.0 | q25: 0.0 | median: 1.7 | mean: 1.979 | q75: 2.8 | upper: 7.0 | max: 33.2 | std: 2.449 | cv: 1.237 | sum: 12_732.32 | skew: 2.665 | kurto: 12.74  \n",
      "tolls -> min: 0.0 | lower: 0.0 | q25: 0.0 | median: 0.0 | mean: 0.325 | q75: 0.0 | upper: 0.0 | max: 24.02 | std: 1.415 | cv: 4.351 | sum: 2_092.48 | skew: 5.074 | kurto: 35.442  \n",
      "total -> min: 1.3 | lower: 1.3 | q25: 10.8 | median: 14.16 | mean: 18.518 | q75: 20.3 | upper: 34.55 | max: 174.82 | std: 13.816 | cv: 0.746 | sum: 119_124.97 | skew: 3.093 | kurto: 15.053  \n"
     ]
    },
    {
     "data": {
      "text/html": [
       "<div>\n",
       "<style scoped>\n",
       "    .dataframe tbody tr th:only-of-type {\n",
       "        vertical-align: middle;\n",
       "    }\n",
       "\n",
       "    .dataframe tbody tr th {\n",
       "        vertical-align: top;\n",
       "    }\n",
       "\n",
       "    .dataframe thead th {\n",
       "        text-align: right;\n",
       "    }\n",
       "</style>\n",
       "<table border=\"1\" class=\"dataframe\">\n",
       "  <thead>\n",
       "    <tr style=\"text-align: right;\">\n",
       "      <th></th>\n",
       "      <th>pickup</th>\n",
       "      <th>dropoff</th>\n",
       "      <th>passengers</th>\n",
       "      <th>distance</th>\n",
       "      <th>fare</th>\n",
       "      <th>tip</th>\n",
       "      <th>tolls</th>\n",
       "      <th>total</th>\n",
       "      <th>color</th>\n",
       "      <th>payment</th>\n",
       "      <th>pickup_zone</th>\n",
       "      <th>dropoff_zone</th>\n",
       "      <th>pickup_borough</th>\n",
       "      <th>dropoff_borough</th>\n",
       "      <th>lol</th>\n",
       "    </tr>\n",
       "  </thead>\n",
       "  <tbody>\n",
       "    <tr>\n",
       "      <th>0</th>\n",
       "      <td>2019-03-23 20:21:09</td>\n",
       "      <td>2019-03-23 20:27:24</td>\n",
       "      <td>1</td>\n",
       "      <td>1.60</td>\n",
       "      <td>7.0</td>\n",
       "      <td>2.15</td>\n",
       "      <td>0.0</td>\n",
       "      <td>12.95</td>\n",
       "      <td>yellow</td>\n",
       "      <td>credit card</td>\n",
       "      <td>Lenox Hill West</td>\n",
       "      <td>UN/Turtle Bay South</td>\n",
       "      <td>Manhattan</td>\n",
       "      <td>Manhattan</td>\n",
       "      <td>nan</td>\n",
       "    </tr>\n",
       "    <tr>\n",
       "      <th>1</th>\n",
       "      <td>2019-03-04 16:11:55</td>\n",
       "      <td>2019-03-04 16:19:00</td>\n",
       "      <td>1</td>\n",
       "      <td>0.79</td>\n",
       "      <td>5.0</td>\n",
       "      <td>0.00</td>\n",
       "      <td>0.0</td>\n",
       "      <td>9.30</td>\n",
       "      <td>yellow</td>\n",
       "      <td>cash</td>\n",
       "      <td>Upper West Side South</td>\n",
       "      <td>Upper West Side South</td>\n",
       "      <td>Manhattan</td>\n",
       "      <td>Manhattan</td>\n",
       "      <td>nan</td>\n",
       "    </tr>\n",
       "    <tr>\n",
       "      <th>2</th>\n",
       "      <td>2019-03-27 17:53:01</td>\n",
       "      <td>2019-03-27 18:00:25</td>\n",
       "      <td>1</td>\n",
       "      <td>1.37</td>\n",
       "      <td>7.5</td>\n",
       "      <td>2.36</td>\n",
       "      <td>0.0</td>\n",
       "      <td>14.16</td>\n",
       "      <td>yellow</td>\n",
       "      <td>credit card</td>\n",
       "      <td>Alphabet City</td>\n",
       "      <td>West Village</td>\n",
       "      <td>Manhattan</td>\n",
       "      <td>Manhattan</td>\n",
       "      <td>nan</td>\n",
       "    </tr>\n",
       "  </tbody>\n",
       "</table>\n",
       "</div>"
      ],
      "text/plain": [
       "               pickup             dropoff  passengers  distance  fare   tip  \\\n",
       "0 2019-03-23 20:21:09 2019-03-23 20:27:24           1      1.60   7.0  2.15   \n",
       "1 2019-03-04 16:11:55 2019-03-04 16:19:00           1      0.79   5.0  0.00   \n",
       "2 2019-03-27 17:53:01 2019-03-27 18:00:25           1      1.37   7.5  2.36   \n",
       "\n",
       "   tolls  total   color      payment            pickup_zone  \\\n",
       "0    0.0  12.95  yellow  credit card        Lenox Hill West   \n",
       "1    0.0   9.30  yellow         cash  Upper West Side South   \n",
       "2    0.0  14.16  yellow  credit card          Alphabet City   \n",
       "\n",
       "            dropoff_zone pickup_borough dropoff_borough  lol  \n",
       "0    UN/Turtle Bay South      Manhattan       Manhattan  nan  \n",
       "1  Upper West Side South      Manhattan       Manhattan  nan  \n",
       "2           West Village      Manhattan       Manhattan  nan  "
      ]
     },
     "metadata": {},
     "output_type": "display_data"
    },
    {
     "data": {
      "application/vnd.plotly.v1+json": {
       "config": {
        "plotlyServerURL": "https://plot.ly"
       },
       "data": [
        {
         "hovertemplate": "x=%{x}<br>y=%{y}<extra></extra>",
         "legendgroup": "",
         "marker": {
          "color": "#636efa",
          "pattern": {
           "shape": ""
          }
         },
         "name": "",
         "orientation": "v",
         "showlegend": false,
         "textposition": "auto",
         "type": "bar",
         "x": [
          "2019-03-13 10:57:06",
          "2019-03-21 08:59:27",
          "2019-03-01 23:48:39",
          "2019-03-28 08:21:02",
          "2019-03-07 19:54:40",
          "2019-03-24 00:12:23",
          "2019-03-16 10:37:52",
          "2019-03-13 17:27:27",
          "2019-03-22 23:15:20",
          "2019-03-26 08:02:40",
          "2019-03-18 20:39:17",
          "2019-03-27 21:37:43",
          "2019-03-11 20:28:00",
          "2019-03-28 18:47:12",
          "2019-03-15 08:39:34",
          "2019-03-28 10:05:08",
          "2019-03-19 14:40:14",
          "2019-03-06 14:40:57",
          "2019-03-17 12:10:05",
          "2019-03-22 12:47:13",
          "2019-03-16 10:02:25",
          "2019-03-08 16:18:37",
          "2019-03-23 11:48:50",
          "2019-03-10 01:23:59",
          "2019-03-26 21:07:31",
          "2019-03-11 10:37:23",
          "2019-03-30 13:27:42",
          "2019-03-27 17:53:01",
          "2019-03-18 21:27:14",
          "2019-03-20 19:39:42",
          "2019-03-21 03:37:34",
          "2019-03-19 07:55:25",
          "2019-03-27 12:13:34",
          "2019-03-16 17:53:34",
          "2019-03-15 12:36:05",
          "2019-03-23 20:50:49",
          "2019-03-27 06:28:36",
          "2019-03-25 22:04:25",
          "2019-03-25 08:01:01",
          "2019-03-25 23:05:54",
          "2019-03-28 17:20:54",
          "2019-03-04 12:15:39",
          "2019-03-07 15:15:46",
          "2019-03-07 16:49:01",
          "2019-03-03 02:45:36",
          "2019-03-16 20:30:36",
          "2019-03-20 12:25:31",
          "2019-03-06 08:09:03",
          "2019-03-10 15:14:20",
          "2019-03-01 02:55:55",
          "2019-03-17 19:24:50",
          "2019-03-20 22:29:32",
          "2019-03-21 10:48:02",
          "2019-03-01 17:39:58",
          "2019-03-22 17:28:51",
          "2019-03-21 18:41:58",
          "2019-03-18 16:03:14",
          "2019-03-25 22:50:56",
          "2019-03-02 10:47:45",
          "2019-03-24 18:42:56",
          "2019-03-30 23:59:14",
          "2019-03-27 19:39:16",
          "2019-03-14 07:19:29",
          "2019-03-07 11:19:21",
          "2019-03-20 11:40:59",
          "2019-03-13 06:17:45",
          "2019-03-24 09:53:28",
          "2019-03-09 19:54:40",
          "2019-03-04 21:35:00",
          "2019-03-17 01:28:28",
          "2019-03-21 21:30:05",
          "2019-03-20 18:49:24",
          "2019-03-24 01:13:51",
          "2019-03-14 12:11:52",
          "2019-03-05 17:57:00",
          "2019-03-17 13:55:43",
          "2019-03-01 23:21:01",
          "2019-03-09 19:24:01",
          "2019-03-01 22:49:54",
          "2019-03-13 10:55:10",
          "2019-03-21 23:33:55",
          "2019-03-28 21:59:44",
          "2019-03-26 10:14:55",
          "2019-03-02 19:08:25",
          "2019-03-15 13:42:03",
          "2019-03-04 13:39:06",
          "2019-03-22 02:22:01",
          "2019-03-31 15:43:37",
          "2019-03-27 19:27:17",
          "2019-03-13 07:34:09",
          "2019-03-12 15:44:53",
          "2019-03-29 08:48:46",
          "2019-03-16 16:36:34",
          "2019-03-16 17:38:47",
          "2019-03-09 13:42:08",
          "2019-03-05 15:41:23",
          "2019-03-18 19:57:00",
          "2019-03-17 22:47:36",
          "2019-03-15 23:46:05",
          "2019-03-16 18:57:19"
         ],
         "xaxis": "x",
         "y": {
          "bdata": "AgICAgICAgICAgICAgICAgICAgEBAQEBAQEBAQEBAQEBAQEBAQEBAQEBAQEBAQEBAQEBAQEBAQEBAQEBAQEBAQEBAQEBAQEBAQEBAQEBAQEBAQEBAQEBAQEBAQEBAQEBAQEBAQ==",
          "dtype": "i1"
         },
         "yaxis": "y"
        },
        {
         "hovertemplate": "x=%{x}<br>y=%{y}<extra></extra>",
         "legendgroup": "",
         "marker": {
          "color": "#636efa",
          "pattern": {
           "shape": ""
          }
         },
         "name": "",
         "orientation": "v",
         "showlegend": false,
         "textposition": "auto",
         "type": "bar",
         "x": [
          "2019-03-04 18:08:13",
          "2019-03-01 19:18:55",
          "2019-03-06 10:54:59",
          "2019-03-02 00:58:26",
          "2019-03-26 17:39:56",
          "2019-03-13 19:39:35",
          "2019-03-22 11:06:48",
          "2019-03-20 10:38:15",
          "2019-03-26 21:17:29",
          "2019-03-16 10:22:29",
          "2019-03-08 16:26:57",
          "2019-03-23 12:06:14",
          "2019-03-22 12:58:17",
          "2019-03-10 01:49:51",
          "2019-03-11 10:47:31",
          "2019-03-30 13:37:14",
          "2019-03-18 21:34:16",
          "2019-03-27 18:00:25",
          "2019-03-20 19:45:36",
          "2019-03-15 12:54:28",
          "2019-03-19 08:09:17",
          "2019-03-27 12:25:48",
          "2019-03-16 18:13:57",
          "2019-03-25 08:13:27",
          "2019-03-23 21:02:07",
          "2019-03-27 06:38:10",
          "2019-03-25 22:11:30",
          "2019-03-21 03:44:13",
          "2019-03-25 23:11:13",
          "2019-03-28 17:55:57",
          "2019-03-24 10:01:22",
          "2019-03-04 12:26:53",
          "2019-03-20 12:06:41",
          "2019-03-07 16:57:07",
          "2019-03-03 03:02:14",
          "2019-03-16 20:46:22",
          "2019-03-20 12:45:02",
          "2019-03-06 08:27:11",
          "2019-03-10 15:20:17",
          "2019-03-01 02:57:59",
          "2019-03-17 19:29:58",
          "2019-03-20 22:32:24",
          "2019-03-21 10:57:45",
          "2019-03-01 18:04:46",
          "2019-03-22 17:33:51",
          "2019-03-21 19:15:25",
          "2019-03-18 16:10:36",
          "2019-03-25 22:59:51",
          "2019-03-07 15:50:14",
          "2019-03-24 19:09:00",
          "2019-03-30 23:59:17",
          "2019-03-27 20:00:26",
          "2019-03-14 07:45:51",
          "2019-03-07 11:39:09",
          "2019-03-04 21:53:42",
          "2019-03-13 06:21:54",
          "2019-03-02 10:56:08",
          "2019-03-17 22:55:32",
          "2019-03-16 17:56:04",
          "2019-03-29 08:56:07",
          "2019-03-20 19:12:40",
          "2019-03-24 01:24:00",
          "2019-03-14 12:40:54",
          "2019-03-05 18:45:25",
          "2019-03-17 14:01:39",
          "2019-03-01 23:46:28",
          "2019-03-09 19:33:32",
          "2019-03-01 22:53:32",
          "2019-03-13 11:23:25",
          "2019-03-21 23:36:39",
          "2019-03-28 22:04:04",
          "2019-03-26 10:26:58",
          "2019-03-02 19:31:42",
          "2019-03-15 13:49:00",
          "2019-03-04 13:58:52",
          "2019-03-22 02:30:21",
          "2019-03-31 15:53:39",
          "2019-03-27 19:48:47",
          "2019-03-13 07:38:18",
          "2019-03-12 16:02:05",
          "2019-03-02 23:17:34",
          "2019-03-21 21:39:03",
          "2019-03-17 02:04:54",
          "2019-03-05 15:46:30",
          "2019-03-16 16:54:50",
          "2019-03-18 20:06:22",
          "2019-03-28 11:49:30",
          "2019-03-15 23:59:52",
          "2019-03-16 19:00:16",
          "2019-03-14 12:08:32",
          "2019-03-16 21:21:58",
          "2019-03-09 20:07:27",
          "2019-03-03 16:48:36",
          "2019-03-04 20:24:14",
          "2019-03-28 23:16:56",
          "2019-03-16 05:08:20",
          "2019-03-27 22:41:40",
          "2019-03-07 11:05:01",
          "2019-03-11 08:47:21",
          "2019-03-28 07:41:14"
         ],
         "xaxis": "x2",
         "y": {
          "bdata": "AgICAgICAgIBAQEBAQEBAQEBAQEBAQEBAQEBAQEBAQEBAQEBAQEBAQEBAQEBAQEBAQEBAQEBAQEBAQEBAQEBAQEBAQEBAQEBAQEBAQEBAQEBAQEBAQEBAQEBAQEBAQEBAQEBAQ==",
          "dtype": "i1"
         },
         "yaxis": "y2"
        },
        {
         "hovertemplate": "x=%{x}<br>y=%{y}<extra></extra>",
         "legendgroup": "",
         "marker": {
          "color": "#636efa",
          "pattern": {
           "shape": ""
          }
         },
         "name": "",
         "orientation": "v",
         "showlegend": false,
         "textposition": "auto",
         "type": "bar",
         "x": {
          "bdata": "AQIFAwYEAA==",
          "dtype": "i1"
         },
         "xaxis": "x3",
         "y": {
          "bdata": "RhJsAxUB8wCZAG4AYAA=",
          "dtype": "i2"
         },
         "yaxis": "y3"
        },
        {
         "hovertemplate": "x=%{x}<br>y=%{y}<extra></extra>",
         "legendgroup": "",
         "marker": {
          "color": "#636efa",
          "pattern": {
           "shape": ""
          }
         },
         "name": "",
         "orientation": "v",
         "showlegend": false,
         "textposition": "auto",
         "type": "bar",
         "x": {
          "bdata": "mpmZmZmZ6T8AAAAAAADwP83MzMzMzOw/ZmZmZmZm5j8zMzMzMzPzP5qZmZmZmfE/MzMzMzMz4z/NzMzMzMz0P5qZmZmZmfk/ZmZmZmZm9j8AAAAAAAD4PzMzMzMzM/s/AAAAAAAA4D/NzMzMzMz8P2ZmZmZmZv4/mpmZmZmZ2T8AAAAAAAAAQAAAAAAAAAAAzczMzMzMAEBmZmZmZmYCQM3MzMzMzARAMzMzMzMzB0CamZmZmZkBQGZmZmZmZgZAmpmZmZmZBUAAAAAAAAAEQDMzMzMzMwNAMzMzMzMz0z8AAAAAAAAMQB+F61G4HuU/KVyPwvUo7D9mZmZmZmbyP5qZmZmZmeE/zczMzMzMCEBmZmZmZmbuP9ejcD0K1+s/XI/C9Shc9z97FK5H4XrkP1K4HoXrUfQ/7FG4HoXr6T8fhetRuB7tP1K4HoXrUfA/CtejcD0K7z/2KFyPwvXwP3sUrkfheuw/4XoUrkfh6j8pXI/C9Sj0P2ZmZmZmZgpAhetRuB6F6z+F61G4HoX3P1yPwvUoXOc/rkfhehSu7z8zMzMzMzMPQMP1KFyPwuU/FK5H4XoU9j8pXI/C9SjwP+F6FK5H4fY/exSuR+F68D+kcD0K16PoPz0K16NwPeo/mpmZmZmZCUA9CtejcD3yPxSuR+F6FO4/pHA9Ctej/D9cj8L1KFzvPwAAAAAAAAhApHA9Ctej8D/Xo3A9Ctf3PxSuR+F6FPI/w/UoXI/C8T+uR+F6FK7nP2ZmZmZmZg5AMzMzMzMz6z/NzMzMzMzwP3E9CtejcPE/SOF6FK5H8T/D9Shcj8LtP1K4HoXrUfg/uB6F61G43j9cj8L1KFzzP/YoXI/C9eg/H4XrUbge9T/NzMzMzMz4PwrXo3A9CvM/uB6F61G49j/sUbgehev1PzMzMzMzM/c/uB6F61G45j8fhetRuB7xP3sUrkfhevQ/cT0K16Nw9T+PwvUoXI/iP83MzMzMzBJAPQrXo3A99j8UrkfhehT6P1yPwvUoXN8/9ihcj8L14D/Xo3A9CtfjP5qZmZmZmRFAhetRuB6F8z8=",
          "dtype": "f8"
         },
         "xaxis": "x4",
         "y": {
          "bdata": "gwB2AHQAbABrAGoAaABhAFoAUwBRAE4ASwBDAEEAOgAzADMAMQAuACoAJQAjACMAIgAgAB4AHQAcABoAGQAZABgAGAAYABcAFwAXABcAFgAWABYAFgAWABYAFgAVABUAFQAUABQAFAAUABMAEwATABMAEwATABMAEwATABMAEwATABMAEgASABIAEgASABIAEgASABIAEgARABEAEQARABEAEQARABEAEQAQABAAEAAQABAAEAAQABAAEAAQABAAEAAQABAADwA=",
          "dtype": "i2"
         },
         "yaxis": "y4"
        },
        {
         "hovertemplate": "x=%{x}<br>y=%{y}<extra></extra>",
         "legendgroup": "",
         "marker": {
          "color": "#636efa",
          "pattern": {
           "shape": ""
          }
         },
         "name": "",
         "orientation": "v",
         "showlegend": false,
         "textposition": "auto",
         "type": "bar",
         "x": {
          "bdata": "AAAAAAAAHkAAAAAAAAAYQAAAAAAAABpAAAAAAAAAFEAAAAAAAAAWQAAAAAAAABxAAAAAAAAAIEAAAAAAAAAhQAAAAAAAACNAAAAAAAAAEkAAAAAAAAAiQAAAAAAAACRAAAAAAAAAJUAAAAAAAAAnQAAAAAAAACZAAAAAAAAAEEAAAAAAAAAoQAAAAAAAAEpAAAAAAAAAKUAAAAAAAAAqQAAAAAAAACtAAAAAAAAALkAAAAAAAAAMQAAAAAAAACxAAAAAAAAALUAAAAAAAAAwQAAAAAAAAC9AAAAAAAAAMUAAAAAAAIAwQAAAAAAAgDFAAAAAAAAAM0AAAAAAAIAyQAAAAAAAADJAAAAAAAAANEAAAAAAAAAEQAAAAAAAADZAAAAAAACAM0AAAAAAAAA3QAAAAAAAAAhAAAAAAAAANUAAAAAAAAA6QAAAAAAAgDRAAAAAAACAOUAAAAAAAIA8QAAAAAAAADhAAAAAAACAPUAAAAAAAIA2QAAAAAAAgDVAAAAAAAAAPEAAAAAAAIA3QAAAAAAAgD9AAAAAAAAAO0AAAAAAAIA7QAAAAAAAADlAAAAAAAAAP0AAAAAAAAA+QAAAAAAAgDhAAAAAAAAAQkAAAAAAAABAQAAAAAAAwEBAAAAAAAAAQUAAAAAAAIBAQAAAAAAAgENAAAAAAACAPkAAAAAAAAA9QAAAAAAAQEJAAAAAAADAQUAAAAAAAABEQAAAAAAAgDpAAAAAAAAAQ0AAAAAAAIBBQAAAAAAAQEVAAAAAAABAREAAAAAAAEBDQAAAAAAAgEJAAAAAAAAARkAAAAAAAEBAQAAAAAAAwENAAAAAAABASUAAAAAAAABFQAAAAAAAQEFAAAAAAADARUAAAAAAAIBGQAAAAAAAAEdAAAAAAACAREAAAAAAAABJQAAAAAAAgEVAAAAAAABAR0AAAAAAAMBNQAAAAAAAwEZAAAAAAADAQkAAAAAAAIBIQAAAAAAAAEhAw/UoXI9CM0AAAAAAAIBMQAAAAAAAwEhAAAAAAAAATEAAAAAAAOBQQAAAAAAAAE1AAAAAAABARkA=",
          "dtype": "f8"
         },
         "xaxis": "x5",
         "y": {
          "bdata": "XgFZAUMBOQE4ASgBAgH+AOUA2QDJAMcAswCgAJ8AmgCWAIMAfABuAGgAZQBhAF4AVgBVAEwASABEADYAMwAxACsAKAAnACYAIwAiAB8AHgAbABoAGAAYABcAFgAWABUAFAAUABIAEQARABEAEQAQAA8ADwANAA0ADQAMAAwADAAMAAsACgAJAAkACQAJAAcABgAGAAYABgAGAAUABQAFAAQABAAEAAQABAADAAMAAwADAAMAAwADAAMAAgACAAIAAgACAAIAAgA=",
          "dtype": "i2"
         },
         "yaxis": "y5"
        },
        {
         "hovertemplate": "x=%{x}<br>y=%{y}<extra></extra>",
         "legendgroup": "",
         "marker": {
          "color": "#636efa",
          "pattern": {
           "shape": ""
          }
         },
         "name": "",
         "orientation": "v",
         "showlegend": false,
         "textposition": "auto",
         "type": "bar",
         "x": {
          "bdata": "AAAAAAAAAAAAAAAAAADwPwAAAAAAAABASOF6FK5HAUDD9Shcj8L9PwAAAAAAAAhAFK5H4XoUAkDhehSuR+ECQFyPwvUoXP8/AAAAAAAA+D8pXI/C9Sj8P3sUrkfhegBAj8L1KFyP+j8zMzMzMzP/P65H4XoUrgNAFK5H4XoUBkBI4XoUrkcFQDMzMzMzMwFA9ihcj8L1+D+amZmZmZkDQK5H4XoUrgdAAAAAAAAAFEBI4XoUrkcJQOF6FK5H4QZAMzMzMzMz8z8AAAAAAAD8P3sUrkfheghAexSuR+F6BEAAAAAAAAACQGZmZmZmZgBAmpmZmZmZ/T9cj8L1KFz3P5qZmZmZmQdAZmZmZmZmCEDhehSuR+EKQAAAAAAAABBAFK5H4XoUCkBmZmZmZmYEQJqZmZmZmQFAMzMzMzMz+z+amZmZmZkLQM3MzMzMzPg/zczMzMzMAkDNzMzMzMwGQAAAAAAAAARAZmZmZmZm+j8UrkfhehQOQDMzMzMzMwVAAAAAAAAABkBI4XoUrkcNQI/C9ShcjwJArkfhehSuC0CamZmZmZkFQJqZmZmZmQlAexSuR+F6DECkcD0K16MAQNejcD0K1xFAMzMzMzMzCUDsUbgehWsoQJqZmZmZmQ1AmpmZmZmZD0AAAAAAAAAKQOF6FK5H4Q5AH4XrUbge9T+uR+F6FK4PQDMzMzMzMw1ApHA9CtejEEApXI/C9Sj0PzMzMzMzMxBAzczMzMzMEUAAAAAAAAD0P2ZmZmZmZuY/AAAAAAAAGEBSuB6F61H8P9ejcD0K1xNACtejcD0KEUBmZmZmZmb2P/YoXI/C9fA/AAAAAAAADkBmZmZmZmYMQD0K16NwPRBAuB6F61G4AkAAAAAAAADgPwAAAAAAACRAUrgehetREEDNzMzMzMwKQMP1KFyPwvU/CtejcD0KFUCamZmZmZkQQKRwPQrXoxJAcT0K16NwEUA9CtejcD0SQIXrUbgehQdApHA9CtejCECF61G4HoX3P4/C9ShcjwZApHA9CtejBECF61G4HoUuQDMzMzMzM/c/AAAAAAAAIEA=",
          "dtype": "f8"
         },
         "xaxis": "x6",
         "y": {
          "bdata": "Bwk4AdMAWQBPAE0ASgBKAEkARwBFAEAAOgA5ADUANAA0ADMAMQAuACsAKgApACgAKAAmACYAJAAkACQAIwAjACMAIgAgACAAHQAdAB0AHQAcABwAGwAbABkAGQAZABgAFwAXABYAFQAVABQAEwASABIAEgASABEAEAAPAA8ADwAOAA4ADQANAA0ADQANAAwADAAMAAwADAAMAAwACwALAAsACwALAAsACwAKAAoACgAKAAoACQAJAAkACQAJAAkACQAIAAgACAA=",
          "dtype": "i2"
         },
         "yaxis": "y6"
        },
        {
         "hovertemplate": "x=%{x}<br>y=%{y}<extra></extra>",
         "legendgroup": "",
         "marker": {
          "color": "#636efa",
          "pattern": {
           "shape": ""
          }
         },
         "name": "",
         "orientation": "v",
         "showlegend": false,
         "textposition": "auto",
         "type": "bar",
         "x": {
          "bdata": "AAAAAAAAAAAK16NwPQoXQB+F61G4HgVACtejcD0KJ0AAAAAAAAApQClcj8L1KBZAexSuR+F6GEDNzMzMzMwgQEjhehSuRzFAw/UoXI9CMEAAAAAAAAAjQAAAAAAAABdAhetRuB4FOEAAAAAAAAAhQGZmZmZm5jJAAAAAAAAAE0A=",
          "dtype": "f8"
         },
         "xaxis": "x7",
         "y": {
          "bdata": "wxdEAQcABAACAAIAAgABAAEAAQABAAEAAQABAAEAAQA=",
          "dtype": "i2"
         },
         "yaxis": "y7"
        },
        {
         "hovertemplate": "x=%{x}<br>y=%{y}<extra></extra>",
         "legendgroup": "",
         "marker": {
          "color": "#636efa",
          "pattern": {
           "shape": ""
          }
         },
         "name": "",
         "orientation": "v",
         "showlegend": false,
         "textposition": "auto",
         "type": "bar",
         "x": {
          "bdata": "mpmZmZmZIkCamZmZmZkmQJqZmZmZmSdAmpmZmZmZI0CamZmZmZkkQJqZmZmZmSFAmpmZmZmZKECamZmZmZkgQJqZmZmZmSVAmpmZmZmZKUCamZmZmZkrQDMzMzMzMx9A7FG4HoXrKUCamZmZmZkqQDMzMzMzMx1AUrgehetRJkCamZmZmZktQFK4HoXrUSxAmpmZmZmZLECF61G4HoUnQB+F61G4HitAH4XrUbgeJUCamZmZmZkvQLgehetRuChAzczMzMzMMEAzMzMzMzMbQJqZmZmZmS5A7FG4HoXrI0CF61G4HoUtQM3MzMzMzDFA7FG4HoXrL0DNzMzMzEwxQM3MzMzMTDBAj8L1KFyPMEC4HoXrUbgiQGZmZmZm5ilAAAAAAACAJ0DD9Shcj8IxQPYoXI/C9TJAKVyPwvUoMUAAAAAAAIAtQDMzMzMzMxdAzczMzMxMMkAzMzMzMzMZQFyPwvUoXDJAmpmZmZkZJUC4HoXrUbguQM3MzMzMTDNAhetRuB6FIUCamZmZmRkrQDMzMzMzsyhAzczMzMxMJkDNzMzMzMw1QM3MzMzMzDRAKVyPwvUoNEDNzMzMzMw2QM3MzMzMzDJAj8L1KFyPM0DNzMzMzEwsQGZmZmZm5i9AZmZmZmYmMUCPwvUoXI82QM3MzMzMTDRAMzMzMzOzLkDNzMzMzMwzQGZmZmZm5iNAzczMzMxMNUCamZmZmVkyQPYoXI/C9TVAMzMzMzOzIkAAAAAAAAAmQMP1KFyPwjRAPQrXo3A9J0DNzMzMzIwwQAAAAAAAgChAAAAAAAAAKkAAAAAAAAArQFyPwvUoXDVAMzMzMzMzE0DNzMzMzMw5QM3MzMzMTDZAMzMzMzPzMkBmZmZmZmYKQMP1KFyPwjpA4XoUrkdRUkAAAAAAAMAxQDMzMzMzMxVAAAAAAAAAMEAzMzMzMzMRQM3MzMzMTDdAzczMzMzMN0DNzMzMzMw6QM3MzMzMjDNAKVyPwvUoN0AAAAAAAEAxQMP1KFyPwiRAzczMzMzMOEAAAAAAAIAjQAAAAAAAwDRAzczMzMxMOEA=",
          "dtype": "f8"
         },
         "xaxis": "x8",
         "y": {
          "bdata": "kgCBAHoAeQB5AHYAZQBkAGIAXwBcAFsAWQBVAFQATwBMAEoASQBJAEkARQBEAEAAPAA7ADsAOAA1ADQANAAzADMAMgAvAC4AKwAqACkAKAAnACYAJgAlACUAJAAkACQAIwAiACEAIAAgACAAIAAdAB0AHQAcABsAGwAaABoAGgAaABoAGQAZABcAFwAVABUAFQAUABQAFAATABMAEwATABIAEgASABIAEgASABEAEQAQABAAEAAPAA8ADwAPAA8ADgAOAA4ADgA=",
          "dtype": "i2"
         },
         "yaxis": "y8"
        },
        {
         "hovertemplate": "x=%{x}<br>y=%{y}<extra></extra>",
         "legendgroup": "",
         "marker": {
          "color": "#636efa",
          "pattern": {
           "shape": ""
          }
         },
         "name": "",
         "orientation": "v",
         "showlegend": false,
         "textposition": "auto",
         "type": "bar",
         "x": [
          "yellow",
          "green"
         ],
         "xaxis": "x9",
         "y": {
          "bdata": "SxXWAw==",
          "dtype": "i2"
         },
         "yaxis": "y9"
        },
        {
         "hovertemplate": "x=%{x}<br>y=%{y}<extra></extra>",
         "legendgroup": "",
         "marker": {
          "color": "#636efa",
          "pattern": {
           "shape": ""
          }
         },
         "name": "",
         "orientation": "v",
         "showlegend": false,
         "textposition": "auto",
         "type": "bar",
         "x": [
          "credit card",
          "cash",
          "<NA>"
         ],
         "xaxis": "x10",
         "y": {
          "bdata": "4REUBywA",
          "dtype": "i2"
         },
         "yaxis": "y10"
        },
        {
         "hovertemplate": "x=%{x}<br>y=%{y}<extra></extra>",
         "legendgroup": "",
         "marker": {
          "color": "#636efa",
          "pattern": {
           "shape": ""
          }
         },
         "name": "",
         "orientation": "v",
         "showlegend": false,
         "textposition": "auto",
         "type": "bar",
         "x": [
          "Midtown Center",
          "Upper East Side South",
          "Penn Station/Madison Sq West",
          "Clinton East",
          "Midtown East",
          "Upper East Side North",
          "Times Sq/Theatre District",
          "Union Sq",
          "Lincoln Square East",
          "Murray Hill",
          "East Village",
          "JFK Airport",
          "LaGuardia Airport",
          "Upper West Side South",
          "Midtown South",
          "Midtown North",
          "East Chelsea",
          "Lenox Hill West",
          "West Village",
          "Gramercy",
          "Garment District",
          "Sutton Place/Turtle Bay North",
          "Yorkville West",
          "Upper West Side North",
          "Lenox Hill East",
          "Flatiron",
          "Greenwich Village North",
          "East Harlem South",
          "TriBeCa/Civic Center",
          "West Chelsea/Hudson Yards",
          "Lincoln Square West",
          "Lower East Side",
          "Greenwich Village South",
          "East Harlem North",
          "Yorkville East",
          "Central Park",
          "Central Harlem",
          "UN/Turtle Bay South",
          "Astoria",
          "Morningside Heights",
          "Kips Bay",
          "Meatpacking/West Village West",
          "Little Italy/NoLiTa",
          "Manhattan Valley",
          "SoHo",
          "Hudson Sq",
          "Battery Park City",
          "Central Harlem North",
          "Clinton West",
          "Fort Greene",
          "Downtown Brooklyn/MetroTech",
          "Elmhurst",
          "Financial District North",
          "Brooklyn Heights",
          "Washington Heights South",
          "Jackson Heights",
          "<NA>",
          "Woodside",
          "Forest Hills",
          "World Trade Center",
          "Hamilton Heights",
          "Park Slope",
          "Boerum Hill",
          "Long Island City/Hunters Point",
          "Bloomingdale",
          "Steinway",
          "Sunnyside",
          "Financial District South",
          "DUMBO/Vinegar Hill",
          "Williamsburg (North Side)",
          "Chinatown",
          "Two Bridges/Seward Park",
          "Crown Heights North",
          "Jamaica",
          "Cobble Hill",
          "Queensbridge/Ravenswood",
          "Williamsburg (South Side)",
          "Seaport",
          "Old Astoria",
          "East New York",
          "Long Island City/Queens Plaza",
          "Bushwick South",
          "Greenpoint",
          "Stuyvesant Heights",
          "East Concourse/Concourse Village",
          "Alphabet City",
          "Manhattanville",
          "Rego Park",
          "Sheepshead Bay",
          "Mott Haven/Port Morris",
          "Parkchester",
          "Clinton Hill",
          "Flushing",
          "Washington Heights North",
          "East Flatbush/Farragut",
          "Stuy Town/Peter Cooper Village",
          "Carroll Gardens",
          "East Flatbush/Remsen Village",
          "South Jamaica",
          "Starrett City"
         ],
         "xaxis": "x11",
         "y": {
          "bdata": "5gDTANIA0ADGALoAuAC0ALEAogCYAJcAkgCQAI0AjQCDAHgAbgBtAGwAagBmAGEAYABgAF0AXQBaAFMAUABNAE0ASABHAEYARABDAEEAPwA8ADoANQAyAC8ALwArACoAKAAnACUAIwAjACIAIAAfABoAGgAYABgAFwAWABUAFAAUABIAEQAQAA8ADwAOAAwADAAMAAsACwALAAsACwAKAAoACQAJAAkACQAJAAkACAAIAAgACAAHAAcABwAHAAcABwAGAAYABgA=",
          "dtype": "i2"
         },
         "yaxis": "y11"
        },
        {
         "hovertemplate": "x=%{x}<br>y=%{y}<extra></extra>",
         "legendgroup": "",
         "marker": {
          "color": "#636efa",
          "pattern": {
           "shape": ""
          }
         },
         "name": "",
         "orientation": "v",
         "showlegend": false,
         "textposition": "auto",
         "type": "bar",
         "x": [
          "Upper East Side North",
          "Murray Hill",
          "Midtown Center",
          "Upper East Side South",
          "Midtown East",
          "Times Sq/Theatre District",
          "Lincoln Square East",
          "Clinton East",
          "East Village",
          "Penn Station/Madison Sq West",
          "Union Sq",
          "Upper West Side South",
          "Lenox Hill West",
          "Midtown North",
          "Upper West Side North",
          "East Chelsea",
          "Midtown South",
          "Lenox Hill East",
          "Gramercy",
          "Yorkville West",
          "East Harlem South",
          "West Village",
          "West Chelsea/Hudson Yards",
          "Sutton Place/Turtle Bay North",
          "Garment District",
          "UN/Turtle Bay South",
          "Central Park",
          "TriBeCa/Civic Center",
          "Greenwich Village North",
          "Kips Bay",
          "Flatiron",
          "Lower East Side",
          "Central Harlem North",
          "Lincoln Square West",
          "Clinton West",
          "East Harlem North",
          "LaGuardia Airport",
          "Yorkville East",
          "Central Harlem",
          "Manhattan Valley",
          "Greenwich Village South",
          "JFK Airport",
          "Morningside Heights",
          "Meatpacking/West Village West",
          "Astoria",
          "Little Italy/NoLiTa",
          "Battery Park City",
          "<NA>",
          "Financial District North",
          "Jackson Heights",
          "Washington Heights South",
          "Park Slope",
          "SoHo",
          "Hudson Sq",
          "Alphabet City",
          "Fort Greene",
          "Crown Heights North",
          "Brooklyn Heights",
          "Two Bridges/Seward Park",
          "Long Island City/Hunters Point",
          "Sunnyside",
          "Boerum Hill",
          "Financial District South",
          "Hamilton Heights",
          "World Trade Center",
          "Stuy Town/Peter Cooper Village",
          "Clinton Hill",
          "Elmhurst",
          "Woodside",
          "Steinway",
          "Forest Hills",
          "Old Astoria",
          "Downtown Brooklyn/MetroTech",
          "Seaport",
          "Queensbridge/Ravenswood",
          "Bloomingdale",
          "Williamsburg (North Side)",
          "Washington Heights North",
          "Bedford",
          "Flatbush/Ditmas Park",
          "Manhattanville",
          "Williamsburg (South Side)",
          "Greenpoint",
          "East Concourse/Concourse Village",
          "DUMBO/Vinegar Hill",
          "East Williamsburg",
          "Carroll Gardens",
          "Stuyvesant Heights",
          "Cobble Hill",
          "Bushwick South",
          "Chinatown",
          "East New York",
          "Bushwick North",
          "Crown Heights South",
          "South Ozone Park",
          "West Concourse",
          "Melrose South",
          "Columbia Street",
          "Prospect-Lefferts Gardens",
          "Hillcrest/Pomonok"
         ],
         "xaxis": "x12",
         "y": {
          "bdata": "9QDcANcAsQCwAKAAnACXAJYAlACLAIcAhgCDAIIAeAB0AHAAcABrAGgAZQBlAGMAYQBfAFEAUQBOAEwASgBJAEUARQBCAEEAQQBBAD8APAA6ADgANwA3ADcANgAwAC0AJgAiACEAIAAfAB8AHwAeAB4AHQAdABwAHAAbABkAGQAXABcAFgAWABUAFQAVABMAEwASABEAEQAQAA8ADwAPAA8ADgAOAA4ADgANAA0ADQANAAwACwALAAsACwALAAoACgAJAAkACQA=",
          "dtype": "i2"
         },
         "yaxis": "y12"
        },
        {
         "hovertemplate": "x=%{x}<br>y=%{y}<extra></extra>",
         "legendgroup": "",
         "marker": {
          "color": "#636efa",
          "pattern": {
           "shape": ""
          }
         },
         "name": "",
         "orientation": "v",
         "showlegend": false,
         "textposition": "auto",
         "type": "bar",
         "x": [
          "Manhattan",
          "Queens",
          "Brooklyn",
          "Bronx",
          "<NA>"
         ],
         "xaxis": "x13",
         "y": {
          "bdata": "lBSRAn8BYwAaAA==",
          "dtype": "i2"
         },
         "yaxis": "y13"
        },
        {
         "hovertemplate": "x=%{x}<br>y=%{y}<extra></extra>",
         "legendgroup": "",
         "marker": {
          "color": "#636efa",
          "pattern": {
           "shape": ""
          }
         },
         "name": "",
         "orientation": "v",
         "showlegend": false,
         "textposition": "auto",
         "type": "bar",
         "x": [
          "Manhattan",
          "Queens",
          "Brooklyn",
          "Bronx",
          "<NA>",
          "Staten Island"
         ],
         "xaxis": "x14",
         "y": {
          "bdata": "VhQeAvUBiQAtAAIA",
          "dtype": "i2"
         },
         "yaxis": "y14"
        },
        {
         "hovertemplate": "x=%{x}<br>y=%{y}<extra></extra>",
         "legendgroup": "",
         "marker": {
          "color": "#636efa",
          "pattern": {
           "shape": ""
          }
         },
         "name": "",
         "orientation": "v",
         "showlegend": false,
         "textposition": "auto",
         "type": "bar",
         "x": [
          "nan"
         ],
         "xaxis": "x15",
         "y": {
          "bdata": "IRk=",
          "dtype": "i2"
         },
         "yaxis": "y15"
        }
       ],
       "layout": {
        "annotations": [
         {
          "font": {
           "size": 16
          },
          "showarrow": false,
          "text": "pickup",
          "x": 0.08399999999999999,
          "xanchor": "center",
          "xref": "paper",
          "y": 1,
          "yanchor": "bottom",
          "yref": "paper"
         },
         {
          "font": {
           "size": 16
          },
          "showarrow": false,
          "text": "dropoff",
          "x": 0.292,
          "xanchor": "center",
          "xref": "paper",
          "y": 1,
          "yanchor": "bottom",
          "yref": "paper"
         },
         {
          "font": {
           "size": 16
          },
          "showarrow": false,
          "text": "passengers",
          "x": 0.5,
          "xanchor": "center",
          "xref": "paper",
          "y": 1,
          "yanchor": "bottom",
          "yref": "paper"
         },
         {
          "font": {
           "size": 16
          },
          "showarrow": false,
          "text": "distance",
          "x": 0.708,
          "xanchor": "center",
          "xref": "paper",
          "y": 1,
          "yanchor": "bottom",
          "yref": "paper"
         },
         {
          "font": {
           "size": 16
          },
          "showarrow": false,
          "text": "fare",
          "x": 0.9159999999999999,
          "xanchor": "center",
          "xref": "paper",
          "y": 1,
          "yanchor": "bottom",
          "yref": "paper"
         },
         {
          "font": {
           "size": 16
          },
          "showarrow": false,
          "text": "tip",
          "x": 0.08399999999999999,
          "xanchor": "center",
          "xref": "paper",
          "y": 0.6111111111111112,
          "yanchor": "bottom",
          "yref": "paper"
         },
         {
          "font": {
           "size": 16
          },
          "showarrow": false,
          "text": "tolls",
          "x": 0.292,
          "xanchor": "center",
          "xref": "paper",
          "y": 0.6111111111111112,
          "yanchor": "bottom",
          "yref": "paper"
         },
         {
          "font": {
           "size": 16
          },
          "showarrow": false,
          "text": "total",
          "x": 0.5,
          "xanchor": "center",
          "xref": "paper",
          "y": 0.6111111111111112,
          "yanchor": "bottom",
          "yref": "paper"
         },
         {
          "font": {
           "size": 16
          },
          "showarrow": false,
          "text": "color",
          "x": 0.708,
          "xanchor": "center",
          "xref": "paper",
          "y": 0.6111111111111112,
          "yanchor": "bottom",
          "yref": "paper"
         },
         {
          "font": {
           "size": 16
          },
          "showarrow": false,
          "text": "payment",
          "x": 0.9159999999999999,
          "xanchor": "center",
          "xref": "paper",
          "y": 0.6111111111111112,
          "yanchor": "bottom",
          "yref": "paper"
         },
         {
          "font": {
           "size": 16
          },
          "showarrow": false,
          "text": "pickup_zone",
          "x": 0.08399999999999999,
          "xanchor": "center",
          "xref": "paper",
          "y": 0.22222222222222224,
          "yanchor": "bottom",
          "yref": "paper"
         },
         {
          "font": {
           "size": 16
          },
          "showarrow": false,
          "text": "dropoff_zone",
          "x": 0.292,
          "xanchor": "center",
          "xref": "paper",
          "y": 0.22222222222222224,
          "yanchor": "bottom",
          "yref": "paper"
         },
         {
          "font": {
           "size": 16
          },
          "showarrow": false,
          "text": "pickup_borough",
          "x": 0.5,
          "xanchor": "center",
          "xref": "paper",
          "y": 0.22222222222222224,
          "yanchor": "bottom",
          "yref": "paper"
         },
         {
          "font": {
           "size": 16
          },
          "showarrow": false,
          "text": "dropoff_borough",
          "x": 0.708,
          "xanchor": "center",
          "xref": "paper",
          "y": 0.22222222222222224,
          "yanchor": "bottom",
          "yref": "paper"
         },
         {
          "font": {
           "size": 16
          },
          "showarrow": false,
          "text": "lol",
          "x": 0.9159999999999999,
          "xanchor": "center",
          "xref": "paper",
          "y": 0.22222222222222224,
          "yanchor": "bottom",
          "yref": "paper"
         }
        ],
        "height": 900,
        "template": {
         "data": {
          "bar": [
           {
            "error_x": {
             "color": "#f2f5fa"
            },
            "error_y": {
             "color": "#f2f5fa"
            },
            "marker": {
             "line": {
              "color": "rgb(17,17,17)",
              "width": 0.5
             },
             "pattern": {
              "fillmode": "overlay",
              "size": 10,
              "solidity": 0.2
             }
            },
            "type": "bar"
           }
          ],
          "barpolar": [
           {
            "marker": {
             "line": {
              "color": "rgb(17,17,17)",
              "width": 0.5
             },
             "pattern": {
              "fillmode": "overlay",
              "size": 10,
              "solidity": 0.2
             }
            },
            "type": "barpolar"
           }
          ],
          "carpet": [
           {
            "aaxis": {
             "endlinecolor": "#A2B1C6",
             "gridcolor": "#506784",
             "linecolor": "#506784",
             "minorgridcolor": "#506784",
             "startlinecolor": "#A2B1C6"
            },
            "baxis": {
             "endlinecolor": "#A2B1C6",
             "gridcolor": "#506784",
             "linecolor": "#506784",
             "minorgridcolor": "#506784",
             "startlinecolor": "#A2B1C6"
            },
            "type": "carpet"
           }
          ],
          "choropleth": [
           {
            "colorbar": {
             "outlinewidth": 0,
             "ticks": ""
            },
            "type": "choropleth"
           }
          ],
          "contour": [
           {
            "colorbar": {
             "outlinewidth": 0,
             "ticks": ""
            },
            "colorscale": [
             [
              0,
              "#0d0887"
             ],
             [
              0.1111111111111111,
              "#46039f"
             ],
             [
              0.2222222222222222,
              "#7201a8"
             ],
             [
              0.3333333333333333,
              "#9c179e"
             ],
             [
              0.4444444444444444,
              "#bd3786"
             ],
             [
              0.5555555555555556,
              "#d8576b"
             ],
             [
              0.6666666666666666,
              "#ed7953"
             ],
             [
              0.7777777777777778,
              "#fb9f3a"
             ],
             [
              0.8888888888888888,
              "#fdca26"
             ],
             [
              1,
              "#f0f921"
             ]
            ],
            "type": "contour"
           }
          ],
          "contourcarpet": [
           {
            "colorbar": {
             "outlinewidth": 0,
             "ticks": ""
            },
            "type": "contourcarpet"
           }
          ],
          "heatmap": [
           {
            "colorbar": {
             "outlinewidth": 0,
             "ticks": ""
            },
            "colorscale": [
             [
              0,
              "#0d0887"
             ],
             [
              0.1111111111111111,
              "#46039f"
             ],
             [
              0.2222222222222222,
              "#7201a8"
             ],
             [
              0.3333333333333333,
              "#9c179e"
             ],
             [
              0.4444444444444444,
              "#bd3786"
             ],
             [
              0.5555555555555556,
              "#d8576b"
             ],
             [
              0.6666666666666666,
              "#ed7953"
             ],
             [
              0.7777777777777778,
              "#fb9f3a"
             ],
             [
              0.8888888888888888,
              "#fdca26"
             ],
             [
              1,
              "#f0f921"
             ]
            ],
            "type": "heatmap"
           }
          ],
          "histogram": [
           {
            "marker": {
             "pattern": {
              "fillmode": "overlay",
              "size": 10,
              "solidity": 0.2
             }
            },
            "type": "histogram"
           }
          ],
          "histogram2d": [
           {
            "colorbar": {
             "outlinewidth": 0,
             "ticks": ""
            },
            "colorscale": [
             [
              0,
              "#0d0887"
             ],
             [
              0.1111111111111111,
              "#46039f"
             ],
             [
              0.2222222222222222,
              "#7201a8"
             ],
             [
              0.3333333333333333,
              "#9c179e"
             ],
             [
              0.4444444444444444,
              "#bd3786"
             ],
             [
              0.5555555555555556,
              "#d8576b"
             ],
             [
              0.6666666666666666,
              "#ed7953"
             ],
             [
              0.7777777777777778,
              "#fb9f3a"
             ],
             [
              0.8888888888888888,
              "#fdca26"
             ],
             [
              1,
              "#f0f921"
             ]
            ],
            "type": "histogram2d"
           }
          ],
          "histogram2dcontour": [
           {
            "colorbar": {
             "outlinewidth": 0,
             "ticks": ""
            },
            "colorscale": [
             [
              0,
              "#0d0887"
             ],
             [
              0.1111111111111111,
              "#46039f"
             ],
             [
              0.2222222222222222,
              "#7201a8"
             ],
             [
              0.3333333333333333,
              "#9c179e"
             ],
             [
              0.4444444444444444,
              "#bd3786"
             ],
             [
              0.5555555555555556,
              "#d8576b"
             ],
             [
              0.6666666666666666,
              "#ed7953"
             ],
             [
              0.7777777777777778,
              "#fb9f3a"
             ],
             [
              0.8888888888888888,
              "#fdca26"
             ],
             [
              1,
              "#f0f921"
             ]
            ],
            "type": "histogram2dcontour"
           }
          ],
          "mesh3d": [
           {
            "colorbar": {
             "outlinewidth": 0,
             "ticks": ""
            },
            "type": "mesh3d"
           }
          ],
          "parcoords": [
           {
            "line": {
             "colorbar": {
              "outlinewidth": 0,
              "ticks": ""
             }
            },
            "type": "parcoords"
           }
          ],
          "pie": [
           {
            "automargin": true,
            "type": "pie"
           }
          ],
          "scatter": [
           {
            "marker": {
             "line": {
              "color": "#283442"
             }
            },
            "type": "scatter"
           }
          ],
          "scatter3d": [
           {
            "line": {
             "colorbar": {
              "outlinewidth": 0,
              "ticks": ""
             }
            },
            "marker": {
             "colorbar": {
              "outlinewidth": 0,
              "ticks": ""
             }
            },
            "type": "scatter3d"
           }
          ],
          "scattercarpet": [
           {
            "marker": {
             "colorbar": {
              "outlinewidth": 0,
              "ticks": ""
             }
            },
            "type": "scattercarpet"
           }
          ],
          "scattergeo": [
           {
            "marker": {
             "colorbar": {
              "outlinewidth": 0,
              "ticks": ""
             }
            },
            "type": "scattergeo"
           }
          ],
          "scattergl": [
           {
            "marker": {
             "line": {
              "color": "#283442"
             }
            },
            "type": "scattergl"
           }
          ],
          "scattermap": [
           {
            "marker": {
             "colorbar": {
              "outlinewidth": 0,
              "ticks": ""
             }
            },
            "type": "scattermap"
           }
          ],
          "scattermapbox": [
           {
            "marker": {
             "colorbar": {
              "outlinewidth": 0,
              "ticks": ""
             }
            },
            "type": "scattermapbox"
           }
          ],
          "scatterpolar": [
           {
            "marker": {
             "colorbar": {
              "outlinewidth": 0,
              "ticks": ""
             }
            },
            "type": "scatterpolar"
           }
          ],
          "scatterpolargl": [
           {
            "marker": {
             "colorbar": {
              "outlinewidth": 0,
              "ticks": ""
             }
            },
            "type": "scatterpolargl"
           }
          ],
          "scatterternary": [
           {
            "marker": {
             "colorbar": {
              "outlinewidth": 0,
              "ticks": ""
             }
            },
            "type": "scatterternary"
           }
          ],
          "surface": [
           {
            "colorbar": {
             "outlinewidth": 0,
             "ticks": ""
            },
            "colorscale": [
             [
              0,
              "#0d0887"
             ],
             [
              0.1111111111111111,
              "#46039f"
             ],
             [
              0.2222222222222222,
              "#7201a8"
             ],
             [
              0.3333333333333333,
              "#9c179e"
             ],
             [
              0.4444444444444444,
              "#bd3786"
             ],
             [
              0.5555555555555556,
              "#d8576b"
             ],
             [
              0.6666666666666666,
              "#ed7953"
             ],
             [
              0.7777777777777778,
              "#fb9f3a"
             ],
             [
              0.8888888888888888,
              "#fdca26"
             ],
             [
              1,
              "#f0f921"
             ]
            ],
            "type": "surface"
           }
          ],
          "table": [
           {
            "cells": {
             "fill": {
              "color": "#506784"
             },
             "line": {
              "color": "rgb(17,17,17)"
             }
            },
            "header": {
             "fill": {
              "color": "#2a3f5f"
             },
             "line": {
              "color": "rgb(17,17,17)"
             }
            },
            "type": "table"
           }
          ]
         },
         "layout": {
          "annotationdefaults": {
           "arrowcolor": "#f2f5fa",
           "arrowhead": 0,
           "arrowwidth": 1
          },
          "autotypenumbers": "strict",
          "coloraxis": {
           "colorbar": {
            "outlinewidth": 0,
            "ticks": ""
           }
          },
          "colorscale": {
           "diverging": [
            [
             0,
             "#8e0152"
            ],
            [
             0.1,
             "#c51b7d"
            ],
            [
             0.2,
             "#de77ae"
            ],
            [
             0.3,
             "#f1b6da"
            ],
            [
             0.4,
             "#fde0ef"
            ],
            [
             0.5,
             "#f7f7f7"
            ],
            [
             0.6,
             "#e6f5d0"
            ],
            [
             0.7,
             "#b8e186"
            ],
            [
             0.8,
             "#7fbc41"
            ],
            [
             0.9,
             "#4d9221"
            ],
            [
             1,
             "#276419"
            ]
           ],
           "sequential": [
            [
             0,
             "#0d0887"
            ],
            [
             0.1111111111111111,
             "#46039f"
            ],
            [
             0.2222222222222222,
             "#7201a8"
            ],
            [
             0.3333333333333333,
             "#9c179e"
            ],
            [
             0.4444444444444444,
             "#bd3786"
            ],
            [
             0.5555555555555556,
             "#d8576b"
            ],
            [
             0.6666666666666666,
             "#ed7953"
            ],
            [
             0.7777777777777778,
             "#fb9f3a"
            ],
            [
             0.8888888888888888,
             "#fdca26"
            ],
            [
             1,
             "#f0f921"
            ]
           ],
           "sequentialminus": [
            [
             0,
             "#0d0887"
            ],
            [
             0.1111111111111111,
             "#46039f"
            ],
            [
             0.2222222222222222,
             "#7201a8"
            ],
            [
             0.3333333333333333,
             "#9c179e"
            ],
            [
             0.4444444444444444,
             "#bd3786"
            ],
            [
             0.5555555555555556,
             "#d8576b"
            ],
            [
             0.6666666666666666,
             "#ed7953"
            ],
            [
             0.7777777777777778,
             "#fb9f3a"
            ],
            [
             0.8888888888888888,
             "#fdca26"
            ],
            [
             1,
             "#f0f921"
            ]
           ]
          },
          "colorway": [
           "#636efa",
           "#EF553B",
           "#00cc96",
           "#ab63fa",
           "#FFA15A",
           "#19d3f3",
           "#FF6692",
           "#B6E880",
           "#FF97FF",
           "#FECB52"
          ],
          "font": {
           "color": "#f2f5fa"
          },
          "geo": {
           "bgcolor": "rgb(17,17,17)",
           "lakecolor": "rgb(17,17,17)",
           "landcolor": "rgb(17,17,17)",
           "showlakes": true,
           "showland": true,
           "subunitcolor": "#506784"
          },
          "hoverlabel": {
           "align": "left"
          },
          "hovermode": "closest",
          "mapbox": {
           "style": "dark"
          },
          "paper_bgcolor": "rgb(17,17,17)",
          "plot_bgcolor": "rgb(17,17,17)",
          "polar": {
           "angularaxis": {
            "gridcolor": "#506784",
            "linecolor": "#506784",
            "ticks": ""
           },
           "bgcolor": "rgb(17,17,17)",
           "radialaxis": {
            "gridcolor": "#506784",
            "linecolor": "#506784",
            "ticks": ""
           }
          },
          "scene": {
           "xaxis": {
            "backgroundcolor": "rgb(17,17,17)",
            "gridcolor": "#506784",
            "gridwidth": 2,
            "linecolor": "#506784",
            "showbackground": true,
            "ticks": "",
            "zerolinecolor": "#C8D4E3"
           },
           "yaxis": {
            "backgroundcolor": "rgb(17,17,17)",
            "gridcolor": "#506784",
            "gridwidth": 2,
            "linecolor": "#506784",
            "showbackground": true,
            "ticks": "",
            "zerolinecolor": "#C8D4E3"
           },
           "zaxis": {
            "backgroundcolor": "rgb(17,17,17)",
            "gridcolor": "#506784",
            "gridwidth": 2,
            "linecolor": "#506784",
            "showbackground": true,
            "ticks": "",
            "zerolinecolor": "#C8D4E3"
           }
          },
          "shapedefaults": {
           "line": {
            "color": "#f2f5fa"
           }
          },
          "sliderdefaults": {
           "bgcolor": "#C8D4E3",
           "bordercolor": "rgb(17,17,17)",
           "borderwidth": 1,
           "tickwidth": 0
          },
          "ternary": {
           "aaxis": {
            "gridcolor": "#506784",
            "linecolor": "#506784",
            "ticks": ""
           },
           "baxis": {
            "gridcolor": "#506784",
            "linecolor": "#506784",
            "ticks": ""
           },
           "bgcolor": "rgb(17,17,17)",
           "caxis": {
            "gridcolor": "#506784",
            "linecolor": "#506784",
            "ticks": ""
           }
          },
          "title": {
           "x": 0.05
          },
          "updatemenudefaults": {
           "bgcolor": "#506784",
           "borderwidth": 0
          },
          "xaxis": {
           "automargin": true,
           "gridcolor": "#283442",
           "linecolor": "#506784",
           "ticks": "",
           "title": {
            "standoff": 15
           },
           "zerolinecolor": "#283442",
           "zerolinewidth": 2
          },
          "yaxis": {
           "automargin": true,
           "gridcolor": "#283442",
           "linecolor": "#506784",
           "ticks": "",
           "title": {
            "standoff": 15
           },
           "zerolinecolor": "#283442",
           "zerolinewidth": 2
          }
         }
        },
        "width": 1500,
        "xaxis": {
         "anchor": "y",
         "domain": [
          0,
          0.16799999999999998
         ]
        },
        "xaxis10": {
         "anchor": "y10",
         "domain": [
          0.832,
          1
         ]
        },
        "xaxis11": {
         "anchor": "y11",
         "domain": [
          0,
          0.16799999999999998
         ]
        },
        "xaxis12": {
         "anchor": "y12",
         "domain": [
          0.208,
          0.376
         ]
        },
        "xaxis13": {
         "anchor": "y13",
         "domain": [
          0.416,
          0.584
         ]
        },
        "xaxis14": {
         "anchor": "y14",
         "domain": [
          0.624,
          0.792
         ]
        },
        "xaxis15": {
         "anchor": "y15",
         "domain": [
          0.832,
          1
         ]
        },
        "xaxis2": {
         "anchor": "y2",
         "domain": [
          0.208,
          0.376
         ]
        },
        "xaxis3": {
         "anchor": "y3",
         "domain": [
          0.416,
          0.584
         ]
        },
        "xaxis4": {
         "anchor": "y4",
         "domain": [
          0.624,
          0.792
         ]
        },
        "xaxis5": {
         "anchor": "y5",
         "domain": [
          0.832,
          1
         ]
        },
        "xaxis6": {
         "anchor": "y6",
         "domain": [
          0,
          0.16799999999999998
         ]
        },
        "xaxis7": {
         "anchor": "y7",
         "domain": [
          0.208,
          0.376
         ]
        },
        "xaxis8": {
         "anchor": "y8",
         "domain": [
          0.416,
          0.584
         ]
        },
        "xaxis9": {
         "anchor": "y9",
         "domain": [
          0.624,
          0.792
         ]
        },
        "yaxis": {
         "anchor": "x",
         "domain": [
          0.7777777777777778,
          1
         ]
        },
        "yaxis10": {
         "anchor": "x10",
         "domain": [
          0.3888888888888889,
          0.6111111111111112
         ]
        },
        "yaxis11": {
         "anchor": "x11",
         "domain": [
          0,
          0.22222222222222224
         ]
        },
        "yaxis12": {
         "anchor": "x12",
         "domain": [
          0,
          0.22222222222222224
         ]
        },
        "yaxis13": {
         "anchor": "x13",
         "domain": [
          0,
          0.22222222222222224
         ]
        },
        "yaxis14": {
         "anchor": "x14",
         "domain": [
          0,
          0.22222222222222224
         ]
        },
        "yaxis15": {
         "anchor": "x15",
         "domain": [
          0,
          0.22222222222222224
         ]
        },
        "yaxis2": {
         "anchor": "x2",
         "domain": [
          0.7777777777777778,
          1
         ]
        },
        "yaxis3": {
         "anchor": "x3",
         "domain": [
          0.7777777777777778,
          1
         ]
        },
        "yaxis4": {
         "anchor": "x4",
         "domain": [
          0.7777777777777778,
          1
         ]
        },
        "yaxis5": {
         "anchor": "x5",
         "domain": [
          0.7777777777777778,
          1
         ]
        },
        "yaxis6": {
         "anchor": "x6",
         "domain": [
          0.3888888888888889,
          0.6111111111111112
         ]
        },
        "yaxis7": {
         "anchor": "x7",
         "domain": [
          0.3888888888888889,
          0.6111111111111112
         ]
        },
        "yaxis8": {
         "anchor": "x8",
         "domain": [
          0.3888888888888889,
          0.6111111111111112
         ]
        },
        "yaxis9": {
         "anchor": "x9",
         "domain": [
          0.3888888888888889,
          0.6111111111111112
         ]
        }
       }
      }
     },
     "metadata": {},
     "output_type": "display_data"
    }
   ],
   "source": [
    "df[\"lol\"] = np.nan\n",
    "tbl.describe_df(\n",
    "    df#.assign(lol = np.nan),\n",
    "    ,\"taxis\",\n",
    "    # use_columns=False,\n",
    "    # renderer=\"svg\",\n",
    ")"
   ]
  },
  {
   "cell_type": "markdown",
   "metadata": {},
   "source": [
    "### descr_db()"
   ]
  },
  {
   "cell_type": "code",
   "execution_count": 95,
   "metadata": {},
   "outputs": [
    {
     "name": "stdout",
     "output_type": "stream",
     "text": [
      "🗄️ delay\t1_687, 3\n",
      "\t(\"z_kkr_label, z_first_treatment_after_days, z_first_treatment\")\n",
      "┌─────────────┬──────────────────────────────┬───────────────────┐\n",
      "│ z_kkr_label │ z_first_treatment_after_days │ z_first_treatment │\n",
      "│   varchar   │            int32             │      varchar      │\n",
      "├─────────────┼──────────────────────────────┼───────────────────┤\n",
      "│ 14-SN       │                           58 │ sy                │\n",
      "│ 09-BY       │                           36 │ sy                │\n",
      "│ 05-NW       │                           13 │ op                │\n",
      "└─────────────┴──────────────────────────────┴───────────────────┘\n",
      "\n"
     ]
    }
   ],
   "source": [
    "tbl.descr_db(db_delay, caption=\"delay\",)"
   ]
  },
  {
   "cell_type": "code",
   "execution_count": 96,
   "metadata": {},
   "outputs": [
    {
     "data": {
      "text/html": [
       "<div>\n",
       "<style scoped>\n",
       "    .dataframe tbody tr th:only-of-type {\n",
       "        vertical-align: middle;\n",
       "    }\n",
       "\n",
       "    .dataframe tbody tr th {\n",
       "        vertical-align: top;\n",
       "    }\n",
       "\n",
       "    .dataframe thead th {\n",
       "        text-align: right;\n",
       "    }\n",
       "</style>\n",
       "<table border=\"1\" class=\"dataframe\">\n",
       "  <thead>\n",
       "    <tr style=\"text-align: right;\">\n",
       "      <th></th>\n",
       "      <th>id</th>\n",
       "      <th>bl</th>\n",
       "      <th>label</th>\n",
       "      <th>cnt</th>\n",
       "    </tr>\n",
       "  </thead>\n",
       "  <tbody>\n",
       "    <tr>\n",
       "      <th>0</th>\n",
       "      <td>0</td>\n",
       "      <td>01-SH</td>\n",
       "      <td>7 - Histologie Primärtumor</td>\n",
       "      <td>14351</td>\n",
       "    </tr>\n",
       "    <tr>\n",
       "      <th>1</th>\n",
       "      <td>22</td>\n",
       "      <td>01-SH</td>\n",
       "      <td>3 - Todesbescheinigung (DCO)</td>\n",
       "      <td>1004</td>\n",
       "    </tr>\n",
       "    <tr>\n",
       "      <th>2</th>\n",
       "      <td>23</td>\n",
       "      <td>01-SH</td>\n",
       "      <td>5 - Zytologie</td>\n",
       "      <td>146</td>\n",
       "    </tr>\n",
       "  </tbody>\n",
       "</table>\n",
       "</div>"
      ],
      "text/plain": [
       "   id     bl                         label    cnt\n",
       "0   0  01-SH    7 - Histologie Primärtumor  14351\n",
       "1  22  01-SH  3 - Todesbescheinigung (DCO)   1004\n",
       "2  23  01-SH                 5 - Zytologie    146"
      ]
     },
     "metadata": {},
     "output_type": "display_data"
    }
   ],
   "source": [
    "df_dsich = pd.read_csv(\"assets/dsich.csv\", sep=\";\")#.astype({\"z_dy\": \"Int64\"}).astype({\"z_dy\": str})\n",
    "display(df_dsich[:3])\n",
    "# print(df_dsich.dtypes)"
   ]
  },
  {
   "cell_type": "code",
   "execution_count": 97,
   "metadata": {},
   "outputs": [
    {
     "data": {
      "application/vnd.plotly.v1+json": {
       "config": {
        "plotlyServerURL": "https://plot.ly"
       },
       "data": [
        {
         "hovertemplate": "col=7 - Histologie Primärtumor<br>value=%{x}<br>index=%{y}<br>cnt_str=%{text}<extra></extra>",
         "legendgroup": "7 - Histologie Primärtumor",
         "marker": {
          "color": "#B6E880",
          "pattern": {
           "shape": ""
          }
         },
         "name": "7 - Histologie Primärtumor",
         "orientation": "h",
         "showlegend": true,
         "text": [
          "14_351",
          "8_692",
          "34_975",
          "19_962",
          "30_655",
          "58_788"
         ],
         "textposition": "auto",
         "type": "bar",
         "x": {
          "bdata": "DzgAAPQhAACfiAAA+k0AAL93AACk5QAA",
          "dtype": "i4"
         },
         "xaxis": "x",
         "y": [
          "01-SH",
          "02-HH",
          "03-NI",
          "06-HE",
          "08-BW",
          "09-BY"
         ],
         "yaxis": "y"
        },
        {
         "hovertemplate": "col=<NA><br>value=%{x}<br>index=%{y}<br>cnt_str=%{text}<extra></extra>",
         "legendgroup": "<NA>",
         "marker": {
          "color": "lightgray",
          "pattern": {
           "shape": ""
          }
         },
         "name": "<NA>",
         "orientation": "h",
         "showlegend": true,
         "text": [
          "989",
          "688",
          "2_969",
          "804",
          "25_251",
          "857"
         ],
         "textposition": "auto",
         "type": "bar",
         "x": {
          "bdata": "3QOwApkLJAOjYlkD",
          "dtype": "i2"
         },
         "xaxis": "x",
         "y": [
          "01-SH",
          "02-HH",
          "03-NI",
          "06-HE",
          "08-BW",
          "09-BY"
         ],
         "yaxis": "y"
        },
        {
         "hovertemplate": "col=3 - Todesbescheinigung (DCO)<br>value=%{x}<br>index=%{y}<br>cnt_str=%{text}<extra></extra>",
         "legendgroup": "3 - Todesbescheinigung (DCO)",
         "marker": {
          "color": "#AB63FA",
          "pattern": {
           "shape": ""
          }
         },
         "name": "3 - Todesbescheinigung (DCO)",
         "orientation": "h",
         "showlegend": true,
         "text": [
          "1_004",
          "735",
          "3_769",
          "2_103",
          "3_768",
          "2_021"
         ],
         "textposition": "auto",
         "type": "bar",
         "x": {
          "bdata": "7APfArkONwi4DuUH",
          "dtype": "i2"
         },
         "xaxis": "x",
         "y": [
          "01-SH",
          "02-HH",
          "03-NI",
          "06-HE",
          "08-BW",
          "09-BY"
         ],
         "yaxis": "y"
        },
        {
         "hovertemplate": "col=5 - Zytologie<br>value=%{x}<br>index=%{y}<br>cnt_str=%{text}<extra></extra>",
         "legendgroup": "5 - Zytologie",
         "marker": {
          "color": "#19D3F3",
          "pattern": {
           "shape": ""
          }
         },
         "name": "5 - Zytologie",
         "orientation": "h",
         "showlegend": true,
         "text": [
          "146",
          "116",
          "1_458",
          "289",
          "550",
          "607"
         ],
         "textposition": "auto",
         "type": "bar",
         "x": {
          "bdata": "kgB0ALIFIQEmAl8C",
          "dtype": "i2"
         },
         "xaxis": "x",
         "y": [
          "01-SH",
          "02-HH",
          "03-NI",
          "06-HE",
          "08-BW",
          "09-BY"
         ],
         "yaxis": "y"
        },
        {
         "hovertemplate": "col=2 - klinische Diagnostik<br>value=%{x}<br>index=%{y}<br>cnt_str=%{text}<extra></extra>",
         "legendgroup": "2 - klinische Diagnostik",
         "marker": {
          "color": "#00CC96",
          "pattern": {
           "shape": ""
          }
         },
         "name": "2 - klinische Diagnostik",
         "orientation": "h",
         "showlegend": true,
         "text": [
          "100",
          "35",
          "151",
          "104",
          "641",
          "1_657"
         ],
         "textposition": "auto",
         "type": "bar",
         "x": {
          "bdata": "ZAAjAJcAaACBAnkG",
          "dtype": "i2"
         },
         "xaxis": "x",
         "y": [
          "01-SH",
          "02-HH",
          "03-NI",
          "06-HE",
          "08-BW",
          "09-BY"
         ],
         "yaxis": "y"
        },
        {
         "hovertemplate": "col=6 - Histologie Metastase<br>value=%{x}<br>index=%{y}<br>cnt_str=%{text}<extra></extra>",
         "legendgroup": "6 - Histologie Metastase",
         "marker": {
          "color": "#FF6692",
          "pattern": {
           "shape": ""
          }
         },
         "name": "6 - Histologie Metastase",
         "orientation": "h",
         "showlegend": true,
         "text": [
          "419",
          "262",
          "1",
          "584"
         ],
         "textposition": "auto",
         "type": "bar",
         "x": {
          "bdata": "owEGAQEASAI=",
          "dtype": "i2"
         },
         "xaxis": "x",
         "y": [
          "01-SH",
          "02-HH",
          "03-NI",
          "08-BW"
         ],
         "yaxis": "y"
        },
        {
         "hovertemplate": "col=1 - klinisch ohne spez. Diagnostik<br>value=%{x}<br>index=%{y}<br>cnt_str=%{text}<extra></extra>",
         "legendgroup": "1 - klinisch ohne spez. Diagnostik",
         "marker": {
          "color": "#EF553B",
          "pattern": {
           "shape": ""
          }
         },
         "name": "1 - klinisch ohne spez. Diagnostik",
         "orientation": "h",
         "showlegend": true,
         "text": [
          "65",
          "312",
          "110"
         ],
         "textposition": "auto",
         "type": "bar",
         "x": {
          "bdata": "QQA4AW4A",
          "dtype": "i2"
         },
         "xaxis": "x",
         "y": [
          "01-SH",
          "03-NI",
          "08-BW"
         ],
         "yaxis": "y"
        },
        {
         "hovertemplate": "col=8 - Sonstige<br>value=%{x}<br>index=%{y}<br>cnt_str=%{text}<extra></extra>",
         "legendgroup": "8 - Sonstige",
         "marker": {
          "color": "#FF97FF",
          "pattern": {
           "shape": ""
          }
         },
         "name": "8 - Sonstige",
         "orientation": "h",
         "showlegend": true,
         "text": [
          "5",
          "24"
         ],
         "textposition": "auto",
         "type": "bar",
         "x": {
          "bdata": "BRg=",
          "dtype": "i1"
         },
         "xaxis": "x",
         "y": [
          "03-NI",
          "09-BY"
         ],
         "yaxis": "y"
        },
        {
         "hovertemplate": "col=4 - spez. Tumormaker<br>value=%{x}<br>index=%{y}<br>cnt_str=%{text}<extra></extra>",
         "legendgroup": "4 - spez. Tumormaker",
         "marker": {
          "color": "#FFA15A",
          "pattern": {
           "shape": ""
          }
         },
         "name": "4 - spez. Tumormaker",
         "orientation": "h",
         "showlegend": true,
         "text": [
          "9",
          "2",
          "7"
         ],
         "textposition": "auto",
         "type": "bar",
         "x": {
          "bdata": "CQIH",
          "dtype": "i1"
         },
         "xaxis": "x",
         "y": [
          "01-SH",
          "02-HH",
          "06-HE"
         ],
         "yaxis": "y"
        },
        {
         "hovertemplate": "col=0 - Obduktion<br>value=%{x}<br>index=%{y}<br>cnt_str=%{text}<extra></extra>",
         "legendgroup": "0 - Obduktion",
         "marker": {
          "color": "#636EFA",
          "pattern": {
           "shape": ""
          }
         },
         "name": "0 - Obduktion",
         "orientation": "h",
         "showlegend": true,
         "text": [
          "2",
          "2"
         ],
         "textposition": "auto",
         "type": "bar",
         "x": {
          "bdata": "AgI=",
          "dtype": "i1"
         },
         "xaxis": "x",
         "y": [
          "03-NI",
          "06-HE"
         ],
         "yaxis": "y"
        }
       ],
       "layout": {
        "barmode": "relative",
        "height": 500,
        "legend": {
         "title": {
          "text": "label"
         },
         "tracegroupgap": 0,
         "traceorder": "normal"
        },
        "template": {
         "data": {
          "bar": [
           {
            "error_x": {
             "color": "#f2f5fa"
            },
            "error_y": {
             "color": "#f2f5fa"
            },
            "marker": {
             "line": {
              "color": "rgb(17,17,17)",
              "width": 0.5
             },
             "pattern": {
              "fillmode": "overlay",
              "size": 10,
              "solidity": 0.2
             }
            },
            "type": "bar"
           }
          ],
          "barpolar": [
           {
            "marker": {
             "line": {
              "color": "rgb(17,17,17)",
              "width": 0.5
             },
             "pattern": {
              "fillmode": "overlay",
              "size": 10,
              "solidity": 0.2
             }
            },
            "type": "barpolar"
           }
          ],
          "carpet": [
           {
            "aaxis": {
             "endlinecolor": "#A2B1C6",
             "gridcolor": "#506784",
             "linecolor": "#506784",
             "minorgridcolor": "#506784",
             "startlinecolor": "#A2B1C6"
            },
            "baxis": {
             "endlinecolor": "#A2B1C6",
             "gridcolor": "#506784",
             "linecolor": "#506784",
             "minorgridcolor": "#506784",
             "startlinecolor": "#A2B1C6"
            },
            "type": "carpet"
           }
          ],
          "choropleth": [
           {
            "colorbar": {
             "outlinewidth": 0,
             "ticks": ""
            },
            "type": "choropleth"
           }
          ],
          "contour": [
           {
            "colorbar": {
             "outlinewidth": 0,
             "ticks": ""
            },
            "colorscale": [
             [
              0,
              "#0d0887"
             ],
             [
              0.1111111111111111,
              "#46039f"
             ],
             [
              0.2222222222222222,
              "#7201a8"
             ],
             [
              0.3333333333333333,
              "#9c179e"
             ],
             [
              0.4444444444444444,
              "#bd3786"
             ],
             [
              0.5555555555555556,
              "#d8576b"
             ],
             [
              0.6666666666666666,
              "#ed7953"
             ],
             [
              0.7777777777777778,
              "#fb9f3a"
             ],
             [
              0.8888888888888888,
              "#fdca26"
             ],
             [
              1,
              "#f0f921"
             ]
            ],
            "type": "contour"
           }
          ],
          "contourcarpet": [
           {
            "colorbar": {
             "outlinewidth": 0,
             "ticks": ""
            },
            "type": "contourcarpet"
           }
          ],
          "heatmap": [
           {
            "colorbar": {
             "outlinewidth": 0,
             "ticks": ""
            },
            "colorscale": [
             [
              0,
              "#0d0887"
             ],
             [
              0.1111111111111111,
              "#46039f"
             ],
             [
              0.2222222222222222,
              "#7201a8"
             ],
             [
              0.3333333333333333,
              "#9c179e"
             ],
             [
              0.4444444444444444,
              "#bd3786"
             ],
             [
              0.5555555555555556,
              "#d8576b"
             ],
             [
              0.6666666666666666,
              "#ed7953"
             ],
             [
              0.7777777777777778,
              "#fb9f3a"
             ],
             [
              0.8888888888888888,
              "#fdca26"
             ],
             [
              1,
              "#f0f921"
             ]
            ],
            "type": "heatmap"
           }
          ],
          "histogram": [
           {
            "marker": {
             "pattern": {
              "fillmode": "overlay",
              "size": 10,
              "solidity": 0.2
             }
            },
            "type": "histogram"
           }
          ],
          "histogram2d": [
           {
            "colorbar": {
             "outlinewidth": 0,
             "ticks": ""
            },
            "colorscale": [
             [
              0,
              "#0d0887"
             ],
             [
              0.1111111111111111,
              "#46039f"
             ],
             [
              0.2222222222222222,
              "#7201a8"
             ],
             [
              0.3333333333333333,
              "#9c179e"
             ],
             [
              0.4444444444444444,
              "#bd3786"
             ],
             [
              0.5555555555555556,
              "#d8576b"
             ],
             [
              0.6666666666666666,
              "#ed7953"
             ],
             [
              0.7777777777777778,
              "#fb9f3a"
             ],
             [
              0.8888888888888888,
              "#fdca26"
             ],
             [
              1,
              "#f0f921"
             ]
            ],
            "type": "histogram2d"
           }
          ],
          "histogram2dcontour": [
           {
            "colorbar": {
             "outlinewidth": 0,
             "ticks": ""
            },
            "colorscale": [
             [
              0,
              "#0d0887"
             ],
             [
              0.1111111111111111,
              "#46039f"
             ],
             [
              0.2222222222222222,
              "#7201a8"
             ],
             [
              0.3333333333333333,
              "#9c179e"
             ],
             [
              0.4444444444444444,
              "#bd3786"
             ],
             [
              0.5555555555555556,
              "#d8576b"
             ],
             [
              0.6666666666666666,
              "#ed7953"
             ],
             [
              0.7777777777777778,
              "#fb9f3a"
             ],
             [
              0.8888888888888888,
              "#fdca26"
             ],
             [
              1,
              "#f0f921"
             ]
            ],
            "type": "histogram2dcontour"
           }
          ],
          "mesh3d": [
           {
            "colorbar": {
             "outlinewidth": 0,
             "ticks": ""
            },
            "type": "mesh3d"
           }
          ],
          "parcoords": [
           {
            "line": {
             "colorbar": {
              "outlinewidth": 0,
              "ticks": ""
             }
            },
            "type": "parcoords"
           }
          ],
          "pie": [
           {
            "automargin": true,
            "type": "pie"
           }
          ],
          "scatter": [
           {
            "marker": {
             "line": {
              "color": "#283442"
             }
            },
            "type": "scatter"
           }
          ],
          "scatter3d": [
           {
            "line": {
             "colorbar": {
              "outlinewidth": 0,
              "ticks": ""
             }
            },
            "marker": {
             "colorbar": {
              "outlinewidth": 0,
              "ticks": ""
             }
            },
            "type": "scatter3d"
           }
          ],
          "scattercarpet": [
           {
            "marker": {
             "colorbar": {
              "outlinewidth": 0,
              "ticks": ""
             }
            },
            "type": "scattercarpet"
           }
          ],
          "scattergeo": [
           {
            "marker": {
             "colorbar": {
              "outlinewidth": 0,
              "ticks": ""
             }
            },
            "type": "scattergeo"
           }
          ],
          "scattergl": [
           {
            "marker": {
             "line": {
              "color": "#283442"
             }
            },
            "type": "scattergl"
           }
          ],
          "scattermap": [
           {
            "marker": {
             "colorbar": {
              "outlinewidth": 0,
              "ticks": ""
             }
            },
            "type": "scattermap"
           }
          ],
          "scattermapbox": [
           {
            "marker": {
             "colorbar": {
              "outlinewidth": 0,
              "ticks": ""
             }
            },
            "type": "scattermapbox"
           }
          ],
          "scatterpolar": [
           {
            "marker": {
             "colorbar": {
              "outlinewidth": 0,
              "ticks": ""
             }
            },
            "type": "scatterpolar"
           }
          ],
          "scatterpolargl": [
           {
            "marker": {
             "colorbar": {
              "outlinewidth": 0,
              "ticks": ""
             }
            },
            "type": "scatterpolargl"
           }
          ],
          "scatterternary": [
           {
            "marker": {
             "colorbar": {
              "outlinewidth": 0,
              "ticks": ""
             }
            },
            "type": "scatterternary"
           }
          ],
          "surface": [
           {
            "colorbar": {
             "outlinewidth": 0,
             "ticks": ""
            },
            "colorscale": [
             [
              0,
              "#0d0887"
             ],
             [
              0.1111111111111111,
              "#46039f"
             ],
             [
              0.2222222222222222,
              "#7201a8"
             ],
             [
              0.3333333333333333,
              "#9c179e"
             ],
             [
              0.4444444444444444,
              "#bd3786"
             ],
             [
              0.5555555555555556,
              "#d8576b"
             ],
             [
              0.6666666666666666,
              "#ed7953"
             ],
             [
              0.7777777777777778,
              "#fb9f3a"
             ],
             [
              0.8888888888888888,
              "#fdca26"
             ],
             [
              1,
              "#f0f921"
             ]
            ],
            "type": "surface"
           }
          ],
          "table": [
           {
            "cells": {
             "fill": {
              "color": "#506784"
             },
             "line": {
              "color": "rgb(17,17,17)"
             }
            },
            "header": {
             "fill": {
              "color": "#2a3f5f"
             },
             "line": {
              "color": "rgb(17,17,17)"
             }
            },
            "type": "table"
           }
          ]
         },
         "layout": {
          "annotationdefaults": {
           "arrowcolor": "#f2f5fa",
           "arrowhead": 0,
           "arrowwidth": 1
          },
          "autotypenumbers": "strict",
          "coloraxis": {
           "colorbar": {
            "outlinewidth": 0,
            "ticks": ""
           }
          },
          "colorscale": {
           "diverging": [
            [
             0,
             "#8e0152"
            ],
            [
             0.1,
             "#c51b7d"
            ],
            [
             0.2,
             "#de77ae"
            ],
            [
             0.3,
             "#f1b6da"
            ],
            [
             0.4,
             "#fde0ef"
            ],
            [
             0.5,
             "#f7f7f7"
            ],
            [
             0.6,
             "#e6f5d0"
            ],
            [
             0.7,
             "#b8e186"
            ],
            [
             0.8,
             "#7fbc41"
            ],
            [
             0.9,
             "#4d9221"
            ],
            [
             1,
             "#276419"
            ]
           ],
           "sequential": [
            [
             0,
             "#0d0887"
            ],
            [
             0.1111111111111111,
             "#46039f"
            ],
            [
             0.2222222222222222,
             "#7201a8"
            ],
            [
             0.3333333333333333,
             "#9c179e"
            ],
            [
             0.4444444444444444,
             "#bd3786"
            ],
            [
             0.5555555555555556,
             "#d8576b"
            ],
            [
             0.6666666666666666,
             "#ed7953"
            ],
            [
             0.7777777777777778,
             "#fb9f3a"
            ],
            [
             0.8888888888888888,
             "#fdca26"
            ],
            [
             1,
             "#f0f921"
            ]
           ],
           "sequentialminus": [
            [
             0,
             "#0d0887"
            ],
            [
             0.1111111111111111,
             "#46039f"
            ],
            [
             0.2222222222222222,
             "#7201a8"
            ],
            [
             0.3333333333333333,
             "#9c179e"
            ],
            [
             0.4444444444444444,
             "#bd3786"
            ],
            [
             0.5555555555555556,
             "#d8576b"
            ],
            [
             0.6666666666666666,
             "#ed7953"
            ],
            [
             0.7777777777777778,
             "#fb9f3a"
            ],
            [
             0.8888888888888888,
             "#fdca26"
            ],
            [
             1,
             "#f0f921"
            ]
           ]
          },
          "colorway": [
           "#636efa",
           "#EF553B",
           "#00cc96",
           "#ab63fa",
           "#FFA15A",
           "#19d3f3",
           "#FF6692",
           "#B6E880",
           "#FF97FF",
           "#FECB52"
          ],
          "font": {
           "color": "#f2f5fa"
          },
          "geo": {
           "bgcolor": "rgb(17,17,17)",
           "lakecolor": "rgb(17,17,17)",
           "landcolor": "rgb(17,17,17)",
           "showlakes": true,
           "showland": true,
           "subunitcolor": "#506784"
          },
          "hoverlabel": {
           "align": "left"
          },
          "hovermode": "closest",
          "mapbox": {
           "style": "dark"
          },
          "paper_bgcolor": "rgb(17,17,17)",
          "plot_bgcolor": "rgb(17,17,17)",
          "polar": {
           "angularaxis": {
            "gridcolor": "#506784",
            "linecolor": "#506784",
            "ticks": ""
           },
           "bgcolor": "rgb(17,17,17)",
           "radialaxis": {
            "gridcolor": "#506784",
            "linecolor": "#506784",
            "ticks": ""
           }
          },
          "scene": {
           "xaxis": {
            "backgroundcolor": "rgb(17,17,17)",
            "gridcolor": "#506784",
            "gridwidth": 2,
            "linecolor": "#506784",
            "showbackground": true,
            "ticks": "",
            "zerolinecolor": "#C8D4E3"
           },
           "yaxis": {
            "backgroundcolor": "rgb(17,17,17)",
            "gridcolor": "#506784",
            "gridwidth": 2,
            "linecolor": "#506784",
            "showbackground": true,
            "ticks": "",
            "zerolinecolor": "#C8D4E3"
           },
           "zaxis": {
            "backgroundcolor": "rgb(17,17,17)",
            "gridcolor": "#506784",
            "gridwidth": 2,
            "linecolor": "#506784",
            "showbackground": true,
            "ticks": "",
            "zerolinecolor": "#C8D4E3"
           }
          },
          "shapedefaults": {
           "line": {
            "color": "#f2f5fa"
           }
          },
          "sliderdefaults": {
           "bgcolor": "#C8D4E3",
           "bordercolor": "rgb(17,17,17)",
           "borderwidth": 1,
           "tickwidth": 0
          },
          "ternary": {
           "aaxis": {
            "gridcolor": "#506784",
            "linecolor": "#506784",
            "ticks": ""
           },
           "baxis": {
            "gridcolor": "#506784",
            "linecolor": "#506784",
            "ticks": ""
           },
           "bgcolor": "rgb(17,17,17)",
           "caxis": {
            "gridcolor": "#506784",
            "linecolor": "#506784",
            "ticks": ""
           }
          },
          "title": {
           "x": 0.05
          },
          "updatemenudefaults": {
           "bgcolor": "#506784",
           "borderwidth": 0
          },
          "xaxis": {
           "automargin": true,
           "gridcolor": "#283442",
           "linecolor": "#506784",
           "ticks": "",
           "title": {
            "standoff": 15
           },
           "zerolinecolor": "#283442",
           "zerolinewidth": 2
          },
          "yaxis": {
           "automargin": true,
           "gridcolor": "#283442",
           "linecolor": "#506784",
           "ticks": "",
           "title": {
            "standoff": 15
           },
           "zerolinecolor": "#283442",
           "zerolinewidth": 2
          }
         }
        },
        "title": {
         "font": {
          "size": 24
         },
         "text": "[bl] by [label], n=44 (220_039)",
         "xanchor": "left",
         "y": 0.95,
         "yanchor": "top"
        },
        "width": 2000,
        "xaxis": {
         "anchor": "y",
         "domain": [
          0,
          1
         ],
         "gridwidth": 1,
         "range": [
          0,
          67151.7
         ],
         "showgrid": true,
         "title": {
          "text": "value"
         }
        },
        "yaxis": {
         "anchor": "x",
         "categoryarray": [
          "09-BY",
          "08-BW",
          "06-HE",
          "03-NI",
          "02-HH",
          "01-SH"
         ],
         "categoryorder": "array",
         "domain": [
          0,
          1
         ],
         "gridwidth": 1,
         "showgrid": true,
         "title": {
          "text": "index"
         }
        }
       }
      }
     },
     "metadata": {},
     "output_type": "display_data"
    }
   ],
   "source": [
    "_df = df_dsich[\n",
    "    [\n",
    "        \"bl\",\n",
    "        \"label\",\n",
    "        \"cnt\",\n",
    "    ]\n",
    "].sort_values(\"bl\")\n",
    "\n",
    "_ = pls.plot_stacked_bars(\n",
    "    _df,\n",
    "    # swap=True,\n",
    "    orientation=\"h\",\n",
    "    # show_total=True,\n",
    "    # normalize=True,\n",
    "    # relative=True,\n",
    "    # height=1000,\n",
    "    # top_n_color=5,\n",
    "    # sort_values_index=True,\n",
    "    sort_values_color=True,\n",
    "    # top_n_index=3,\n",
    "    # precision=2,\n",
    "    # show_other=True,\n",
    "    # top_n_index=2,\n",
    ")\n",
    "_"
   ]
  },
  {
   "cell_type": "code",
   "execution_count": 98,
   "metadata": {},
   "outputs": [
    {
     "data": {
      "application/vnd.plotly.v1+json": {
       "config": {
        "plotlyServerURL": "https://plot.ly"
       },
       "data": [
        {
         "hovertemplate": "value=%{x}<br>index=%{y}<br>cnt_str=%{text}<br>col=%{marker.color}<extra></extra>",
         "legendgroup": "",
         "marker": {
          "color": {
           "bdata": "5AflB+YH5AflB+YH5AflB+YH5AflB+YH5AflB+YH5AflB+YH5AflB+YH5AflB+YH5AflB+YH5AflB+YH5AflB+YH5wfkB+UH5gfkB+UH5gfkB+UH5gfnB+QH5QfmB+QH5QfmBw==",
           "dtype": "i2"
          },
          "coloraxis": "coloraxis",
          "pattern": {
           "shape": ""
          }
         },
         "name": "",
         "orientation": "h",
         "showlegend": false,
         "text": [
          "7_950",
          "7_126",
          "5_446",
          "4_595",
          "3_881",
          "3_116",
          "211",
          "149",
          "61",
          "2_035",
          "1_525",
          "906",
          "46_145",
          "31_959",
          "3_411",
          "2_786",
          "2_135",
          "1_709",
          "3_054",
          "2_817",
          "1_241",
          "23_003",
          "17_516",
          "8_562",
          "50_980",
          "45_711",
          "29_211",
          "3_782",
          "3_320",
          "2_056",
          "26_744",
          "25_143",
          "20_279",
          "3",
          "21_146",
          "20_998",
          "14_392",
          "13_908",
          "12_144",
          "8_184",
          "37_171",
          "26_251",
          "8_457",
          "363",
          "17_723",
          "11_924",
          "4_802",
          "7_039",
          "4_328",
          "2_758"
         ],
         "textposition": "auto",
         "type": "bar",
         "x": {
          "bdata": "Dh8AANYbAABGFQAA8xEAACkPAAAsDAAA0wAAAJUAAAA9AAAA8wcAAPUFAACKAwAAQbQAANd8AABTDQAA4goAAFcIAACtBgAA7gsAAAELAADZBAAA21kAAGxEAAByIQAAJMcAAI+yAAAbcgAAxg4AAPgMAAAICAAAeGgAADdiAAA3TwAAAwAAAJpSAAAGUgAAODgAAFQ2AABwLwAA+B8AADORAACLZgAACSEAAGsBAAA7RQAAlC4AAMISAAB/GwAA6BAAAMYKAAA=",
          "dtype": "i4"
         },
         "xaxis": "x",
         "y": [
          "01-SH",
          "01-SH",
          "01-SH",
          "02-HH",
          "02-HH",
          "02-HH",
          "03-NI",
          "03-NI",
          "03-NI",
          "04-HB",
          "04-HB",
          "04-HB",
          "05-NW",
          "05-NW",
          "05-NW",
          "06-HE",
          "06-HE",
          "06-HE",
          "07-RP",
          "07-RP",
          "07-RP",
          "08-BW",
          "08-BW",
          "08-BW",
          "09-BY",
          "09-BY",
          "09-BY",
          "10-SL",
          "10-SL",
          "10-SL",
          "11-BE",
          "11-BE",
          "11-BE",
          "11-BE",
          "12-BB",
          "12-BB",
          "12-BB",
          "13-MV",
          "13-MV",
          "13-MV",
          "14-SN",
          "14-SN",
          "14-SN",
          "14-SN",
          "15-ST",
          "15-ST",
          "15-ST",
          "16-TH",
          "16-TH",
          "16-TH"
         ],
         "yaxis": "y"
        }
       ],
       "layout": {
        "barmode": "relative",
        "coloraxis": {
         "colorbar": {
          "title": {
           "text": "col"
          }
         },
         "colorscale": [
          [
           0,
           "#0d0887"
          ],
          [
           0.1111111111111111,
           "#46039f"
          ],
          [
           0.2222222222222222,
           "#7201a8"
          ],
          [
           0.3333333333333333,
           "#9c179e"
          ],
          [
           0.4444444444444444,
           "#bd3786"
          ],
          [
           0.5555555555555556,
           "#d8576b"
          ],
          [
           0.6666666666666666,
           "#ed7953"
          ],
          [
           0.7777777777777778,
           "#fb9f3a"
          ],
          [
           0.8888888888888888,
           "#fdca26"
          ],
          [
           1,
           "#f0f921"
          ]
         ]
        },
        "height": 1000,
        "legend": {
         "title": {
          "text": "z_dy"
         },
         "tracegroupgap": 0,
         "traceorder": "normal"
        },
        "template": {
         "data": {
          "bar": [
           {
            "error_x": {
             "color": "#f2f5fa"
            },
            "error_y": {
             "color": "#f2f5fa"
            },
            "marker": {
             "line": {
              "color": "rgb(17,17,17)",
              "width": 0.5
             },
             "pattern": {
              "fillmode": "overlay",
              "size": 10,
              "solidity": 0.2
             }
            },
            "type": "bar"
           }
          ],
          "barpolar": [
           {
            "marker": {
             "line": {
              "color": "rgb(17,17,17)",
              "width": 0.5
             },
             "pattern": {
              "fillmode": "overlay",
              "size": 10,
              "solidity": 0.2
             }
            },
            "type": "barpolar"
           }
          ],
          "carpet": [
           {
            "aaxis": {
             "endlinecolor": "#A2B1C6",
             "gridcolor": "#506784",
             "linecolor": "#506784",
             "minorgridcolor": "#506784",
             "startlinecolor": "#A2B1C6"
            },
            "baxis": {
             "endlinecolor": "#A2B1C6",
             "gridcolor": "#506784",
             "linecolor": "#506784",
             "minorgridcolor": "#506784",
             "startlinecolor": "#A2B1C6"
            },
            "type": "carpet"
           }
          ],
          "choropleth": [
           {
            "colorbar": {
             "outlinewidth": 0,
             "ticks": ""
            },
            "type": "choropleth"
           }
          ],
          "contour": [
           {
            "colorbar": {
             "outlinewidth": 0,
             "ticks": ""
            },
            "colorscale": [
             [
              0,
              "#0d0887"
             ],
             [
              0.1111111111111111,
              "#46039f"
             ],
             [
              0.2222222222222222,
              "#7201a8"
             ],
             [
              0.3333333333333333,
              "#9c179e"
             ],
             [
              0.4444444444444444,
              "#bd3786"
             ],
             [
              0.5555555555555556,
              "#d8576b"
             ],
             [
              0.6666666666666666,
              "#ed7953"
             ],
             [
              0.7777777777777778,
              "#fb9f3a"
             ],
             [
              0.8888888888888888,
              "#fdca26"
             ],
             [
              1,
              "#f0f921"
             ]
            ],
            "type": "contour"
           }
          ],
          "contourcarpet": [
           {
            "colorbar": {
             "outlinewidth": 0,
             "ticks": ""
            },
            "type": "contourcarpet"
           }
          ],
          "heatmap": [
           {
            "colorbar": {
             "outlinewidth": 0,
             "ticks": ""
            },
            "colorscale": [
             [
              0,
              "#0d0887"
             ],
             [
              0.1111111111111111,
              "#46039f"
             ],
             [
              0.2222222222222222,
              "#7201a8"
             ],
             [
              0.3333333333333333,
              "#9c179e"
             ],
             [
              0.4444444444444444,
              "#bd3786"
             ],
             [
              0.5555555555555556,
              "#d8576b"
             ],
             [
              0.6666666666666666,
              "#ed7953"
             ],
             [
              0.7777777777777778,
              "#fb9f3a"
             ],
             [
              0.8888888888888888,
              "#fdca26"
             ],
             [
              1,
              "#f0f921"
             ]
            ],
            "type": "heatmap"
           }
          ],
          "histogram": [
           {
            "marker": {
             "pattern": {
              "fillmode": "overlay",
              "size": 10,
              "solidity": 0.2
             }
            },
            "type": "histogram"
           }
          ],
          "histogram2d": [
           {
            "colorbar": {
             "outlinewidth": 0,
             "ticks": ""
            },
            "colorscale": [
             [
              0,
              "#0d0887"
             ],
             [
              0.1111111111111111,
              "#46039f"
             ],
             [
              0.2222222222222222,
              "#7201a8"
             ],
             [
              0.3333333333333333,
              "#9c179e"
             ],
             [
              0.4444444444444444,
              "#bd3786"
             ],
             [
              0.5555555555555556,
              "#d8576b"
             ],
             [
              0.6666666666666666,
              "#ed7953"
             ],
             [
              0.7777777777777778,
              "#fb9f3a"
             ],
             [
              0.8888888888888888,
              "#fdca26"
             ],
             [
              1,
              "#f0f921"
             ]
            ],
            "type": "histogram2d"
           }
          ],
          "histogram2dcontour": [
           {
            "colorbar": {
             "outlinewidth": 0,
             "ticks": ""
            },
            "colorscale": [
             [
              0,
              "#0d0887"
             ],
             [
              0.1111111111111111,
              "#46039f"
             ],
             [
              0.2222222222222222,
              "#7201a8"
             ],
             [
              0.3333333333333333,
              "#9c179e"
             ],
             [
              0.4444444444444444,
              "#bd3786"
             ],
             [
              0.5555555555555556,
              "#d8576b"
             ],
             [
              0.6666666666666666,
              "#ed7953"
             ],
             [
              0.7777777777777778,
              "#fb9f3a"
             ],
             [
              0.8888888888888888,
              "#fdca26"
             ],
             [
              1,
              "#f0f921"
             ]
            ],
            "type": "histogram2dcontour"
           }
          ],
          "mesh3d": [
           {
            "colorbar": {
             "outlinewidth": 0,
             "ticks": ""
            },
            "type": "mesh3d"
           }
          ],
          "parcoords": [
           {
            "line": {
             "colorbar": {
              "outlinewidth": 0,
              "ticks": ""
             }
            },
            "type": "parcoords"
           }
          ],
          "pie": [
           {
            "automargin": true,
            "type": "pie"
           }
          ],
          "scatter": [
           {
            "marker": {
             "line": {
              "color": "#283442"
             }
            },
            "type": "scatter"
           }
          ],
          "scatter3d": [
           {
            "line": {
             "colorbar": {
              "outlinewidth": 0,
              "ticks": ""
             }
            },
            "marker": {
             "colorbar": {
              "outlinewidth": 0,
              "ticks": ""
             }
            },
            "type": "scatter3d"
           }
          ],
          "scattercarpet": [
           {
            "marker": {
             "colorbar": {
              "outlinewidth": 0,
              "ticks": ""
             }
            },
            "type": "scattercarpet"
           }
          ],
          "scattergeo": [
           {
            "marker": {
             "colorbar": {
              "outlinewidth": 0,
              "ticks": ""
             }
            },
            "type": "scattergeo"
           }
          ],
          "scattergl": [
           {
            "marker": {
             "line": {
              "color": "#283442"
             }
            },
            "type": "scattergl"
           }
          ],
          "scattermap": [
           {
            "marker": {
             "colorbar": {
              "outlinewidth": 0,
              "ticks": ""
             }
            },
            "type": "scattermap"
           }
          ],
          "scattermapbox": [
           {
            "marker": {
             "colorbar": {
              "outlinewidth": 0,
              "ticks": ""
             }
            },
            "type": "scattermapbox"
           }
          ],
          "scatterpolar": [
           {
            "marker": {
             "colorbar": {
              "outlinewidth": 0,
              "ticks": ""
             }
            },
            "type": "scatterpolar"
           }
          ],
          "scatterpolargl": [
           {
            "marker": {
             "colorbar": {
              "outlinewidth": 0,
              "ticks": ""
             }
            },
            "type": "scatterpolargl"
           }
          ],
          "scatterternary": [
           {
            "marker": {
             "colorbar": {
              "outlinewidth": 0,
              "ticks": ""
             }
            },
            "type": "scatterternary"
           }
          ],
          "surface": [
           {
            "colorbar": {
             "outlinewidth": 0,
             "ticks": ""
            },
            "colorscale": [
             [
              0,
              "#0d0887"
             ],
             [
              0.1111111111111111,
              "#46039f"
             ],
             [
              0.2222222222222222,
              "#7201a8"
             ],
             [
              0.3333333333333333,
              "#9c179e"
             ],
             [
              0.4444444444444444,
              "#bd3786"
             ],
             [
              0.5555555555555556,
              "#d8576b"
             ],
             [
              0.6666666666666666,
              "#ed7953"
             ],
             [
              0.7777777777777778,
              "#fb9f3a"
             ],
             [
              0.8888888888888888,
              "#fdca26"
             ],
             [
              1,
              "#f0f921"
             ]
            ],
            "type": "surface"
           }
          ],
          "table": [
           {
            "cells": {
             "fill": {
              "color": "#506784"
             },
             "line": {
              "color": "rgb(17,17,17)"
             }
            },
            "header": {
             "fill": {
              "color": "#2a3f5f"
             },
             "line": {
              "color": "rgb(17,17,17)"
             }
            },
            "type": "table"
           }
          ]
         },
         "layout": {
          "annotationdefaults": {
           "arrowcolor": "#f2f5fa",
           "arrowhead": 0,
           "arrowwidth": 1
          },
          "autotypenumbers": "strict",
          "coloraxis": {
           "colorbar": {
            "outlinewidth": 0,
            "ticks": ""
           }
          },
          "colorscale": {
           "diverging": [
            [
             0,
             "#8e0152"
            ],
            [
             0.1,
             "#c51b7d"
            ],
            [
             0.2,
             "#de77ae"
            ],
            [
             0.3,
             "#f1b6da"
            ],
            [
             0.4,
             "#fde0ef"
            ],
            [
             0.5,
             "#f7f7f7"
            ],
            [
             0.6,
             "#e6f5d0"
            ],
            [
             0.7,
             "#b8e186"
            ],
            [
             0.8,
             "#7fbc41"
            ],
            [
             0.9,
             "#4d9221"
            ],
            [
             1,
             "#276419"
            ]
           ],
           "sequential": [
            [
             0,
             "#0d0887"
            ],
            [
             0.1111111111111111,
             "#46039f"
            ],
            [
             0.2222222222222222,
             "#7201a8"
            ],
            [
             0.3333333333333333,
             "#9c179e"
            ],
            [
             0.4444444444444444,
             "#bd3786"
            ],
            [
             0.5555555555555556,
             "#d8576b"
            ],
            [
             0.6666666666666666,
             "#ed7953"
            ],
            [
             0.7777777777777778,
             "#fb9f3a"
            ],
            [
             0.8888888888888888,
             "#fdca26"
            ],
            [
             1,
             "#f0f921"
            ]
           ],
           "sequentialminus": [
            [
             0,
             "#0d0887"
            ],
            [
             0.1111111111111111,
             "#46039f"
            ],
            [
             0.2222222222222222,
             "#7201a8"
            ],
            [
             0.3333333333333333,
             "#9c179e"
            ],
            [
             0.4444444444444444,
             "#bd3786"
            ],
            [
             0.5555555555555556,
             "#d8576b"
            ],
            [
             0.6666666666666666,
             "#ed7953"
            ],
            [
             0.7777777777777778,
             "#fb9f3a"
            ],
            [
             0.8888888888888888,
             "#fdca26"
            ],
            [
             1,
             "#f0f921"
            ]
           ]
          },
          "colorway": [
           "#636efa",
           "#EF553B",
           "#00cc96",
           "#ab63fa",
           "#FFA15A",
           "#19d3f3",
           "#FF6692",
           "#B6E880",
           "#FF97FF",
           "#FECB52"
          ],
          "font": {
           "color": "#f2f5fa"
          },
          "geo": {
           "bgcolor": "rgb(17,17,17)",
           "lakecolor": "rgb(17,17,17)",
           "landcolor": "rgb(17,17,17)",
           "showlakes": true,
           "showland": true,
           "subunitcolor": "#506784"
          },
          "hoverlabel": {
           "align": "left"
          },
          "hovermode": "closest",
          "mapbox": {
           "style": "dark"
          },
          "paper_bgcolor": "rgb(17,17,17)",
          "plot_bgcolor": "rgb(17,17,17)",
          "polar": {
           "angularaxis": {
            "gridcolor": "#506784",
            "linecolor": "#506784",
            "ticks": ""
           },
           "bgcolor": "rgb(17,17,17)",
           "radialaxis": {
            "gridcolor": "#506784",
            "linecolor": "#506784",
            "ticks": ""
           }
          },
          "scene": {
           "xaxis": {
            "backgroundcolor": "rgb(17,17,17)",
            "gridcolor": "#506784",
            "gridwidth": 2,
            "linecolor": "#506784",
            "showbackground": true,
            "ticks": "",
            "zerolinecolor": "#C8D4E3"
           },
           "yaxis": {
            "backgroundcolor": "rgb(17,17,17)",
            "gridcolor": "#506784",
            "gridwidth": 2,
            "linecolor": "#506784",
            "showbackground": true,
            "ticks": "",
            "zerolinecolor": "#C8D4E3"
           },
           "zaxis": {
            "backgroundcolor": "rgb(17,17,17)",
            "gridcolor": "#506784",
            "gridwidth": 2,
            "linecolor": "#506784",
            "showbackground": true,
            "ticks": "",
            "zerolinecolor": "#C8D4E3"
           }
          },
          "shapedefaults": {
           "line": {
            "color": "#f2f5fa"
           }
          },
          "sliderdefaults": {
           "bgcolor": "#C8D4E3",
           "bordercolor": "rgb(17,17,17)",
           "borderwidth": 1,
           "tickwidth": 0
          },
          "ternary": {
           "aaxis": {
            "gridcolor": "#506784",
            "linecolor": "#506784",
            "ticks": ""
           },
           "baxis": {
            "gridcolor": "#506784",
            "linecolor": "#506784",
            "ticks": ""
           },
           "bgcolor": "rgb(17,17,17)",
           "caxis": {
            "gridcolor": "#506784",
            "linecolor": "#506784",
            "ticks": ""
           }
          },
          "title": {
           "x": 0.05
          },
          "updatemenudefaults": {
           "bgcolor": "#506784",
           "borderwidth": 0
          },
          "xaxis": {
           "automargin": true,
           "gridcolor": "#283442",
           "linecolor": "#506784",
           "ticks": "",
           "title": {
            "standoff": 15
           },
           "zerolinecolor": "#283442",
           "zerolinewidth": 2
          },
          "yaxis": {
           "automargin": true,
           "gridcolor": "#283442",
           "linecolor": "#506784",
           "ticks": "",
           "title": {
            "standoff": 15
           },
           "zerolinecolor": "#283442",
           "zerolinewidth": 2
          }
         }
        },
        "title": {
         "font": {
          "size": 24
         },
         "text": "[z_kkr_label] by TOP10 [z_dy], n=50 (600_156)",
         "xanchor": "left",
         "y": 0.95,
         "yanchor": "top"
        },
        "width": 2000,
        "xaxis": {
         "anchor": "y",
         "domain": [
          0,
          1
         ],
         "gridwidth": 1,
         "range": [
          0,
          132197.1
         ],
         "showgrid": true,
         "title": {
          "text": "value"
         }
        },
        "yaxis": {
         "anchor": "x",
         "categoryarray": [
          "16-TH",
          "15-ST",
          "14-SN",
          "13-MV",
          "12-BB",
          "11-BE",
          "10-SL",
          "09-BY",
          "08-BW",
          "07-RP",
          "06-HE",
          "05-NW",
          "04-HB",
          "03-NI",
          "02-HH",
          "01-SH"
         ],
         "categoryorder": "array",
         "domain": [
          0,
          1
         ],
         "gridwidth": 1,
         "showgrid": true,
         "title": {
          "text": "index"
         }
        }
       }
      }
     },
     "metadata": {},
     "output_type": "display_data"
    }
   ],
   "source": [
    "_df = df_facets[\n",
    "    [\n",
    "        \"z_kkr_label\",\n",
    "        \"z_dy\",\n",
    "        \"cnt\",\n",
    "    ]\n",
    "]#.astype({\"z_dy\": str})\n",
    "\n",
    "_ = pls.plot_stacked_bars(\n",
    "    _df,\n",
    "    # swap=True,\n",
    "    orientation=\"h\",\n",
    "    # show_total=True,\n",
    "    # normalize=True,\n",
    "    # relative=True,\n",
    "    height=1000,\n",
    "    top_n_color=10,\n",
    "    # sort_values_index=True,\n",
    "    # sort_values_color=True,\n",
    "    # top_n_index=5,\n",
    "    # precision=2,\n",
    "    # show_other=True,\n",
    "    # top_n_index=2,\n",
    "    # renderer=\"png\",\n",
    ")\n",
    "_"
   ]
  },
  {
   "cell_type": "code",
   "execution_count": 99,
   "metadata": {},
   "outputs": [
    {
     "data": {
      "application/vnd.plotly.v1+json": {
       "config": {
        "plotlyServerURL": "https://plot.ly"
       },
       "data": [
        {
         "error_y": {
          "thickness": 5
         },
         "hovertemplate": "z_kkr_label=%{x}<br>pct=%{y}<br>cnt_pct_str=%{text}<extra></extra>",
         "legendgroup": "09-BY",
         "marker": {
          "color": "#1F77B4",
          "pattern": {
           "shape": ""
          }
         },
         "name": "09-BY",
         "orientation": "v",
         "showlegend": true,
         "text": [
          "125_902<br>(21.0%)"
         ],
         "textposition": "outside",
         "type": "bar",
         "x": [
          "09-BY"
         ],
         "xaxis": "x",
         "y": {
          "bdata": "L/l1/yPayj8=",
          "dtype": "f8"
         },
         "yaxis": "y"
        },
        {
         "error_y": {
          "thickness": 5
         },
         "hovertemplate": "z_kkr_label=%{x}<br>pct=%{y}<br>cnt_pct_str=%{text}<extra></extra>",
         "legendgroup": "05-NW",
         "marker": {
          "color": "#FF7F0E",
          "pattern": {
           "shape": ""
          }
         },
         "name": "05-NW",
         "orientation": "v",
         "showlegend": true,
         "text": [
          "81_515<br>(13.6%)"
         ],
         "textposition": "outside",
         "type": "bar",
         "x": [
          "05-NW"
         ],
         "xaxis": "x",
         "y": {
          "bdata": "QI0SEaZiwT8=",
          "dtype": "f8"
         },
         "yaxis": "y"
        },
        {
         "error_y": {
          "thickness": 5
         },
         "hovertemplate": "z_kkr_label=%{x}<br>pct=%{y}<br>cnt_pct_str=%{text}<extra></extra>",
         "legendgroup": "14-SN",
         "marker": {
          "color": "#2CA02C",
          "pattern": {
           "shape": ""
          }
         },
         "name": "14-SN",
         "orientation": "v",
         "showlegend": true,
         "text": [
          "72_242<br>(12.0%)"
         ],
         "textposition": "outside",
         "type": "bar",
         "x": [
          "14-SN"
         ],
         "xaxis": "x",
         "y": {
          "bdata": "cPmQqLPQvj8=",
          "dtype": "f8"
         },
         "yaxis": "y"
        },
        {
         "error_y": {
          "thickness": 5
         },
         "hovertemplate": "z_kkr_label=%{x}<br>pct=%{y}<br>cnt_pct_str=%{text}<extra></extra>",
         "legendgroup": "11-BE",
         "marker": {
          "color": "#D62728",
          "pattern": {
           "shape": ""
          }
         },
         "name": "11-BE",
         "orientation": "v",
         "showlegend": true,
         "text": [
          "72_169<br>(12.0%)"
         ],
         "textposition": "outside",
         "type": "bar",
         "x": [
          "11-BE"
         ],
         "xaxis": "x",
         "y": {
          "bdata": "TXAK9rrIvj8=",
          "dtype": "f8"
         },
         "yaxis": "y"
        },
        {
         "error_y": {
          "thickness": 5
         },
         "hovertemplate": "z_kkr_label=%{x}<br>pct=%{y}<br>cnt_pct_str=%{text}<extra></extra>",
         "legendgroup": "12-BB",
         "marker": {
          "color": "#9467BD",
          "pattern": {
           "shape": ""
          }
         },
         "name": "12-BB",
         "orientation": "v",
         "showlegend": true,
         "text": [
          "56_536<br>(9.4%)"
         ],
         "textposition": "outside",
         "type": "bar",
         "x": [
          "12-BB"
         ],
         "xaxis": "x",
         "y": {
          "bdata": "0ET6OKIduD8=",
          "dtype": "f8"
         },
         "yaxis": "y"
        },
        {
         "error_y": {
          "thickness": 5
         },
         "hovertemplate": "z_kkr_label=%{x}<br>pct=%{y}<br>cnt_pct_str=%{text}<extra></extra>",
         "legendgroup": "08-BW",
         "marker": {
          "color": "#8C564B",
          "pattern": {
           "shape": ""
          }
         },
         "name": "08-BW",
         "orientation": "v",
         "showlegend": true,
         "text": [
          "49_081<br>(8.2%)"
         ],
         "textposition": "outside",
         "type": "bar",
         "x": [
          "08-BW"
         ],
         "xaxis": "x",
         "y": {
          "bdata": "WjGcf4/vtD8=",
          "dtype": "f8"
         },
         "yaxis": "y"
        },
        {
         "error_y": {
          "thickness": 5
         },
         "hovertemplate": "z_kkr_label=%{x}<br>pct=%{y}<br>cnt_pct_str=%{text}<extra></extra>",
         "legendgroup": "15-ST",
         "marker": {
          "color": "#E377C2",
          "pattern": {
           "shape": ""
          }
         },
         "name": "15-ST",
         "orientation": "v",
         "showlegend": true,
         "text": [
          "34_449<br>(5.7%)"
         ],
         "textposition": "outside",
         "type": "bar",
         "x": [
          "15-ST"
         ],
         "xaxis": "x",
         "y": {
          "bdata": "xQI/8opjrT8=",
          "dtype": "f8"
         },
         "yaxis": "y"
        },
        {
         "error_y": {
          "thickness": 5
         },
         "hovertemplate": "z_kkr_label=%{x}<br>pct=%{y}<br>cnt_pct_str=%{text}<extra></extra>",
         "legendgroup": "13-MV",
         "marker": {
          "color": "#7F7F7F",
          "pattern": {
           "shape": ""
          }
         },
         "name": "13-MV",
         "orientation": "v",
         "showlegend": true,
         "text": [
          "34_236<br>(5.7%)"
         ],
         "textposition": "outside",
         "type": "bar",
         "x": [
          "13-MV"
         ],
         "xaxis": "x",
         "y": {
          "bdata": "vmAcOAY1rT8=",
          "dtype": "f8"
         },
         "yaxis": "y"
        },
        {
         "error_y": {
          "thickness": 5
         },
         "hovertemplate": "z_kkr_label=%{x}<br>pct=%{y}<br>cnt_pct_str=%{text}<extra></extra>",
         "legendgroup": "01-SH",
         "marker": {
          "color": "#BCBD22",
          "pattern": {
           "shape": ""
          }
         },
         "name": "01-SH",
         "orientation": "v",
         "showlegend": true,
         "text": [
          "20_522<br>(3.4%)"
         ],
         "textposition": "outside",
         "type": "bar",
         "x": [
          "01-SH"
         ],
         "xaxis": "x",
         "y": {
          "bdata": "mu3fGu+BoT8=",
          "dtype": "f8"
         },
         "yaxis": "y"
        },
        {
         "error_y": {
          "thickness": 5
         },
         "hovertemplate": "z_kkr_label=%{x}<br>pct=%{y}<br>cnt_pct_str=%{text}<extra></extra>",
         "legendgroup": "16-TH",
         "marker": {
          "color": "#17BECF",
          "pattern": {
           "shape": ""
          }
         },
         "name": "16-TH",
         "orientation": "v",
         "showlegend": true,
         "text": [
          "14_125<br>(2.4%)"
         ],
         "textposition": "outside",
         "type": "bar",
         "x": [
          "16-TH"
         ],
         "xaxis": "x",
         "y": {
          "bdata": "cobs2bMZmD8=",
          "dtype": "f8"
         },
         "yaxis": "y"
        },
        {
         "error_y": {
          "thickness": 5
         },
         "hovertemplate": "z_kkr_label=%{x}<br>pct=%{y}<br>cnt_pct_str=%{text}<extra></extra>",
         "legendgroup": "02-HH",
         "marker": {
          "color": "#1F77B4",
          "pattern": {
           "shape": ""
          }
         },
         "name": "02-HH",
         "orientation": "v",
         "showlegend": true,
         "text": [
          "11_592<br>(1.9%)"
         ],
         "textposition": "outside",
         "type": "bar",
         "x": [
          "02-HH"
         ],
         "xaxis": "x",
         "y": {
          "bdata": "iMolPU7Hkz8=",
          "dtype": "f8"
         },
         "yaxis": "y"
        },
        {
         "error_y": {
          "thickness": 5
         },
         "hovertemplate": "z_kkr_label=%{x}<br>pct=%{y}<br>cnt_pct_str=%{text}<extra></extra>",
         "legendgroup": "10-SL",
         "marker": {
          "color": "#FF7F0E",
          "pattern": {
           "shape": ""
          }
         },
         "name": "10-SL",
         "orientation": "v",
         "showlegend": true,
         "text": [
          "9_158<br>(1.5%)"
         ],
         "textposition": "outside",
         "type": "bar",
         "x": [
          "10-SL"
         ],
         "xaxis": "x",
         "y": {
          "bdata": "V3nsa01Ajz8=",
          "dtype": "f8"
         },
         "yaxis": "y"
        },
        {
         "error_y": {
          "thickness": 5
         },
         "hovertemplate": "z_kkr_label=%{x}<br>pct=%{y}<br>cnt_pct_str=%{text}<extra></extra>",
         "legendgroup": "07-RP",
         "marker": {
          "color": "#2CA02C",
          "pattern": {
           "shape": ""
          }
         },
         "name": "07-RP",
         "orientation": "v",
         "showlegend": true,
         "text": [
          "7_112<br>(1.2%)"
         ],
         "textposition": "outside",
         "type": "bar",
         "x": [
          "07-RP"
         ],
         "xaxis": "x",
         "y": {
          "bdata": "f7SD7/FEiD8=",
          "dtype": "f8"
         },
         "yaxis": "y"
        },
        {
         "error_y": {
          "thickness": 5
         },
         "hovertemplate": "z_kkr_label=%{x}<br>pct=%{y}<br>cnt_pct_str=%{text}<extra></extra>",
         "legendgroup": "06-HE",
         "marker": {
          "color": "#D62728",
          "pattern": {
           "shape": ""
          }
         },
         "name": "06-HE",
         "orientation": "v",
         "showlegend": true,
         "text": [
          "6_630<br>(1.1%)"
         ],
         "textposition": "outside",
         "type": "bar",
         "x": [
          "06-HE"
         ],
         "xaxis": "x",
         "y": {
          "bdata": "evEYY+Cfhj8=",
          "dtype": "f8"
         },
         "yaxis": "y"
        },
        {
         "error_y": {
          "thickness": 5
         },
         "hovertemplate": "z_kkr_label=%{x}<br>pct=%{y}<br>cnt_pct_str=%{text}<extra></extra>",
         "legendgroup": "04-HB",
         "marker": {
          "color": "#9467BD",
          "pattern": {
           "shape": ""
          }
         },
         "name": "04-HB",
         "orientation": "v",
         "showlegend": true,
         "text": [
          "4_466<br>(0.7%)"
         ],
         "textposition": "outside",
         "type": "bar",
         "x": [
          "04-HB"
         ],
         "xaxis": "x",
         "y": {
          "bdata": "uufkN996fj8=",
          "dtype": "f8"
         },
         "yaxis": "y"
        },
        {
         "error_y": {
          "thickness": 5
         },
         "hovertemplate": "z_kkr_label=%{x}<br>pct=%{y}<br>cnt_pct_str=%{text}<extra></extra>",
         "legendgroup": "03-NI",
         "marker": {
          "color": "#8C564B",
          "pattern": {
           "shape": ""
          }
         },
         "name": "03-NI",
         "orientation": "v",
         "showlegend": true,
         "text": [
          "421<br>(0.1%)"
         ],
         "textposition": "outside",
         "type": "bar",
         "x": [
          "03-NI"
         ],
         "xaxis": "x",
         "y": {
          "bdata": "7wOyBXr8Rj8=",
          "dtype": "f8"
         },
         "yaxis": "y"
        }
       ],
       "layout": {
        "barmode": "relative",
        "height": 600,
        "legend": {
         "title": {
          "text": "z_kkr_label"
         },
         "tracegroupgap": 0
        },
        "showlegend": false,
        "template": {
         "data": {
          "bar": [
           {
            "error_x": {
             "color": "#f2f5fa"
            },
            "error_y": {
             "color": "#f2f5fa"
            },
            "marker": {
             "line": {
              "color": "rgb(17,17,17)",
              "width": 0.5
             },
             "pattern": {
              "fillmode": "overlay",
              "size": 10,
              "solidity": 0.2
             }
            },
            "type": "bar"
           }
          ],
          "barpolar": [
           {
            "marker": {
             "line": {
              "color": "rgb(17,17,17)",
              "width": 0.5
             },
             "pattern": {
              "fillmode": "overlay",
              "size": 10,
              "solidity": 0.2
             }
            },
            "type": "barpolar"
           }
          ],
          "carpet": [
           {
            "aaxis": {
             "endlinecolor": "#A2B1C6",
             "gridcolor": "#506784",
             "linecolor": "#506784",
             "minorgridcolor": "#506784",
             "startlinecolor": "#A2B1C6"
            },
            "baxis": {
             "endlinecolor": "#A2B1C6",
             "gridcolor": "#506784",
             "linecolor": "#506784",
             "minorgridcolor": "#506784",
             "startlinecolor": "#A2B1C6"
            },
            "type": "carpet"
           }
          ],
          "choropleth": [
           {
            "colorbar": {
             "outlinewidth": 0,
             "ticks": ""
            },
            "type": "choropleth"
           }
          ],
          "contour": [
           {
            "colorbar": {
             "outlinewidth": 0,
             "ticks": ""
            },
            "colorscale": [
             [
              0,
              "#0d0887"
             ],
             [
              0.1111111111111111,
              "#46039f"
             ],
             [
              0.2222222222222222,
              "#7201a8"
             ],
             [
              0.3333333333333333,
              "#9c179e"
             ],
             [
              0.4444444444444444,
              "#bd3786"
             ],
             [
              0.5555555555555556,
              "#d8576b"
             ],
             [
              0.6666666666666666,
              "#ed7953"
             ],
             [
              0.7777777777777778,
              "#fb9f3a"
             ],
             [
              0.8888888888888888,
              "#fdca26"
             ],
             [
              1,
              "#f0f921"
             ]
            ],
            "type": "contour"
           }
          ],
          "contourcarpet": [
           {
            "colorbar": {
             "outlinewidth": 0,
             "ticks": ""
            },
            "type": "contourcarpet"
           }
          ],
          "heatmap": [
           {
            "colorbar": {
             "outlinewidth": 0,
             "ticks": ""
            },
            "colorscale": [
             [
              0,
              "#0d0887"
             ],
             [
              0.1111111111111111,
              "#46039f"
             ],
             [
              0.2222222222222222,
              "#7201a8"
             ],
             [
              0.3333333333333333,
              "#9c179e"
             ],
             [
              0.4444444444444444,
              "#bd3786"
             ],
             [
              0.5555555555555556,
              "#d8576b"
             ],
             [
              0.6666666666666666,
              "#ed7953"
             ],
             [
              0.7777777777777778,
              "#fb9f3a"
             ],
             [
              0.8888888888888888,
              "#fdca26"
             ],
             [
              1,
              "#f0f921"
             ]
            ],
            "type": "heatmap"
           }
          ],
          "histogram": [
           {
            "marker": {
             "pattern": {
              "fillmode": "overlay",
              "size": 10,
              "solidity": 0.2
             }
            },
            "type": "histogram"
           }
          ],
          "histogram2d": [
           {
            "colorbar": {
             "outlinewidth": 0,
             "ticks": ""
            },
            "colorscale": [
             [
              0,
              "#0d0887"
             ],
             [
              0.1111111111111111,
              "#46039f"
             ],
             [
              0.2222222222222222,
              "#7201a8"
             ],
             [
              0.3333333333333333,
              "#9c179e"
             ],
             [
              0.4444444444444444,
              "#bd3786"
             ],
             [
              0.5555555555555556,
              "#d8576b"
             ],
             [
              0.6666666666666666,
              "#ed7953"
             ],
             [
              0.7777777777777778,
              "#fb9f3a"
             ],
             [
              0.8888888888888888,
              "#fdca26"
             ],
             [
              1,
              "#f0f921"
             ]
            ],
            "type": "histogram2d"
           }
          ],
          "histogram2dcontour": [
           {
            "colorbar": {
             "outlinewidth": 0,
             "ticks": ""
            },
            "colorscale": [
             [
              0,
              "#0d0887"
             ],
             [
              0.1111111111111111,
              "#46039f"
             ],
             [
              0.2222222222222222,
              "#7201a8"
             ],
             [
              0.3333333333333333,
              "#9c179e"
             ],
             [
              0.4444444444444444,
              "#bd3786"
             ],
             [
              0.5555555555555556,
              "#d8576b"
             ],
             [
              0.6666666666666666,
              "#ed7953"
             ],
             [
              0.7777777777777778,
              "#fb9f3a"
             ],
             [
              0.8888888888888888,
              "#fdca26"
             ],
             [
              1,
              "#f0f921"
             ]
            ],
            "type": "histogram2dcontour"
           }
          ],
          "mesh3d": [
           {
            "colorbar": {
             "outlinewidth": 0,
             "ticks": ""
            },
            "type": "mesh3d"
           }
          ],
          "parcoords": [
           {
            "line": {
             "colorbar": {
              "outlinewidth": 0,
              "ticks": ""
             }
            },
            "type": "parcoords"
           }
          ],
          "pie": [
           {
            "automargin": true,
            "type": "pie"
           }
          ],
          "scatter": [
           {
            "marker": {
             "line": {
              "color": "#283442"
             }
            },
            "type": "scatter"
           }
          ],
          "scatter3d": [
           {
            "line": {
             "colorbar": {
              "outlinewidth": 0,
              "ticks": ""
             }
            },
            "marker": {
             "colorbar": {
              "outlinewidth": 0,
              "ticks": ""
             }
            },
            "type": "scatter3d"
           }
          ],
          "scattercarpet": [
           {
            "marker": {
             "colorbar": {
              "outlinewidth": 0,
              "ticks": ""
             }
            },
            "type": "scattercarpet"
           }
          ],
          "scattergeo": [
           {
            "marker": {
             "colorbar": {
              "outlinewidth": 0,
              "ticks": ""
             }
            },
            "type": "scattergeo"
           }
          ],
          "scattergl": [
           {
            "marker": {
             "line": {
              "color": "#283442"
             }
            },
            "type": "scattergl"
           }
          ],
          "scattermap": [
           {
            "marker": {
             "colorbar": {
              "outlinewidth": 0,
              "ticks": ""
             }
            },
            "type": "scattermap"
           }
          ],
          "scattermapbox": [
           {
            "marker": {
             "colorbar": {
              "outlinewidth": 0,
              "ticks": ""
             }
            },
            "type": "scattermapbox"
           }
          ],
          "scatterpolar": [
           {
            "marker": {
             "colorbar": {
              "outlinewidth": 0,
              "ticks": ""
             }
            },
            "type": "scatterpolar"
           }
          ],
          "scatterpolargl": [
           {
            "marker": {
             "colorbar": {
              "outlinewidth": 0,
              "ticks": ""
             }
            },
            "type": "scatterpolargl"
           }
          ],
          "scatterternary": [
           {
            "marker": {
             "colorbar": {
              "outlinewidth": 0,
              "ticks": ""
             }
            },
            "type": "scatterternary"
           }
          ],
          "surface": [
           {
            "colorbar": {
             "outlinewidth": 0,
             "ticks": ""
            },
            "colorscale": [
             [
              0,
              "#0d0887"
             ],
             [
              0.1111111111111111,
              "#46039f"
             ],
             [
              0.2222222222222222,
              "#7201a8"
             ],
             [
              0.3333333333333333,
              "#9c179e"
             ],
             [
              0.4444444444444444,
              "#bd3786"
             ],
             [
              0.5555555555555556,
              "#d8576b"
             ],
             [
              0.6666666666666666,
              "#ed7953"
             ],
             [
              0.7777777777777778,
              "#fb9f3a"
             ],
             [
              0.8888888888888888,
              "#fdca26"
             ],
             [
              1,
              "#f0f921"
             ]
            ],
            "type": "surface"
           }
          ],
          "table": [
           {
            "cells": {
             "fill": {
              "color": "#506784"
             },
             "line": {
              "color": "rgb(17,17,17)"
             }
            },
            "header": {
             "fill": {
              "color": "#2a3f5f"
             },
             "line": {
              "color": "rgb(17,17,17)"
             }
            },
            "type": "table"
           }
          ]
         },
         "layout": {
          "annotationdefaults": {
           "arrowcolor": "#f2f5fa",
           "arrowhead": 0,
           "arrowwidth": 1
          },
          "autotypenumbers": "strict",
          "coloraxis": {
           "colorbar": {
            "outlinewidth": 0,
            "ticks": ""
           }
          },
          "colorscale": {
           "diverging": [
            [
             0,
             "#8e0152"
            ],
            [
             0.1,
             "#c51b7d"
            ],
            [
             0.2,
             "#de77ae"
            ],
            [
             0.3,
             "#f1b6da"
            ],
            [
             0.4,
             "#fde0ef"
            ],
            [
             0.5,
             "#f7f7f7"
            ],
            [
             0.6,
             "#e6f5d0"
            ],
            [
             0.7,
             "#b8e186"
            ],
            [
             0.8,
             "#7fbc41"
            ],
            [
             0.9,
             "#4d9221"
            ],
            [
             1,
             "#276419"
            ]
           ],
           "sequential": [
            [
             0,
             "#0d0887"
            ],
            [
             0.1111111111111111,
             "#46039f"
            ],
            [
             0.2222222222222222,
             "#7201a8"
            ],
            [
             0.3333333333333333,
             "#9c179e"
            ],
            [
             0.4444444444444444,
             "#bd3786"
            ],
            [
             0.5555555555555556,
             "#d8576b"
            ],
            [
             0.6666666666666666,
             "#ed7953"
            ],
            [
             0.7777777777777778,
             "#fb9f3a"
            ],
            [
             0.8888888888888888,
             "#fdca26"
            ],
            [
             1,
             "#f0f921"
            ]
           ],
           "sequentialminus": [
            [
             0,
             "#0d0887"
            ],
            [
             0.1111111111111111,
             "#46039f"
            ],
            [
             0.2222222222222222,
             "#7201a8"
            ],
            [
             0.3333333333333333,
             "#9c179e"
            ],
            [
             0.4444444444444444,
             "#bd3786"
            ],
            [
             0.5555555555555556,
             "#d8576b"
            ],
            [
             0.6666666666666666,
             "#ed7953"
            ],
            [
             0.7777777777777778,
             "#fb9f3a"
            ],
            [
             0.8888888888888888,
             "#fdca26"
            ],
            [
             1,
             "#f0f921"
            ]
           ]
          },
          "colorway": [
           "#636efa",
           "#EF553B",
           "#00cc96",
           "#ab63fa",
           "#FFA15A",
           "#19d3f3",
           "#FF6692",
           "#B6E880",
           "#FF97FF",
           "#FECB52"
          ],
          "font": {
           "color": "#f2f5fa"
          },
          "geo": {
           "bgcolor": "rgb(17,17,17)",
           "lakecolor": "rgb(17,17,17)",
           "landcolor": "rgb(17,17,17)",
           "showlakes": true,
           "showland": true,
           "subunitcolor": "#506784"
          },
          "hoverlabel": {
           "align": "left"
          },
          "hovermode": "closest",
          "mapbox": {
           "style": "dark"
          },
          "paper_bgcolor": "rgb(17,17,17)",
          "plot_bgcolor": "rgb(17,17,17)",
          "polar": {
           "angularaxis": {
            "gridcolor": "#506784",
            "linecolor": "#506784",
            "ticks": ""
           },
           "bgcolor": "rgb(17,17,17)",
           "radialaxis": {
            "gridcolor": "#506784",
            "linecolor": "#506784",
            "ticks": ""
           }
          },
          "scene": {
           "xaxis": {
            "backgroundcolor": "rgb(17,17,17)",
            "gridcolor": "#506784",
            "gridwidth": 2,
            "linecolor": "#506784",
            "showbackground": true,
            "ticks": "",
            "zerolinecolor": "#C8D4E3"
           },
           "yaxis": {
            "backgroundcolor": "rgb(17,17,17)",
            "gridcolor": "#506784",
            "gridwidth": 2,
            "linecolor": "#506784",
            "showbackground": true,
            "ticks": "",
            "zerolinecolor": "#C8D4E3"
           },
           "zaxis": {
            "backgroundcolor": "rgb(17,17,17)",
            "gridcolor": "#506784",
            "gridwidth": 2,
            "linecolor": "#506784",
            "showbackground": true,
            "ticks": "",
            "zerolinecolor": "#C8D4E3"
           }
          },
          "shapedefaults": {
           "line": {
            "color": "#f2f5fa"
           }
          },
          "sliderdefaults": {
           "bgcolor": "#C8D4E3",
           "bordercolor": "rgb(17,17,17)",
           "borderwidth": 1,
           "tickwidth": 0
          },
          "ternary": {
           "aaxis": {
            "gridcolor": "#506784",
            "linecolor": "#506784",
            "ticks": ""
           },
           "baxis": {
            "gridcolor": "#506784",
            "linecolor": "#506784",
            "ticks": ""
           },
           "bgcolor": "rgb(17,17,17)",
           "caxis": {
            "gridcolor": "#506784",
            "linecolor": "#506784",
            "ticks": ""
           }
          },
          "title": {
           "x": 0.05
          },
          "updatemenudefaults": {
           "bgcolor": "#506784",
           "borderwidth": 0
          },
          "xaxis": {
           "automargin": true,
           "gridcolor": "#283442",
           "linecolor": "#506784",
           "ticks": "",
           "title": {
            "standoff": 15
           },
           "zerolinecolor": "#283442",
           "zerolinewidth": 2
          },
          "yaxis": {
           "automargin": true,
           "gridcolor": "#283442",
           "linecolor": "#506784",
           "ticks": "",
           "title": {
            "standoff": 15
           },
           "zerolinecolor": "#283442",
           "zerolinewidth": 2
          }
         }
        },
        "title": {
         "font": {
          "size": 24
         },
         "text": "[cnt] by [z_kkr_label], n=16_357 (600_156)",
         "xanchor": "left",
         "y": 0.95,
         "yanchor": "top"
        },
        "width": 1200,
        "xaxis": {
         "anchor": "y",
         "categoryarray": [
          "09-BY",
          "05-NW",
          "14-SN",
          "11-BE",
          "12-BB",
          "08-BW",
          "15-ST",
          "13-MV",
          "01-SH",
          "16-TH",
          "02-HH",
          "10-SL",
          "07-RP",
          "06-HE",
          "04-HB",
          "03-NI"
         ],
         "categoryorder": "total descending",
         "domain": [
          0,
          1
         ],
         "gridwidth": 1,
         "showgrid": true,
         "title": {
          "text": "z_kkr_label"
         }
        },
        "yaxis": {
         "anchor": "x",
         "domain": [
          0,
          1
         ],
         "dtick": 0.05,
         "gridwidth": 1,
         "range": [
          0,
          0.24229835242836864
         ],
         "showgrid": true,
         "title": {
          "text": "pct"
         }
        }
       }
      }
     },
     "metadata": {},
     "output_type": "display_data"
    }
   ],
   "source": [
    "_df = df_facets[\n",
    "    [\n",
    "        \"z_kkr_label\",\n",
    "        \"cnt\",\n",
    "    ]\n",
    "]\n",
    "_df\n",
    "\n",
    "_ = pls.plot_bars(\n",
    "    _df,\n",
    "    height=600,\n",
    "    width=1200,\n",
    "    sort_values=True,\n",
    "    # renderer=\"png\",\n",
    ")"
   ]
  },
  {
   "cell_type": "code",
   "execution_count": 100,
   "metadata": {},
   "outputs": [
    {
     "name": "stdout",
     "output_type": "stream",
     "text": [
      "🔵 *** df: taxis ***  \n",
      "🟣 shape: (6_433, 4) columns: ['color' 'payment' 'pickup_borough' 'total']  \n",
      "🟣 duplicates: 4_803  \n",
      "🟣 uniques: [{color: 2 payment: 2 pickup_borough: 4 total: 898}]  \n",
      "🟣 missings: [{color: 0 payment: 44 pickup_borough: 26 total: 0}]  \n",
      "--- column uniques (all)  \n",
      "🟠 index [0, 1, 2, 3, 4,]  \n",
      "🟠 color(2|object)   ['green', 'yellow',]  \n",
      "🟠 payment(3|object)   ['<NA>', 'cash', 'credit card',]  \n",
      "🟠 pickup_borough(5|object)   ['<NA>', 'Bronx', 'Brooklyn', 'Manhattan', 'Queens',]  \n",
      "🟠 total(898|float64)   [1.3, 3.3, 3.31, 3.8, 4.3,]  \n",
      "--- column stats (numeric)  \n",
      "total -> min: 1.3 | lower: 1.3 | q25: 10.8 | median: 14.16 | mean: 18.518 | q75: 20.3 | upper: 34.55 | max: 174.82 | std: 13.816 | cv: 0.746 | sum: 119_124.97 | skew: 3.093 | kurto: 15.053  \n"
     ]
    },
    {
     "data": {
      "text/html": [
       "<div>\n",
       "<style scoped>\n",
       "    .dataframe tbody tr th:only-of-type {\n",
       "        vertical-align: middle;\n",
       "    }\n",
       "\n",
       "    .dataframe tbody tr th {\n",
       "        vertical-align: top;\n",
       "    }\n",
       "\n",
       "    .dataframe thead th {\n",
       "        text-align: right;\n",
       "    }\n",
       "</style>\n",
       "<table border=\"1\" class=\"dataframe\">\n",
       "  <thead>\n",
       "    <tr style=\"text-align: right;\">\n",
       "      <th></th>\n",
       "      <th>color</th>\n",
       "      <th>payment</th>\n",
       "      <th>pickup_borough</th>\n",
       "      <th>total</th>\n",
       "    </tr>\n",
       "  </thead>\n",
       "  <tbody>\n",
       "    <tr>\n",
       "      <th>0</th>\n",
       "      <td>yellow</td>\n",
       "      <td>credit card</td>\n",
       "      <td>Manhattan</td>\n",
       "      <td>12.95</td>\n",
       "    </tr>\n",
       "    <tr>\n",
       "      <th>1</th>\n",
       "      <td>yellow</td>\n",
       "      <td>cash</td>\n",
       "      <td>Manhattan</td>\n",
       "      <td>9.30</td>\n",
       "    </tr>\n",
       "    <tr>\n",
       "      <th>2</th>\n",
       "      <td>yellow</td>\n",
       "      <td>credit card</td>\n",
       "      <td>Manhattan</td>\n",
       "      <td>14.16</td>\n",
       "    </tr>\n",
       "  </tbody>\n",
       "</table>\n",
       "</div>"
      ],
      "text/plain": [
       "    color      payment pickup_borough  total\n",
       "0  yellow  credit card      Manhattan  12.95\n",
       "1  yellow         cash      Manhattan   9.30\n",
       "2  yellow  credit card      Manhattan  14.16"
      ]
     },
     "metadata": {},
     "output_type": "display_data"
    },
    {
     "data": {
      "application/vnd.plotly.v1+json": {
       "config": {
        "plotlyServerURL": "https://plot.ly"
       },
       "data": [
        {
         "hovertemplate": "x=%{x}<br>y=%{y}<extra></extra>",
         "legendgroup": "",
         "marker": {
          "color": "#636efa",
          "pattern": {
           "shape": ""
          }
         },
         "name": "",
         "orientation": "v",
         "showlegend": false,
         "textposition": "auto",
         "type": "bar",
         "x": [
          "yellow",
          "green"
         ],
         "xaxis": "x",
         "y": {
          "bdata": "SxXWAw==",
          "dtype": "i2"
         },
         "yaxis": "y"
        },
        {
         "hovertemplate": "x=%{x}<br>y=%{y}<extra></extra>",
         "legendgroup": "",
         "marker": {
          "color": "#636efa",
          "pattern": {
           "shape": ""
          }
         },
         "name": "",
         "orientation": "v",
         "showlegend": false,
         "textposition": "auto",
         "type": "bar",
         "x": [
          "credit card",
          "cash",
          "<NA>"
         ],
         "xaxis": "x2",
         "y": {
          "bdata": "4REUBywA",
          "dtype": "i2"
         },
         "yaxis": "y2"
        },
        {
         "hovertemplate": "x=%{x}<br>y=%{y}<extra></extra>",
         "legendgroup": "",
         "marker": {
          "color": "#636efa",
          "pattern": {
           "shape": ""
          }
         },
         "name": "",
         "orientation": "v",
         "showlegend": false,
         "textposition": "auto",
         "type": "bar",
         "x": [
          "Manhattan",
          "Queens",
          "Brooklyn",
          "Bronx",
          "<NA>"
         ],
         "xaxis": "x3",
         "y": {
          "bdata": "lBSRAn8BYwAaAA==",
          "dtype": "i2"
         },
         "yaxis": "y3"
        },
        {
         "hovertemplate": "x=%{x}<br>y=%{y}<extra></extra>",
         "legendgroup": "",
         "marker": {
          "color": "#636efa",
          "pattern": {
           "shape": ""
          }
         },
         "name": "",
         "orientation": "v",
         "showlegend": false,
         "textposition": "auto",
         "type": "bar",
         "x": {
          "bdata": "mpmZmZmZIkCamZmZmZkmQJqZmZmZmSdAmpmZmZmZI0CamZmZmZkkQJqZmZmZmSFAmpmZmZmZKECamZmZmZkgQJqZmZmZmSVAmpmZmZmZKUCamZmZmZkrQDMzMzMzMx9A7FG4HoXrKUCamZmZmZkqQDMzMzMzMx1AUrgehetRJkCamZmZmZktQFK4HoXrUSxAmpmZmZmZLECF61G4HoUnQB+F61G4HitAH4XrUbgeJUCamZmZmZkvQLgehetRuChAzczMzMzMMEAzMzMzMzMbQJqZmZmZmS5A7FG4HoXrI0CF61G4HoUtQM3MzMzMzDFA7FG4HoXrL0DNzMzMzEwxQM3MzMzMTDBAj8L1KFyPMEC4HoXrUbgiQGZmZmZm5ilAAAAAAACAJ0DD9Shcj8IxQPYoXI/C9TJAKVyPwvUoMUAAAAAAAIAtQDMzMzMzMxdAzczMzMxMMkAzMzMzMzMZQFyPwvUoXDJAmpmZmZkZJUC4HoXrUbguQM3MzMzMTDNAhetRuB6FIUCamZmZmRkrQDMzMzMzsyhAzczMzMxMJkDNzMzMzMw1QM3MzMzMzDRAKVyPwvUoNEDNzMzMzMw2QM3MzMzMzDJAj8L1KFyPM0DNzMzMzEwsQGZmZmZm5i9AZmZmZmYmMUCPwvUoXI82QM3MzMzMTDRAMzMzMzOzLkDNzMzMzMwzQGZmZmZm5iNAzczMzMxMNUCamZmZmVkyQPYoXI/C9TVAMzMzMzOzIkAAAAAAAAAmQMP1KFyPwjRAPQrXo3A9J0DNzMzMzIwwQAAAAAAAgChAAAAAAAAAKkAAAAAAAAArQFyPwvUoXDVAMzMzMzMzE0DNzMzMzMw5QM3MzMzMTDZAMzMzMzPzMkBmZmZmZmYKQMP1KFyPwjpA4XoUrkdRUkAAAAAAAMAxQDMzMzMzMxVAAAAAAAAAMEAzMzMzMzMRQM3MzMzMTDdAzczMzMzMN0DNzMzMzMw6QM3MzMzMjDNAKVyPwvUoN0AAAAAAAEAxQMP1KFyPwiRAzczMzMzMOEAAAAAAAIAjQAAAAAAAwDRAzczMzMxMOEA=",
          "dtype": "f8"
         },
         "xaxis": "x4",
         "y": {
          "bdata": "kgCBAHoAeQB5AHYAZQBkAGIAXwBcAFsAWQBVAFQATwBMAEoASQBJAEkARQBEAEAAPAA7ADsAOAA1ADQANAAzADMAMgAvAC4AKwAqACkAKAAnACYAJgAlACUAJAAkACQAIwAiACEAIAAgACAAIAAdAB0AHQAcABsAGwAaABoAGgAaABoAGQAZABcAFwAVABUAFQAUABQAFAATABMAEwATABIAEgASABIAEgASABEAEQAQABAAEAAPAA8ADwAPAA8ADgAOAA4ADgA=",
          "dtype": "i2"
         },
         "yaxis": "y4"
        }
       ],
       "layout": {
        "annotations": [
         {
          "font": {
           "size": 16
          },
          "showarrow": false,
          "text": "color",
          "x": 0.08399999999999999,
          "xanchor": "center",
          "xref": "paper",
          "y": 1,
          "yanchor": "bottom",
          "yref": "paper"
         },
         {
          "font": {
           "size": 16
          },
          "showarrow": false,
          "text": "payment",
          "x": 0.292,
          "xanchor": "center",
          "xref": "paper",
          "y": 1,
          "yanchor": "bottom",
          "yref": "paper"
         },
         {
          "font": {
           "size": 16
          },
          "showarrow": false,
          "text": "pickup_borough",
          "x": 0.5,
          "xanchor": "center",
          "xref": "paper",
          "y": 1,
          "yanchor": "bottom",
          "yref": "paper"
         },
         {
          "font": {
           "size": 16
          },
          "showarrow": false,
          "text": "total",
          "x": 0.708,
          "xanchor": "center",
          "xref": "paper",
          "y": 1,
          "yanchor": "bottom",
          "yref": "paper"
         }
        ],
        "height": 300,
        "template": {
         "data": {
          "bar": [
           {
            "error_x": {
             "color": "#f2f5fa"
            },
            "error_y": {
             "color": "#f2f5fa"
            },
            "marker": {
             "line": {
              "color": "rgb(17,17,17)",
              "width": 0.5
             },
             "pattern": {
              "fillmode": "overlay",
              "size": 10,
              "solidity": 0.2
             }
            },
            "type": "bar"
           }
          ],
          "barpolar": [
           {
            "marker": {
             "line": {
              "color": "rgb(17,17,17)",
              "width": 0.5
             },
             "pattern": {
              "fillmode": "overlay",
              "size": 10,
              "solidity": 0.2
             }
            },
            "type": "barpolar"
           }
          ],
          "carpet": [
           {
            "aaxis": {
             "endlinecolor": "#A2B1C6",
             "gridcolor": "#506784",
             "linecolor": "#506784",
             "minorgridcolor": "#506784",
             "startlinecolor": "#A2B1C6"
            },
            "baxis": {
             "endlinecolor": "#A2B1C6",
             "gridcolor": "#506784",
             "linecolor": "#506784",
             "minorgridcolor": "#506784",
             "startlinecolor": "#A2B1C6"
            },
            "type": "carpet"
           }
          ],
          "choropleth": [
           {
            "colorbar": {
             "outlinewidth": 0,
             "ticks": ""
            },
            "type": "choropleth"
           }
          ],
          "contour": [
           {
            "colorbar": {
             "outlinewidth": 0,
             "ticks": ""
            },
            "colorscale": [
             [
              0,
              "#0d0887"
             ],
             [
              0.1111111111111111,
              "#46039f"
             ],
             [
              0.2222222222222222,
              "#7201a8"
             ],
             [
              0.3333333333333333,
              "#9c179e"
             ],
             [
              0.4444444444444444,
              "#bd3786"
             ],
             [
              0.5555555555555556,
              "#d8576b"
             ],
             [
              0.6666666666666666,
              "#ed7953"
             ],
             [
              0.7777777777777778,
              "#fb9f3a"
             ],
             [
              0.8888888888888888,
              "#fdca26"
             ],
             [
              1,
              "#f0f921"
             ]
            ],
            "type": "contour"
           }
          ],
          "contourcarpet": [
           {
            "colorbar": {
             "outlinewidth": 0,
             "ticks": ""
            },
            "type": "contourcarpet"
           }
          ],
          "heatmap": [
           {
            "colorbar": {
             "outlinewidth": 0,
             "ticks": ""
            },
            "colorscale": [
             [
              0,
              "#0d0887"
             ],
             [
              0.1111111111111111,
              "#46039f"
             ],
             [
              0.2222222222222222,
              "#7201a8"
             ],
             [
              0.3333333333333333,
              "#9c179e"
             ],
             [
              0.4444444444444444,
              "#bd3786"
             ],
             [
              0.5555555555555556,
              "#d8576b"
             ],
             [
              0.6666666666666666,
              "#ed7953"
             ],
             [
              0.7777777777777778,
              "#fb9f3a"
             ],
             [
              0.8888888888888888,
              "#fdca26"
             ],
             [
              1,
              "#f0f921"
             ]
            ],
            "type": "heatmap"
           }
          ],
          "histogram": [
           {
            "marker": {
             "pattern": {
              "fillmode": "overlay",
              "size": 10,
              "solidity": 0.2
             }
            },
            "type": "histogram"
           }
          ],
          "histogram2d": [
           {
            "colorbar": {
             "outlinewidth": 0,
             "ticks": ""
            },
            "colorscale": [
             [
              0,
              "#0d0887"
             ],
             [
              0.1111111111111111,
              "#46039f"
             ],
             [
              0.2222222222222222,
              "#7201a8"
             ],
             [
              0.3333333333333333,
              "#9c179e"
             ],
             [
              0.4444444444444444,
              "#bd3786"
             ],
             [
              0.5555555555555556,
              "#d8576b"
             ],
             [
              0.6666666666666666,
              "#ed7953"
             ],
             [
              0.7777777777777778,
              "#fb9f3a"
             ],
             [
              0.8888888888888888,
              "#fdca26"
             ],
             [
              1,
              "#f0f921"
             ]
            ],
            "type": "histogram2d"
           }
          ],
          "histogram2dcontour": [
           {
            "colorbar": {
             "outlinewidth": 0,
             "ticks": ""
            },
            "colorscale": [
             [
              0,
              "#0d0887"
             ],
             [
              0.1111111111111111,
              "#46039f"
             ],
             [
              0.2222222222222222,
              "#7201a8"
             ],
             [
              0.3333333333333333,
              "#9c179e"
             ],
             [
              0.4444444444444444,
              "#bd3786"
             ],
             [
              0.5555555555555556,
              "#d8576b"
             ],
             [
              0.6666666666666666,
              "#ed7953"
             ],
             [
              0.7777777777777778,
              "#fb9f3a"
             ],
             [
              0.8888888888888888,
              "#fdca26"
             ],
             [
              1,
              "#f0f921"
             ]
            ],
            "type": "histogram2dcontour"
           }
          ],
          "mesh3d": [
           {
            "colorbar": {
             "outlinewidth": 0,
             "ticks": ""
            },
            "type": "mesh3d"
           }
          ],
          "parcoords": [
           {
            "line": {
             "colorbar": {
              "outlinewidth": 0,
              "ticks": ""
             }
            },
            "type": "parcoords"
           }
          ],
          "pie": [
           {
            "automargin": true,
            "type": "pie"
           }
          ],
          "scatter": [
           {
            "marker": {
             "line": {
              "color": "#283442"
             }
            },
            "type": "scatter"
           }
          ],
          "scatter3d": [
           {
            "line": {
             "colorbar": {
              "outlinewidth": 0,
              "ticks": ""
             }
            },
            "marker": {
             "colorbar": {
              "outlinewidth": 0,
              "ticks": ""
             }
            },
            "type": "scatter3d"
           }
          ],
          "scattercarpet": [
           {
            "marker": {
             "colorbar": {
              "outlinewidth": 0,
              "ticks": ""
             }
            },
            "type": "scattercarpet"
           }
          ],
          "scattergeo": [
           {
            "marker": {
             "colorbar": {
              "outlinewidth": 0,
              "ticks": ""
             }
            },
            "type": "scattergeo"
           }
          ],
          "scattergl": [
           {
            "marker": {
             "line": {
              "color": "#283442"
             }
            },
            "type": "scattergl"
           }
          ],
          "scattermap": [
           {
            "marker": {
             "colorbar": {
              "outlinewidth": 0,
              "ticks": ""
             }
            },
            "type": "scattermap"
           }
          ],
          "scattermapbox": [
           {
            "marker": {
             "colorbar": {
              "outlinewidth": 0,
              "ticks": ""
             }
            },
            "type": "scattermapbox"
           }
          ],
          "scatterpolar": [
           {
            "marker": {
             "colorbar": {
              "outlinewidth": 0,
              "ticks": ""
             }
            },
            "type": "scatterpolar"
           }
          ],
          "scatterpolargl": [
           {
            "marker": {
             "colorbar": {
              "outlinewidth": 0,
              "ticks": ""
             }
            },
            "type": "scatterpolargl"
           }
          ],
          "scatterternary": [
           {
            "marker": {
             "colorbar": {
              "outlinewidth": 0,
              "ticks": ""
             }
            },
            "type": "scatterternary"
           }
          ],
          "surface": [
           {
            "colorbar": {
             "outlinewidth": 0,
             "ticks": ""
            },
            "colorscale": [
             [
              0,
              "#0d0887"
             ],
             [
              0.1111111111111111,
              "#46039f"
             ],
             [
              0.2222222222222222,
              "#7201a8"
             ],
             [
              0.3333333333333333,
              "#9c179e"
             ],
             [
              0.4444444444444444,
              "#bd3786"
             ],
             [
              0.5555555555555556,
              "#d8576b"
             ],
             [
              0.6666666666666666,
              "#ed7953"
             ],
             [
              0.7777777777777778,
              "#fb9f3a"
             ],
             [
              0.8888888888888888,
              "#fdca26"
             ],
             [
              1,
              "#f0f921"
             ]
            ],
            "type": "surface"
           }
          ],
          "table": [
           {
            "cells": {
             "fill": {
              "color": "#506784"
             },
             "line": {
              "color": "rgb(17,17,17)"
             }
            },
            "header": {
             "fill": {
              "color": "#2a3f5f"
             },
             "line": {
              "color": "rgb(17,17,17)"
             }
            },
            "type": "table"
           }
          ]
         },
         "layout": {
          "annotationdefaults": {
           "arrowcolor": "#f2f5fa",
           "arrowhead": 0,
           "arrowwidth": 1
          },
          "autotypenumbers": "strict",
          "coloraxis": {
           "colorbar": {
            "outlinewidth": 0,
            "ticks": ""
           }
          },
          "colorscale": {
           "diverging": [
            [
             0,
             "#8e0152"
            ],
            [
             0.1,
             "#c51b7d"
            ],
            [
             0.2,
             "#de77ae"
            ],
            [
             0.3,
             "#f1b6da"
            ],
            [
             0.4,
             "#fde0ef"
            ],
            [
             0.5,
             "#f7f7f7"
            ],
            [
             0.6,
             "#e6f5d0"
            ],
            [
             0.7,
             "#b8e186"
            ],
            [
             0.8,
             "#7fbc41"
            ],
            [
             0.9,
             "#4d9221"
            ],
            [
             1,
             "#276419"
            ]
           ],
           "sequential": [
            [
             0,
             "#0d0887"
            ],
            [
             0.1111111111111111,
             "#46039f"
            ],
            [
             0.2222222222222222,
             "#7201a8"
            ],
            [
             0.3333333333333333,
             "#9c179e"
            ],
            [
             0.4444444444444444,
             "#bd3786"
            ],
            [
             0.5555555555555556,
             "#d8576b"
            ],
            [
             0.6666666666666666,
             "#ed7953"
            ],
            [
             0.7777777777777778,
             "#fb9f3a"
            ],
            [
             0.8888888888888888,
             "#fdca26"
            ],
            [
             1,
             "#f0f921"
            ]
           ],
           "sequentialminus": [
            [
             0,
             "#0d0887"
            ],
            [
             0.1111111111111111,
             "#46039f"
            ],
            [
             0.2222222222222222,
             "#7201a8"
            ],
            [
             0.3333333333333333,
             "#9c179e"
            ],
            [
             0.4444444444444444,
             "#bd3786"
            ],
            [
             0.5555555555555556,
             "#d8576b"
            ],
            [
             0.6666666666666666,
             "#ed7953"
            ],
            [
             0.7777777777777778,
             "#fb9f3a"
            ],
            [
             0.8888888888888888,
             "#fdca26"
            ],
            [
             1,
             "#f0f921"
            ]
           ]
          },
          "colorway": [
           "#636efa",
           "#EF553B",
           "#00cc96",
           "#ab63fa",
           "#FFA15A",
           "#19d3f3",
           "#FF6692",
           "#B6E880",
           "#FF97FF",
           "#FECB52"
          ],
          "font": {
           "color": "#f2f5fa"
          },
          "geo": {
           "bgcolor": "rgb(17,17,17)",
           "lakecolor": "rgb(17,17,17)",
           "landcolor": "rgb(17,17,17)",
           "showlakes": true,
           "showland": true,
           "subunitcolor": "#506784"
          },
          "hoverlabel": {
           "align": "left"
          },
          "hovermode": "closest",
          "mapbox": {
           "style": "dark"
          },
          "paper_bgcolor": "rgb(17,17,17)",
          "plot_bgcolor": "rgb(17,17,17)",
          "polar": {
           "angularaxis": {
            "gridcolor": "#506784",
            "linecolor": "#506784",
            "ticks": ""
           },
           "bgcolor": "rgb(17,17,17)",
           "radialaxis": {
            "gridcolor": "#506784",
            "linecolor": "#506784",
            "ticks": ""
           }
          },
          "scene": {
           "xaxis": {
            "backgroundcolor": "rgb(17,17,17)",
            "gridcolor": "#506784",
            "gridwidth": 2,
            "linecolor": "#506784",
            "showbackground": true,
            "ticks": "",
            "zerolinecolor": "#C8D4E3"
           },
           "yaxis": {
            "backgroundcolor": "rgb(17,17,17)",
            "gridcolor": "#506784",
            "gridwidth": 2,
            "linecolor": "#506784",
            "showbackground": true,
            "ticks": "",
            "zerolinecolor": "#C8D4E3"
           },
           "zaxis": {
            "backgroundcolor": "rgb(17,17,17)",
            "gridcolor": "#506784",
            "gridwidth": 2,
            "linecolor": "#506784",
            "showbackground": true,
            "ticks": "",
            "zerolinecolor": "#C8D4E3"
           }
          },
          "shapedefaults": {
           "line": {
            "color": "#f2f5fa"
           }
          },
          "sliderdefaults": {
           "bgcolor": "#C8D4E3",
           "bordercolor": "rgb(17,17,17)",
           "borderwidth": 1,
           "tickwidth": 0
          },
          "ternary": {
           "aaxis": {
            "gridcolor": "#506784",
            "linecolor": "#506784",
            "ticks": ""
           },
           "baxis": {
            "gridcolor": "#506784",
            "linecolor": "#506784",
            "ticks": ""
           },
           "bgcolor": "rgb(17,17,17)",
           "caxis": {
            "gridcolor": "#506784",
            "linecolor": "#506784",
            "ticks": ""
           }
          },
          "title": {
           "x": 0.05
          },
          "updatemenudefaults": {
           "bgcolor": "#506784",
           "borderwidth": 0
          },
          "xaxis": {
           "automargin": true,
           "gridcolor": "#283442",
           "linecolor": "#506784",
           "ticks": "",
           "title": {
            "standoff": 15
           },
           "zerolinecolor": "#283442",
           "zerolinewidth": 2
          },
          "yaxis": {
           "automargin": true,
           "gridcolor": "#283442",
           "linecolor": "#506784",
           "ticks": "",
           "title": {
            "standoff": 15
           },
           "zerolinecolor": "#283442",
           "zerolinewidth": 2
          }
         }
        },
        "width": 1500,
        "xaxis": {
         "anchor": "y",
         "domain": [
          0,
          0.16799999999999998
         ]
        },
        "xaxis2": {
         "anchor": "y2",
         "domain": [
          0.208,
          0.376
         ]
        },
        "xaxis3": {
         "anchor": "y3",
         "domain": [
          0.416,
          0.584
         ]
        },
        "xaxis4": {
         "anchor": "y4",
         "domain": [
          0.624,
          0.792
         ]
        },
        "xaxis5": {
         "anchor": "y5",
         "domain": [
          0.832,
          1
         ]
        },
        "yaxis": {
         "anchor": "x",
         "domain": [
          0,
          1
         ]
        },
        "yaxis2": {
         "anchor": "x2",
         "domain": [
          0,
          1
         ]
        },
        "yaxis3": {
         "anchor": "x3",
         "domain": [
          0,
          1
         ]
        },
        "yaxis4": {
         "anchor": "x4",
         "domain": [
          0,
          1
         ]
        },
        "yaxis5": {
         "anchor": "x5",
         "domain": [
          0,
          1
         ]
        }
       }
      }
     },
     "metadata": {},
     "output_type": "display_data"
    }
   ],
   "source": [
    "_df = df[[\"color\",\"payment\",\"pickup_borough\",\"total\"]]\n",
    "_df\n",
    "# _=pls.plot_stacked_bars(_df[[\"color\",\"payment\",\"total\"]],)\n",
    "tbl.describe_df(_df, \"taxis\")"
   ]
  },
  {
   "cell_type": "code",
   "execution_count": 101,
   "metadata": {},
   "outputs": [
    {
     "name": "stdout",
     "output_type": "stream",
     "text": [
      "🗄️ taxis\t6_433, 14\n",
      "\t(\"pickup, dropoff, passengers, distance, fare, tip, tolls, total, color, payment, pickup_zone, dropoff_zone, pickup_borough, dropoff_borough\")\n",
      "┌─────────────────────┬─────────────────────┬────────────┬──────────┬────────┬────────┬────────┬────────┬─────────┬─────────────┬───────────────────────┬───────────────────────┬────────────────┬─────────────────┐\n",
      "│       pickup        │       dropoff       │ passengers │ distance │  fare  │  tip   │ tolls  │ total  │  color  │   payment   │      pickup_zone      │     dropoff_zone      │ pickup_borough │ dropoff_borough │\n",
      "│    timestamp_ns     │    timestamp_ns     │   int64    │  double  │ double │ double │ double │ double │ varchar │   varchar   │        varchar        │        varchar        │    varchar     │     varchar     │\n",
      "├─────────────────────┼─────────────────────┼────────────┼──────────┼────────┼────────┼────────┼────────┼─────────┼─────────────┼───────────────────────┼───────────────────────┼────────────────┼─────────────────┤\n",
      "│ 2019-03-23 20:21:09 │ 2019-03-23 20:27:24 │          1 │      1.6 │    7.0 │   2.15 │    0.0 │  12.95 │ yellow  │ credit card │ Lenox Hill West       │ UN/Turtle Bay South   │ Manhattan      │ Manhattan       │\n",
      "│ 2019-03-04 16:11:55 │ 2019-03-04 16:19:00 │          1 │     0.79 │    5.0 │    0.0 │    0.0 │    9.3 │ yellow  │ cash        │ Upper West Side South │ Upper West Side South │ Manhattan      │ Manhattan       │\n",
      "│ 2019-03-27 17:53:01 │ 2019-03-27 18:00:25 │          1 │     1.37 │    7.5 │   2.36 │    0.0 │  14.16 │ yellow  │ credit card │ Alphabet City         │ West Village          │ Manhattan      │ Manhattan       │\n",
      "└─────────────────────┴─────────────────────┴────────────┴──────────┴────────┴────────┴────────┴────────┴─────────┴─────────────┴───────────────────────┴───────────────────────┴────────────────┴─────────────────┘\n",
      "\n"
     ]
    }
   ],
   "source": [
    "db = con.from_df(df)\n",
    "tbl.descr_db(db, caption=\"taxis\",)"
   ]
  },
  {
   "cell_type": "markdown",
   "metadata": {},
   "source": [
    "## show num"
   ]
  },
  {
   "cell_type": "code",
   "execution_count": 102,
   "metadata": {},
   "outputs": [
    {
     "data": {
      "text/html": [
       "<style type=\"text/css\">\n",
       "#T_b66cf th {\n",
       "  text-align: right;\n",
       "  font-size: 14pt;\n",
       "}\n",
       "#T_b66cf td {\n",
       "  text-align: right;\n",
       "  font-size: 12pt;\n",
       "}\n",
       "#T_b66cf_row0_col0 {\n",
       "  font-family: Courier;\n",
       "  background-color: #170f09;\n",
       "  color: #f1f1f1;\n",
       "}\n",
       "#T_b66cf_row0_col1 {\n",
       "  font-family: Courier;\n",
       "  background-color: #3a2517;\n",
       "  color: #f1f1f1;\n",
       "}\n",
       "#T_b66cf_row0_col2 {\n",
       "  font-family: Courier;\n",
       "  background-color: #000000;\n",
       "  color: #f1f1f1;\n",
       "}\n",
       "#T_b66cf_row0_col3, #T_b66cf_row1_col3 {\n",
       "  font-family: Courier;\n",
       "}\n",
       "#T_b66cf_row1_col0 {\n",
       "  font-family: Courier;\n",
       "  background-color: #654029;\n",
       "  color: #f1f1f1;\n",
       "}\n",
       "#T_b66cf_row1_col1 {\n",
       "  font-family: Courier;\n",
       "  background-color: #ffc77f;\n",
       "  color: #000000;\n",
       "}\n",
       "#T_b66cf_row1_col2 {\n",
       "  font-family: Courier;\n",
       "  background-color: #020201;\n",
       "  color: #f1f1f1;\n",
       "}\n",
       "</style>\n",
       "<table id=\"T_b66cf\">\n",
       "  <thead>\n",
       "    <tr>\n",
       "      <th class=\"index_name level0\" >payment</th>\n",
       "      <th id=\"T_b66cf_level0_col0\" class=\"col_heading level0 col0\" >cash</th>\n",
       "      <th id=\"T_b66cf_level0_col1\" class=\"col_heading level0 col1\" >credit card</th>\n",
       "      <th id=\"T_b66cf_level0_col2\" class=\"col_heading level0 col2\" >nan</th>\n",
       "      <th id=\"T_b66cf_level0_col3\" class=\"col_heading level0 col3\" >Total</th>\n",
       "    </tr>\n",
       "    <tr>\n",
       "      <th class=\"index_name level0\" >color</th>\n",
       "      <th class=\"blank col0\" >&nbsp;</th>\n",
       "      <th class=\"blank col1\" >&nbsp;</th>\n",
       "      <th class=\"blank col2\" >&nbsp;</th>\n",
       "      <th class=\"blank col3\" >&nbsp;</th>\n",
       "    </tr>\n",
       "  </thead>\n",
       "  <tbody>\n",
       "    <tr>\n",
       "      <th id=\"T_b66cf_level0_row0\" class=\"row_heading level0 row0\" >green</th>\n",
       "      <td id=\"T_b66cf_row0_col0\" class=\"data row0 col0\" >3_995 <span style=\"color: yellow\">(4.7%) 🟥</span></td>\n",
       "      <td id=\"T_b66cf_row0_col1\" class=\"data row0 col1\" >9_774 <span style=\"color: yellow\">(11.6%) 🟥</span></td>\n",
       "      <td id=\"T_b66cf_row0_col2\" class=\"data row0 col2\" >20 <span style=\"color: yellow\">(0.0%) 🟩</span></td>\n",
       "      <td id=\"T_b66cf_row0_col3\" class=\"data row0 col3\" >13_788 <span style=\"color: yellow\">(16.4%) 🟥</span></td>\n",
       "    </tr>\n",
       "    <tr>\n",
       "      <th id=\"T_b66cf_level0_row1\" class=\"row_heading level0 row1\" >yellow</th>\n",
       "      <td id=\"T_b66cf_row1_col0\" class=\"data row1 col0\" >17_012 <span style=\"color: yellow\">(20.2%) 🟥</span></td>\n",
       "      <td id=\"T_b66cf_row1_col1\" class=\"data row1 col1\" >52_907 <span style=\"color: yellow\">(62.8%) 🟥</span></td>\n",
       "      <td id=\"T_b66cf_row1_col2\" class=\"data row1 col2\" >508 <span style=\"color: yellow\">(0.6%) 🟨</span></td>\n",
       "      <td id=\"T_b66cf_row1_col3\" class=\"data row1 col3\" >70_427 <span style=\"color: yellow\">(83.6%) 🟥</span></td>\n",
       "    </tr>\n",
       "  </tbody>\n",
       "</table>\n"
      ],
      "text/plain": [
       "<pandas.io.formats.style.Styler at 0x17bcde000>"
      ]
     },
     "execution_count": 102,
     "metadata": {},
     "output_type": "execute_result"
    }
   ],
   "source": [
    "from pathlib import Path\n",
    "\n",
    "_df=df.pivot_table(index=\"color\", columns=\"payment\", values=\"fare\", aggfunc=\"sum\", dropna=False)\n",
    "tbl.show_num_df(\n",
    "    _df,\n",
    "    total_mode=\"sum\",\n",
    "    total_axis=\"y\",\n",
    "    data_bar_axis=\"\",\n",
    "    pct_axis=\"xy\",\n",
    "    precision=0,\n",
    "    heatmap_axis=\"xy\",\n",
    "    # kpi_mode=\"max_min_x\",\n",
    "    total_exclude=True,\n",
    "    # kpi_mode=\"min_max_xy\",\n",
    "    kpi_mode=\"rag_abs\",\n",
    "    kpi_rag_list=(100, 1000),\n",
    "    # swap=True,\n",
    "    font_size_td=12,\n",
    "    font_size_th=14,\n",
    "    # png_path=Path(\"test.png\"),\n",
    ")"
   ]
  },
  {
   "cell_type": "code",
   "execution_count": 103,
   "metadata": {},
   "outputs": [
    {
     "data": {
      "text/html": [
       "<style type=\"text/css\">\n",
       "#T_808d7 th {\n",
       "  text-align: right;\n",
       "}\n",
       "#T_808d7 td {\n",
       "  text-align: right;\n",
       "}\n",
       "#T_808d7_row0_col0 {\n",
       "  width: 10em;\n",
       "  background: linear-gradient(90deg, #666666 0.0%, transparent 0.0%);\n",
       "  font-family: Courier;\n",
       "}\n",
       "#T_808d7_row0_col1 {\n",
       "  width: 10em;\n",
       "  background: linear-gradient(90deg, #666666 4.7%, transparent 4.7%);\n",
       "  font-family: Courier;\n",
       "}\n",
       "#T_808d7_row0_col2 {\n",
       "  width: 10em;\n",
       "  background: linear-gradient(90deg, #666666 11.6%, transparent 11.6%);\n",
       "  font-family: Courier;\n",
       "}\n",
       "#T_808d7_row0_col3 {\n",
       "  width: 10em;\n",
       "  background: linear-gradient(90deg, #666666 16.4%, transparent 16.4%);\n",
       "  font-family: Courier;\n",
       "}\n",
       "#T_808d7_row1_col0, #T_808d7_row2_col0 {\n",
       "  width: 10em;\n",
       "  background: linear-gradient(90deg, #666666 0.6%, transparent 0.6%);\n",
       "  font-family: Courier;\n",
       "}\n",
       "#T_808d7_row1_col1 {\n",
       "  width: 10em;\n",
       "  background: linear-gradient(90deg, #666666 20.2%, transparent 20.2%);\n",
       "  font-family: Courier;\n",
       "}\n",
       "#T_808d7_row1_col2 {\n",
       "  width: 10em;\n",
       "  background: linear-gradient(90deg, #666666 62.8%, transparent 62.8%);\n",
       "  font-family: Courier;\n",
       "}\n",
       "#T_808d7_row1_col3 {\n",
       "  width: 10em;\n",
       "  background: linear-gradient(90deg, #666666 83.6%, transparent 83.6%);\n",
       "  font-family: Courier;\n",
       "}\n",
       "#T_808d7_row2_col1 {\n",
       "  width: 10em;\n",
       "  background: linear-gradient(90deg, #666666 24.9%, transparent 24.9%);\n",
       "  font-family: Courier;\n",
       "}\n",
       "#T_808d7_row2_col2 {\n",
       "  width: 10em;\n",
       "  background: linear-gradient(90deg, #666666 74.4%, transparent 74.4%);\n",
       "  font-family: Courier;\n",
       "}\n",
       "#T_808d7_row2_col3 {\n",
       "  width: 10em;\n",
       "  background: linear-gradient(90deg, #666666 100.0%, transparent 100.0%);\n",
       "  font-family: Courier;\n",
       "}\n",
       "</style>\n",
       "<table id=\"T_808d7\">\n",
       "  <thead>\n",
       "    <tr>\n",
       "      <th class=\"index_name level0\" >payment</th>\n",
       "      <th id=\"T_808d7_level0_col0\" class=\"col_heading level0 col0\" >nan</th>\n",
       "      <th id=\"T_808d7_level0_col1\" class=\"col_heading level0 col1\" >cash</th>\n",
       "      <th id=\"T_808d7_level0_col2\" class=\"col_heading level0 col2\" >credit card</th>\n",
       "      <th id=\"T_808d7_level0_col3\" class=\"col_heading level0 col3\" >Total</th>\n",
       "    </tr>\n",
       "    <tr>\n",
       "      <th class=\"index_name level0\" >color</th>\n",
       "      <th class=\"blank col0\" >&nbsp;</th>\n",
       "      <th class=\"blank col1\" >&nbsp;</th>\n",
       "      <th class=\"blank col2\" >&nbsp;</th>\n",
       "      <th class=\"blank col3\" >&nbsp;</th>\n",
       "    </tr>\n",
       "  </thead>\n",
       "  <tbody>\n",
       "    <tr>\n",
       "      <th id=\"T_808d7_level0_row0\" class=\"row_heading level0 row0\" >green</th>\n",
       "      <td id=\"T_808d7_row0_col0\" class=\"data row0 col0\" >20 <span style=\"color: yellow\">(0.0%) 🟥</span></td>\n",
       "      <td id=\"T_808d7_row0_col1\" class=\"data row0 col1\" >3_995 <span style=\"color: yellow\">(4.7%) 🟥</span></td>\n",
       "      <td id=\"T_808d7_row0_col2\" class=\"data row0 col2\" >9_774 <span style=\"color: yellow\">(11.6%) 🟥</span></td>\n",
       "      <td id=\"T_808d7_row0_col3\" class=\"data row0 col3\" >13_788 <span style=\"color: yellow\">(16.4%) 🟥</span></td>\n",
       "    </tr>\n",
       "    <tr>\n",
       "      <th id=\"T_808d7_level0_row1\" class=\"row_heading level0 row1\" >yellow</th>\n",
       "      <td id=\"T_808d7_row1_col0\" class=\"data row1 col0\" >508 <span style=\"color: yellow\">(0.6%) 🟩</span></td>\n",
       "      <td id=\"T_808d7_row1_col1\" class=\"data row1 col1\" >17_012 <span style=\"color: yellow\">(20.2%) 🟩</span></td>\n",
       "      <td id=\"T_808d7_row1_col2\" class=\"data row1 col2\" >52_907 <span style=\"color: yellow\">(62.8%) 🟩</span></td>\n",
       "      <td id=\"T_808d7_row1_col3\" class=\"data row1 col3\" >70_427 <span style=\"color: yellow\">(83.6%) 🟩</span></td>\n",
       "    </tr>\n",
       "    <tr>\n",
       "      <th id=\"T_808d7_level0_row2\" class=\"row_heading level0 row2\" >Total</th>\n",
       "      <td id=\"T_808d7_row2_col0\" class=\"data row2 col0\" >528 <span style=\"color: yellow\">(0.6%) ⬛</span></td>\n",
       "      <td id=\"T_808d7_row2_col1\" class=\"data row2 col1\" >21_006 <span style=\"color: yellow\">(24.9%) ⬛</span></td>\n",
       "      <td id=\"T_808d7_row2_col2\" class=\"data row2 col2\" >62_681 <span style=\"color: yellow\">(74.4%) ⬛</span></td>\n",
       "      <td id=\"T_808d7_row2_col3\" class=\"data row2 col3\" >84_215 <span style=\"color: yellow\">(100.0%) ⬛</span></td>\n",
       "    </tr>\n",
       "  </tbody>\n",
       "</table>\n"
      ],
      "text/plain": [
       "<pandas.io.formats.style.Styler at 0x17bd27fb0>"
      ]
     },
     "execution_count": 103,
     "metadata": {},
     "output_type": "execute_result"
    }
   ],
   "source": [
    "_df=df[[\"color\", \"payment\", \"fare\"]]\n",
    "tbl.pivot_df(\n",
    "    _df,\n",
    "    total_mode=\"sum\",\n",
    "    data_bar_axis=\"xy\",\n",
    "    pct_axis=\"xy\",\n",
    "    precision=0,\n",
    "    heatmap_axis=\"\",\n",
    "    kpi_mode=\"max_min_x\"\n",
    "    # kpi_mode=\"min_max_xy\",\n",
    "    # kpi_mode=\"rag_abs\",\n",
    "    # kpi_rag_list=(100, 1000),\n",
    ")"
   ]
  },
  {
   "cell_type": "code",
   "execution_count": 104,
   "metadata": {},
   "outputs": [
    {
     "data": {
      "text/html": [
       "<style type=\"text/css\">\n",
       "#T_21e73 th {\n",
       "  text-align: right;\n",
       "}\n",
       "#T_21e73 td {\n",
       "  text-align: right;\n",
       "}\n",
       "#T_21e73_row0_col0 {\n",
       "  width: 10em;\n",
       "  background: linear-gradient(90deg, #666666 11.7%, transparent 11.7%);\n",
       "  font-family: Courier;\n",
       "}\n",
       "#T_21e73_row0_col1 {\n",
       "  width: 10em;\n",
       "  background: linear-gradient(90deg, #666666 12.6%, transparent 12.6%);\n",
       "  font-family: Courier;\n",
       "}\n",
       "#T_21e73_row0_col2 {\n",
       "  width: 10em;\n",
       "  background: linear-gradient(90deg, #666666 18.3%, transparent 18.3%);\n",
       "  font-family: Courier;\n",
       "}\n",
       "#T_21e73_row0_col3, #T_21e73_row1_col2, #T_21e73_row1_col3, #T_21e73_row2_col3, #T_21e73_row3_col3, #T_21e73_row4_col3, #T_21e73_row5_col3 {\n",
       "  width: 10em;\n",
       "  font-family: Courier;\n",
       "}\n",
       "#T_21e73_row0_col4 {\n",
       "  width: 10em;\n",
       "  background: linear-gradient(90deg, #666666 13.3%, transparent 13.3%);\n",
       "  font-family: Courier;\n",
       "}\n",
       "#T_21e73_row1_col0 {\n",
       "  width: 10em;\n",
       "  background: linear-gradient(90deg, #666666 5.8%, transparent 5.8%);\n",
       "  font-family: Courier;\n",
       "}\n",
       "#T_21e73_row1_col1 {\n",
       "  width: 10em;\n",
       "  background: linear-gradient(90deg, #666666 9.0%, transparent 9.0%);\n",
       "  font-family: Courier;\n",
       "}\n",
       "#T_21e73_row1_col4 {\n",
       "  width: 10em;\n",
       "  background: linear-gradient(90deg, #666666 7.2%, transparent 7.2%);\n",
       "  font-family: Courier;\n",
       "}\n",
       "#T_21e73_row2_col0 {\n",
       "  width: 10em;\n",
       "  background: linear-gradient(90deg, #666666 10.1%, transparent 10.1%);\n",
       "  font-family: Courier;\n",
       "}\n",
       "#T_21e73_row2_col1 {\n",
       "  width: 10em;\n",
       "  background: linear-gradient(90deg, #666666 13.5%, transparent 13.5%);\n",
       "  font-family: Courier;\n",
       "}\n",
       "#T_21e73_row2_col2 {\n",
       "  width: 10em;\n",
       "  background: linear-gradient(90deg, #666666 20.1%, transparent 20.1%);\n",
       "  font-family: Courier;\n",
       "}\n",
       "#T_21e73_row2_col4 {\n",
       "  width: 10em;\n",
       "  background: linear-gradient(90deg, #666666 13.9%, transparent 13.9%);\n",
       "  font-family: Courier;\n",
       "}\n",
       "#T_21e73_row3_col0 {\n",
       "  width: 10em;\n",
       "  background: linear-gradient(90deg, #666666 56.5%, transparent 56.5%);\n",
       "  font-family: Courier;\n",
       "}\n",
       "#T_21e73_row3_col1 {\n",
       "  width: 10em;\n",
       "  background: linear-gradient(90deg, #666666 48.6%, transparent 48.6%);\n",
       "  font-family: Courier;\n",
       "}\n",
       "#T_21e73_row3_col2 {\n",
       "  width: 10em;\n",
       "  background: linear-gradient(90deg, #666666 52.3%, transparent 52.3%);\n",
       "  font-family: Courier;\n",
       "}\n",
       "#T_21e73_row3_col4 {\n",
       "  width: 10em;\n",
       "  background: linear-gradient(90deg, #666666 50.5%, transparent 50.5%);\n",
       "  font-family: Courier;\n",
       "}\n",
       "#T_21e73_row4_col0 {\n",
       "  width: 10em;\n",
       "  background: linear-gradient(90deg, #666666 15.9%, transparent 15.9%);\n",
       "  font-family: Courier;\n",
       "}\n",
       "#T_21e73_row4_col1 {\n",
       "  width: 10em;\n",
       "  background: linear-gradient(90deg, #666666 16.2%, transparent 16.2%);\n",
       "  font-family: Courier;\n",
       "}\n",
       "#T_21e73_row4_col2 {\n",
       "  width: 10em;\n",
       "  background: linear-gradient(90deg, #666666 9.4%, transparent 9.4%);\n",
       "  font-family: Courier;\n",
       "}\n",
       "#T_21e73_row4_col4 {\n",
       "  width: 10em;\n",
       "  background: linear-gradient(90deg, #666666 15.2%, transparent 15.2%);\n",
       "  font-family: Courier;\n",
       "}\n",
       "#T_21e73_row5_col0, #T_21e73_row5_col1, #T_21e73_row5_col2, #T_21e73_row5_col4 {\n",
       "  width: 10em;\n",
       "  background: linear-gradient(90deg, #666666 100.0%, transparent 100.0%);\n",
       "  font-family: Courier;\n",
       "}\n",
       "</style>\n",
       "<table id=\"T_21e73\">\n",
       "  <thead>\n",
       "    <tr>\n",
       "      <th class=\"blank level0\" >&nbsp;</th>\n",
       "      <th id=\"T_21e73_level0_col0\" class=\"col_heading level0 col0\" >distance</th>\n",
       "      <th id=\"T_21e73_level0_col1\" class=\"col_heading level0 col1\" >fare</th>\n",
       "      <th id=\"T_21e73_level0_col2\" class=\"col_heading level0 col2\" >tip</th>\n",
       "      <th id=\"T_21e73_level0_col3\" class=\"col_heading level0 col3\" >tolls</th>\n",
       "      <th id=\"T_21e73_level0_col4\" class=\"col_heading level0 col4\" >Total</th>\n",
       "    </tr>\n",
       "  </thead>\n",
       "  <tbody>\n",
       "    <tr>\n",
       "      <th id=\"T_21e73_level0_row0\" class=\"row_heading level0 row0\" >0</th>\n",
       "      <td id=\"T_21e73_row0_col0\" class=\"data row0 col0\" >1.600 <span style=\"color: yellow\">(2.0%) </span></td>\n",
       "      <td id=\"T_21e73_row0_col1\" class=\"data row0 col1\" >7.000 <span style=\"color: yellow\">(8.7%) </span></td>\n",
       "      <td id=\"T_21e73_row0_col2\" class=\"data row0 col2\" >2.150 <span style=\"color: yellow\">(2.7%) </span></td>\n",
       "      <td id=\"T_21e73_row0_col3\" class=\"data row0 col3\" ><span style=\"color: grey\">0 </span></td>\n",
       "      <td id=\"T_21e73_row0_col4\" class=\"data row0 col4\" >10.750 <span style=\"color: yellow\">(13.3%) </span></td>\n",
       "    </tr>\n",
       "    <tr>\n",
       "      <th id=\"T_21e73_level0_row1\" class=\"row_heading level0 row1\" >1</th>\n",
       "      <td id=\"T_21e73_row1_col0\" class=\"data row1 col0\" >0.790 <span style=\"color: yellow\">(1.0%) </span></td>\n",
       "      <td id=\"T_21e73_row1_col1\" class=\"data row1 col1\" >5.000 <span style=\"color: yellow\">(6.2%) </span></td>\n",
       "      <td id=\"T_21e73_row1_col2\" class=\"data row1 col2\" ><span style=\"color: grey\">0 </span></td>\n",
       "      <td id=\"T_21e73_row1_col3\" class=\"data row1 col3\" ><span style=\"color: grey\">0 </span></td>\n",
       "      <td id=\"T_21e73_row1_col4\" class=\"data row1 col4\" >5.790 <span style=\"color: yellow\">(7.2%) </span></td>\n",
       "    </tr>\n",
       "    <tr>\n",
       "      <th id=\"T_21e73_level0_row2\" class=\"row_heading level0 row2\" >2</th>\n",
       "      <td id=\"T_21e73_row2_col0\" class=\"data row2 col0\" >1.370 <span style=\"color: yellow\">(1.7%) </span></td>\n",
       "      <td id=\"T_21e73_row2_col1\" class=\"data row2 col1\" >7.500 <span style=\"color: yellow\">(9.3%) </span></td>\n",
       "      <td id=\"T_21e73_row2_col2\" class=\"data row2 col2\" >2.360 <span style=\"color: yellow\">(2.9%) </span></td>\n",
       "      <td id=\"T_21e73_row2_col3\" class=\"data row2 col3\" ><span style=\"color: grey\">0 </span></td>\n",
       "      <td id=\"T_21e73_row2_col4\" class=\"data row2 col4\" >11.230 <span style=\"color: yellow\">(13.9%) </span></td>\n",
       "    </tr>\n",
       "    <tr>\n",
       "      <th id=\"T_21e73_level0_row3\" class=\"row_heading level0 row3\" >3</th>\n",
       "      <td id=\"T_21e73_row3_col0\" class=\"data row3 col0\" >7.700 <span style=\"color: yellow\">(9.5%) </span></td>\n",
       "      <td id=\"T_21e73_row3_col1\" class=\"data row3 col1\" >27.000 <span style=\"color: yellow\">(33.4%) </span></td>\n",
       "      <td id=\"T_21e73_row3_col2\" class=\"data row3 col2\" >6.150 <span style=\"color: yellow\">(7.6%) </span></td>\n",
       "      <td id=\"T_21e73_row3_col3\" class=\"data row3 col3\" ><span style=\"color: grey\">0 </span></td>\n",
       "      <td id=\"T_21e73_row3_col4\" class=\"data row3 col4\" >40.850 <span style=\"color: yellow\">(50.5%) </span></td>\n",
       "    </tr>\n",
       "    <tr>\n",
       "      <th id=\"T_21e73_level0_row4\" class=\"row_heading level0 row4\" >4</th>\n",
       "      <td id=\"T_21e73_row4_col0\" class=\"data row4 col0\" >2.160 <span style=\"color: yellow\">(2.7%) </span></td>\n",
       "      <td id=\"T_21e73_row4_col1\" class=\"data row4 col1\" >9.000 <span style=\"color: yellow\">(11.1%) </span></td>\n",
       "      <td id=\"T_21e73_row4_col2\" class=\"data row4 col2\" >1.100 <span style=\"color: yellow\">(1.4%) </span></td>\n",
       "      <td id=\"T_21e73_row4_col3\" class=\"data row4 col3\" ><span style=\"color: grey\">0 </span></td>\n",
       "      <td id=\"T_21e73_row4_col4\" class=\"data row4 col4\" >12.260 <span style=\"color: yellow\">(15.2%) </span></td>\n",
       "    </tr>\n",
       "    <tr>\n",
       "      <th id=\"T_21e73_level0_row5\" class=\"row_heading level0 row5\" >Total</th>\n",
       "      <td id=\"T_21e73_row5_col0\" class=\"data row5 col0\" >13.620 <span style=\"color: yellow\">(16.8%) </span></td>\n",
       "      <td id=\"T_21e73_row5_col1\" class=\"data row5 col1\" >55.500 <span style=\"color: yellow\">(68.6%) </span></td>\n",
       "      <td id=\"T_21e73_row5_col2\" class=\"data row5 col2\" >11.760 <span style=\"color: yellow\">(14.5%) </span></td>\n",
       "      <td id=\"T_21e73_row5_col3\" class=\"data row5 col3\" ><span style=\"color: grey\">0 </span></td>\n",
       "      <td id=\"T_21e73_row5_col4\" class=\"data row5 col4\" >80.880 <span style=\"color: yellow\">(100.0%) </span></td>\n",
       "    </tr>\n",
       "  </tbody>\n",
       "</table>\n"
      ],
      "text/plain": [
       "<pandas.io.formats.style.Styler at 0x17bcf7ef0>"
      ]
     },
     "execution_count": 104,
     "metadata": {},
     "output_type": "execute_result"
    }
   ],
   "source": [
    "_df = df[[\"distance\", \"fare\", \"tip\", \"tolls\"]][:5]\n",
    "tbl.show_num_df(\n",
    "    _df,\n",
    "    data_bar_axis=\"x\",\n",
    "    pct_axis=\"xy\",\n",
    "    precision=3,\n",
    "    total_mode=\"sum\",\n",
    ")\n",
    "# _df['distance'].mean()"
   ]
  },
  {
   "cell_type": "markdown",
   "metadata": {},
   "source": [
    "## venn"
   ]
  },
  {
   "cell_type": "code",
   "execution_count": 105,
   "metadata": {},
   "outputs": [
    {
     "name": "stdout",
     "output_type": "stream",
     "text": [
      "ab --> cars1 | cars2 --> len: 7\n"
     ]
    },
    {
     "data": {
      "image/png": "[encoded data removed]",
      "text/plain": [
       "<Figure size 800x800 with 1 Axes>"
      ]
     },
     "metadata": {},
     "output_type": "display_data"
    }
   ],
   "source": [
    "set_a = {'ford','ferrari','mercedes', 'bmw'}\n",
    "set_b = {'opel','bmw','bentley','audi'}\n",
    "_df, _details = ven.show_venn2(\n",
    "    title=\"taxis\",\n",
    "    a_set=set_a,\n",
    "    a_label=\"cars1\",\n",
    "    b_set=set_b,\n",
    "    b_label=\"cars2\",\n",
    "    verbose=0,\n",
    "    size=8,\n",
    ")"
   ]
  },
  {
   "cell_type": "code",
   "execution_count": 106,
   "metadata": {},
   "outputs": [
    {
     "name": "stdout",
     "output_type": "stream",
     "text": [
      "abc --> cars1 | cars2 | cars3 --> len: 11\n",
      "ab --> cars1 | cars2 --> len: 7\n",
      "ac --> cars1 | cars3 --> len: 8\n",
      "bc --> cars2 | cars3 --> len: 9\n"
     ]
    },
    {
     "data": {
      "image/png": "[encoded data removed]",
      "text/plain": [
       "<Figure size 800x800 with 1 Axes>"
      ]
     },
     "metadata": {},
     "output_type": "display_data"
    }
   ],
   "source": [
    "set_a = {'ford','ferrari','mercedes', 'bmw'}\n",
    "set_b = {'opel','bmw','bentley','audi'}\n",
    "set_c = {'ferrari','bmw','chrysler','renault','peugeot','fiat'}\n",
    "_df, _details = ven.show_venn3(\n",
    "    title=\"taxis\",\n",
    "    a_set=set_a,\n",
    "    a_label=\"cars1\",\n",
    "    b_set=set_b,\n",
    "    b_label=\"cars2\",\n",
    "    c_set=set_c,\n",
    "    c_label=\"cars3\",\n",
    "    verbose=0,\n",
    "    size=8,\n",
    ")"
   ]
  },
  {
   "cell_type": "markdown",
   "metadata": {},
   "source": [
    "## hlp"
   ]
  },
  {
   "cell_type": "code",
   "execution_count": 107,
   "metadata": {},
   "outputs": [
    {
     "data": {
      "text/plain": [
       "0      2019-03-23 20:21:09\n",
       "1      2019-03-04 16:11:55\n",
       "2      2019-03-27 17:53:01\n",
       "3      2019-03-10 01:23:59\n",
       "4      2019-03-30 13:27:42\n",
       "               ...        \n",
       "6428   2019-03-31 09:51:53\n",
       "6429   2019-03-31 17:38:00\n",
       "6430   2019-03-23 22:55:18\n",
       "6431   2019-03-04 10:09:25\n",
       "6432   2019-03-13 19:31:22\n",
       "Name: pickup, Length: 6433, dtype: datetime64[ns]"
      ]
     },
     "execution_count": 107,
     "metadata": {},
     "output_type": "execute_result"
    }
   ],
   "source": [
    "df.pickup.to_series()"
   ]
  },
  {
   "cell_type": "code",
   "execution_count": 108,
   "metadata": {},
   "outputs": [
    {
     "name": "stdout",
     "output_type": "stream",
     "text": [
      "pat\n",
      "┌──────────────────────────────────────┬─────────┬────────┬─────────┬────────────┬──────────────┬──────────────────────────┬──────────────────┬──────────────────────────────┐\n",
      "│               z_pat_id               │  z_sex  │ z_age  │ z_ag05  │ Verstorben │ Geburtsdatum │ Geburtsdatum_Genauigkeit │ DatumVitalStatus │ DatumVitalStatus_Genauigkeit │\n",
      "│               varchar                │ varchar │ double │ varchar │  varchar   │     date     │         varchar          │       date       │           varchar            │\n",
      "├──────────────────────────────────────┼─────────┼────────┼─────────┼────────────┼──────────────┼──────────────────────────┼──────────────────┼──────────────────────────────┤\n",
      "│ 450b0462-3c82-411a-ab33-9ed13286a58d │ W       │  83.25 │ a80b84  │ N          │ 1939-12-15   │ T                        │ 2023-06-15       │ T                            │\n",
      "└──────────────────────────────────────┴─────────┴────────┴─────────┴────────────┴──────────────┴──────────────────────────┴──────────────────┴──────────────────────────────┘\n",
      "\n",
      "tod\n",
      "┌────────────────┬─────────┬─────────┬───────────────┐\n",
      "│ TodesursacheId │  Code   │ Version │ IsGrundleiden │\n",
      "│    varchar     │ varchar │ varchar │    boolean    │\n",
      "├────────────────┴─────────┴─────────┴───────────────┤\n",
      "│                       0 rows                       │\n",
      "└────────────────────────────────────────────────────┘\n",
      "\n",
      "tum1\n",
      "┌─────────────┬─────────┬───────────────┬───────────────────────────┬────────────────┬────────────────┬────────────────┬────────────────┬───────────────────┬──────────────────────────────┐\n",
      "│ z_kkr_label │ z_icd10 │ Diagnosedatum │ Diagnosedatum_Genauigkeit │ z_tum_op_count │ z_tum_st_count │ z_tum_sy_count │ z_tum_fo_count │ z_first_treatment │ z_first_treatment_after_days │\n",
      "│   varchar   │ varchar │     date      │          varchar          │     int16      │     int16      │     int16      │     int16      │      varchar      │            int32             │\n",
      "├─────────────┼─────────┼───────────────┼───────────────────────────┼────────────────┼────────────────┼────────────────┼────────────────┼───────────────────┼──────────────────────────────┤\n",
      "│ 15-ST       │ C44.2   │ 2023-03-15    │ T                         │              5 │              0 │              0 │              5 │ op                │                            0 │\n",
      "└─────────────┴─────────┴───────────────┴───────────────────────────┴────────────────┴────────────────┴────────────────┴────────────────┴───────────────────┴──────────────────────────────┘\n",
      "\n",
      "tum2\n",
      "┌───────────────────┬──────────┬──────────────────────────┬─────────────────────────┬──────────┬───────────────────────┬──────────────────────────────┬─────────────┬─────────────┐\n",
      "│   z_event_order   │ z_events │ Anzahl_Tage_Diagnose_Tod │ z_period_diag_death_day │ DatumPSA │ z_period_diag_psa_day │      z_last_tum_status       │ z_class_hpv │ z_tum_order │\n",
      "│      varchar      │ varchar  │          int32           │          int32          │   date   │         int64         │           varchar            │   varchar   │    int8     │\n",
      "├───────────────────┼──────────┼──────────────────────────┼─────────────────────────┼──────────┼───────────────────────┼──────────────────────────────┼─────────────┼─────────────┤\n",
      "│ op-fo-op-fo-op-fo │ op|fo    │                     NULL │                    NULL │ NULL     │                  NULL │ V - Vollremission (complete) │ NULL        │           5 │\n",
      "└───────────────────┴──────────┴──────────────────────────┴─────────────────────────┴──────────┴───────────────────────┴──────────────────────────────┴─────────────┴─────────────┘\n",
      "\n",
      "op\n",
      "┌──────────────────────────────────────┬───────────┬───────────────────────────────────┬─────────────────────────┬────────────┬──────────────────────┬──────────────────────┬────────────┐\n",
      "│                 OPId                 │ Intention │ Lokale_Beurteilung_Residualstatus │ Anzahl_Tage_Diagnose_OP │  Datum_OP  │ Datum_OP_Genauigkeit │ z_period_diag_op_day │ z_op_order │\n",
      "│               varchar                │  varchar  │              varchar              │          int32          │    date    │       varchar        │        int32         │   int64    │\n",
      "├──────────────────────────────────────┼───────────┼───────────────────────────────────┼─────────────────────────┼────────────┼──────────────────────┼──────────────────────┼────────────┤\n",
      "│ b9336bec-c334-412d-93b5-79b8b23fba90 │ K         │ R1                                │                       0 │ 2023-03-15 │ T                    │                    0 │          1 │\n",
      "│ 17ed629d-0f14-4dbe-9d88-610ab6b2a291 │ K         │ R1                                │                       1 │ 2023-03-15 │ T                    │                    1 │          2 │\n",
      "│ da08a401-df47-4ae5-bfbc-67790d50bdfc │ K         │ R1                                │                      29 │ 2023-04-15 │ T                    │                   29 │          3 │\n",
      "│ a6b2e505-5d59-460c-a271-eafa9e392f18 │ K         │ R1                                │                      50 │ 2023-05-15 │ T                    │                   50 │          4 │\n",
      "│ ab1e8069-adf8-46aa-adcc-a4ffb8c00b75 │ K         │ R0                                │                      78 │ 2023-06-15 │ T                    │                   78 │          5 │\n",
      "└──────────────────────────────────────┴───────────┴───────────────────────────────────┴─────────────────────────┴────────────┴──────────────────────┴──────────────────────┴────────────┘\n",
      "\n",
      "ops\n",
      "┌──────────────────────────────────────┬──────────┬─────────┬──────────────────────────────────────┐\n",
      "│                OPSId                 │   Code   │ Version │               OP_TypId               │\n",
      "│               varchar                │ varchar  │ varchar │               varchar                │\n",
      "├──────────────────────────────────────┼──────────┼─────────┼──────────────────────────────────────┤\n",
      "│ 52be54a2-a0a2-4ba9-a907-1d59506d9f5e │ 5-182.0  │ 2023    │ ab1e8069-adf8-46aa-adcc-a4ffb8c00b75 │\n",
      "│ 6910a319-976a-4749-af8a-85f12864c473 │ 5-925.24 │ 2023    │ ab1e8069-adf8-46aa-adcc-a4ffb8c00b75 │\n",
      "│ 1081731c-9595-41ac-9f31-90c1117fe47c │ 5-181.1  │ 2023    │ da08a401-df47-4ae5-bfbc-67790d50bdfc │\n",
      "│ 93f1b8fe-df4f-4ab6-be4d-b0e217776797 │ 5-903.54 │ 2023    │ 17ed629d-0f14-4dbe-9d88-610ab6b2a291 │\n",
      "│ 48e2ac46-268f-4cd3-9773-372f176a5afd │ 5-182.1  │ 2023    │ a6b2e505-5d59-460c-a271-eafa9e392f18 │\n",
      "│ cb135ccc-7c90-4658-8a28-48d0e2bd830d │ 5-181.1  │ 2023    │ b9336bec-c334-412d-93b5-79b8b23fba90 │\n",
      "│ 741c8ace-2bdd-4c40-a5b5-e3fac0a8c60b │ 5-181.4  │ 2023    │ 17ed629d-0f14-4dbe-9d88-610ab6b2a291 │\n",
      "│ f58dd5f5-fd6c-481a-9fd7-069e6b0a99b2 │ 5-916.74 │ 2023    │ b9336bec-c334-412d-93b5-79b8b23fba90 │\n",
      "└──────────────────────────────────────┴──────────┴─────────┴──────────────────────────────────────┘\n",
      "\n",
      "st\n",
      "┌─────────┬───────────┬─────────────┐\n",
      "│  STId   │ Intention │ Stellung_OP │\n",
      "│ varchar │  varchar  │   varchar   │\n",
      "├─────────┴───────────┴─────────────┤\n",
      "│              0 rows               │\n",
      "└───────────────────────────────────┘\n",
      "\n",
      "be\n",
      "┌───────────────┬─────────────────────────┬──────────────────────┬──────────────────────────┬──────────────────────────────────────┬─────────┬─────────────────────────┬───────────────┐\n",
      "│ BestrahlungId │ Anzahl_Tage_Diagnose_ST │ Anzahl_Tage_ST_Dauer │ Datum_Beginn_Bestrahlung │ Datum_Beginn_Bestrahlung_Genauigkeit │  STId   │ z_period_diag_bestr_day │ z_bestr_order │\n",
      "│    varchar    │          int32          │        int32         │           date           │               varchar                │ varchar │          int32          │     int64     │\n",
      "├───────────────┴─────────────────────────┴──────────────────────┴──────────────────────────┴──────────────────────────────────────┴─────────┴─────────────────────────┴───────────────┤\n",
      "│                                                                                        0 rows                                                                                        │\n",
      "└──────────────────────────────────────────────────────────────────────────────────────────────────────────────────────────────────────────────────────────────────────────────────────┘\n",
      "\n",
      "app\n",
      "┌───────────────┬────────────────────────────────────────┬──────────────────┬────────────────────────────┬───────────┬─────────────────┬────────────┬────────────────┬────────────────┬─────────────────┬─────────────────┐\n",
      "│ BestrahlungId │ TypeOfST_TypBestrahlungApplikationsart │ Seite_Zielgebiet │ Interstitiell_endokavitaer │ Rate_Type │ Metabolisch_Typ │ Radiochemo │ Stereotaktisch │ Atemgetriggert │ CodeVersion2014 │ CodeVersion2021 │\n",
      "│    varchar    │                varchar                 │     varchar      │          varchar           │  varchar  │     varchar     │  varchar   │    varchar     │    varchar     │     varchar     │     varchar     │\n",
      "├───────────────┴────────────────────────────────────────┴──────────────────┴────────────────────────────┴───────────┴─────────────────┴────────────┴────────────────┴────────────────┴─────────────────┴─────────────────┤\n",
      "│                                                                                                         0 rows                                                                                                          │\n",
      "└─────────────────────────────────────────────────────────────────────────────────────────────────────────────────────────────────────────────────────────────────────────────────────────────────────────────────────────┘\n",
      "\n",
      "syst\n",
      "┌─────────┬───────────┬─────────────┬─────────────┬───────────────────────────┬────────────────────────┬───────────────────┬───────────────────────────────┬────────────────────────┬──────────────┐\n",
      "│ SYSTId  │ Intention │ Stellung_OP │ Therapieart │ Anzahl_Tage_Diagnose_SYST │ Anzahl_Tage_SYST_Dauer │ Datum_Beginn_SYST │ Datum_Beginn_SYST_Genauigkeit │ z_period_diag_syst_day │ z_syst_order │\n",
      "│ varchar │  varchar  │   varchar   │   varchar   │           int32           │         int32          │       date        │            varchar            │         int32          │    int64     │\n",
      "├─────────┴───────────┴─────────────┴─────────────┴───────────────────────────┴────────────────────────┴───────────────────┴───────────────────────────────┴────────────────────────┴──────────────┤\n",
      "│                                                                                              0 rows                                                                                              │\n",
      "└──────────────────────────────────────────────────────────────────────────────────────────────────────────────────────────────────────────────────────────────────────────────────────────────────┘\n",
      "\n",
      "fo\n",
      "┌──────────────────────────────────────┬───────────────────────────────┬─────────────────────────────┬─────────────────────────────────┬────────────────────────────────────┬─────────────────────┬─────────────────────────────────┬────────────┬──────────────────────┐\n",
      "│           FolgeereignisId            │ Gesamtbeurteilung_Tumorstatus │ Verlauf_Lokaler_Tumorstatus │ Verlauf_Tumorstatus_Lymphknoten │ Verlauf_Tumorstatus_Fernmetastasen │ Datum_Folgeereignis │ Datum_Folgeereignis_Genauigkeit │ z_fo_order │ z_period_diag_fo_day │\n",
      "│               varchar                │            varchar            │           varchar           │             varchar             │              varchar               │        date         │             varchar             │   int64    │        int32         │\n",
      "├──────────────────────────────────────┼───────────────────────────────┼─────────────────────────────┼─────────────────────────────────┼────────────────────────────────────┼─────────────────────┼─────────────────────────────────┼────────────┼──────────────────────┤\n",
      "│ 1e58d32d-06a5-4a06-bb2c-1aebe34eebf0 │ T                             │ T                           │ K                               │ K                                  │ 2023-03-15          │ T                               │          1 │                    0 │\n",
      "│ fbd74efe-266c-430c-90af-35d0627a6039 │ T                             │ T                           │ K                               │ K                                  │ 2023-03-15          │ T                               │          2 │                    0 │\n",
      "│ 13a7ccd4-9133-409d-a7fb-479162ca06ad │ T                             │ T                           │ K                               │ K                                  │ 2023-04-15          │ T                               │          3 │                   31 │\n",
      "│ 04ed157d-787b-419a-b563-b10b51cae6c6 │ X                             │ NULL                        │ NULL                            │ NULL                               │ 2023-04-15          │ T                               │          4 │                   31 │\n",
      "│ 927c89f6-d53e-4783-bebc-2e1d75dc66e0 │ V                             │ K                           │ K                               │ K                                  │ 2023-06-15          │ T                               │          5 │                   92 │\n",
      "└──────────────────────────────────────┴───────────────────────────────┴─────────────────────────────┴─────────────────────────────────┴────────────────────────────────────┴─────────────────────┴─────────────────────────────────┴────────────┴──────────────────────┘\n",
      "\n",
      "fo_tnm\n",
      "┌──────────────────────────────────────┬──────────────────────────────────────┬─────────┬──────────┬──────────┬──────────┬─────────────────┬─────────┬──────────────┬─────────────────┬─────────┬─────────────────┬─────────┬─────────┬─────────┬─────────┬─────────┬──────────────┐\n",
      "│                TNMId                 │           FolgeereignisId            │ Version │ y_Symbol │ r_Symbol │ a_Symbol │ c_p_u_Praefix_T │    T    │ TNM_m_Symbol │ c_p_u_Praefix_N │    N    │ c_p_u_Praefix_M │    M    │    L    │    V    │   Pn    │    S    │ UICC_Stadium │\n",
      "│               varchar                │               varchar                │ varchar │ varchar  │ varchar  │ varchar  │     varchar     │ varchar │   varchar    │     varchar     │ varchar │     varchar     │ varchar │ varchar │ varchar │ varchar │ varchar │   varchar    │\n",
      "├──────────────────────────────────────┼──────────────────────────────────────┼─────────┼──────────┼──────────┼──────────┼─────────────────┼─────────┼──────────────┼─────────────────┼─────────┼─────────────────┼─────────┼─────────┼─────────┼─────────┼─────────┼──────────────┤\n",
      "│ 13a7ccd4-9133-409d-a7fb-479162ca06ad │ 13a7ccd4-9133-409d-a7fb-479162ca06ad │ NULL    │ NULL     │ NULL     │ NULL     │ NULL            │ NULL    │ NULL         │ NULL            │ NULL    │ NULL            │ NULL    │ NULL    │ NULL    │ NULL    │ NULL    │ NULL         │\n",
      "│ fbd74efe-266c-430c-90af-35d0627a6039 │ fbd74efe-266c-430c-90af-35d0627a6039 │ NULL    │ NULL     │ NULL     │ NULL     │ NULL            │ NULL    │ NULL         │ NULL            │ NULL    │ NULL            │ NULL    │ NULL    │ NULL    │ NULL    │ NULL    │ NULL         │\n",
      "│ 04ed157d-787b-419a-b563-b10b51cae6c6 │ 04ed157d-787b-419a-b563-b10b51cae6c6 │ Item8   │ NULL     │ r        │ NULL     │ p               │ 1       │ NULL         │ NULL            │ NULL    │ NULL            │ NULL    │ L0      │ V0      │ Pn0     │ NULL    │ NULL         │\n",
      "│ 927c89f6-d53e-4783-bebc-2e1d75dc66e0 │ 927c89f6-d53e-4783-bebc-2e1d75dc66e0 │ NULL    │ NULL     │ NULL     │ NULL     │ NULL            │ NULL    │ NULL         │ NULL            │ NULL    │ NULL            │ NULL    │ NULL    │ NULL    │ NULL    │ NULL    │ NULL         │\n",
      "│ 1e58d32d-06a5-4a06-bb2c-1aebe34eebf0 │ 1e58d32d-06a5-4a06-bb2c-1aebe34eebf0 │ NULL    │ NULL     │ NULL     │ NULL     │ NULL            │ NULL    │ NULL         │ NULL            │ NULL    │ NULL            │ NULL    │ NULL    │ NULL    │ NULL    │ NULL    │ NULL         │\n",
      "└──────────────────────────────────────┴──────────────────────────────────────┴─────────┴──────────┴──────────┴──────────┴─────────────────┴─────────┴──────────────┴─────────────────┴─────────┴─────────────────┴─────────┴─────────┴─────────┴─────────┴─────────┴──────────────┘\n",
      "\n",
      "fo_fm\n",
      "┌─────────────────┬─────────────────┬──────────────┐\n",
      "│ FolgeereignisId │ FernmetastaseId │ Lokalisation │\n",
      "│     varchar     │     varchar     │   varchar    │\n",
      "├─────────────────┴─────────────────┴──────────────┤\n",
      "│                      0 rows                      │\n",
      "└──────────────────────────────────────────────────┘\n",
      "\n",
      "fo_weitere\n",
      "┌─────────────────────────┬─────────┬─────────┬─────────────────┐\n",
      "│ WeitereKlassifikationId │  Name   │ Stadium │ FolgeereignisId │\n",
      "│         varchar         │ varchar │ varchar │     varchar     │\n",
      "├─────────────────────────┴─────────┴─────────┴─────────────────┤\n",
      "│                            0 rows                             │\n",
      "└───────────────────────────────────────────────────────────────┘\n",
      "\n",
      "diag_fm\n",
      "┌─────────────────┬──────────────┐\n",
      "│ FernmetastaseId │ Lokalisation │\n",
      "│     varchar     │   varchar    │\n",
      "├─────────────────┴──────────────┤\n",
      "│             0 rows             │\n",
      "└────────────────────────────────┘\n",
      "\n",
      "diag_weitere\n",
      "┌─────────────────────────┬─────────┬─────────┐\n",
      "│ WeitereKlassifikationId │  Name   │ Stadium │\n",
      "│         varchar         │ varchar │ varchar │\n",
      "├─────────────────────────┴─────────┴─────────┤\n",
      "│                   0 rows                    │\n",
      "└─────────────────────────────────────────────┘\n",
      "\n"
     ]
    }
   ],
   "source": [
    "hlp.get_tum_details(\"df6bc655-e0ca-47f1-900c-ff2c749b3c7d\", con)"
   ]
  },
  {
   "cell_type": "code",
   "execution_count": 109,
   "metadata": {},
   "outputs": [],
   "source": [
    "hlp.add_measures_to_pyg_config(\".local/pygwalker_spec_.json\", strict=False)"
   ]
  },
  {
   "cell_type": "code",
   "execution_count": 110,
   "metadata": {},
   "outputs": [],
   "source": [
    "from pandas_plots import hlp\n",
    "url=\"https://github.com/robert-koch-institut/Bundesweiter_klinischer_Krebsregisterdatensatz-Datenschema_und_Klassifikationen\"\n",
    "# url=\"http://google.com\"\n",
    "\n",
    "# hlp.create_barcode_from_url(\n",
    "#     url=url,\n",
    "#     output_path=\".local/zfkd-repo.png\",\n",
    "#     show_image=True,\n",
    "# )"
   ]
  },
  {
   "cell_type": "code",
   "execution_count": 111,
   "metadata": {},
   "outputs": [
    {
     "data": {
      "text/plain": [
       "['total', 'distance']"
      ]
     },
     "execution_count": 111,
     "metadata": {},
     "output_type": "execute_result"
    }
   ],
   "source": [
    "hlp.find_cols(df, [\n",
    "    \"Tot\",\n",
    "    \"DIS\",\n",
    "    ])\n"
   ]
  },
  {
   "cell_type": "code",
   "execution_count": 112,
   "metadata": {},
   "outputs": [
    {
     "name": "stdout",
     "output_type": "stream",
     "text": [
      "⏳ Adding datetime columns basing off of: dropoff\n"
     ]
    },
    {
     "data": {
      "text/html": [
       "<div>\n",
       "<style scoped>\n",
       "    .dataframe tbody tr th:only-of-type {\n",
       "        vertical-align: middle;\n",
       "    }\n",
       "\n",
       "    .dataframe tbody tr th {\n",
       "        vertical-align: top;\n",
       "    }\n",
       "\n",
       "    .dataframe thead th {\n",
       "        text-align: right;\n",
       "    }\n",
       "</style>\n",
       "<table border=\"1\" class=\"dataframe\">\n",
       "  <thead>\n",
       "    <tr style=\"text-align: right;\">\n",
       "      <th></th>\n",
       "      <th>pickup</th>\n",
       "      <th>dropoff</th>\n",
       "      <th>passengers</th>\n",
       "      <th>distance</th>\n",
       "      <th>fare</th>\n",
       "      <th>tip</th>\n",
       "      <th>tolls</th>\n",
       "      <th>total</th>\n",
       "      <th>color</th>\n",
       "      <th>payment</th>\n",
       "      <th>...</th>\n",
       "      <th>dropoff_zone</th>\n",
       "      <th>pickup_borough</th>\n",
       "      <th>dropoff_borough</th>\n",
       "      <th>YYYY</th>\n",
       "      <th>MM</th>\n",
       "      <th>Q</th>\n",
       "      <th>YYYY-MM</th>\n",
       "      <th>YYYYQ</th>\n",
       "      <th>YYYY-WW</th>\n",
       "      <th>DDD</th>\n",
       "    </tr>\n",
       "  </thead>\n",
       "  <tbody>\n",
       "    <tr>\n",
       "      <th>0</th>\n",
       "      <td>2019-03-23 20:21:09</td>\n",
       "      <td>2019-03-23 20:27:24</td>\n",
       "      <td>1</td>\n",
       "      <td>1.60</td>\n",
       "      <td>7.0</td>\n",
       "      <td>2.15</td>\n",
       "      <td>0.0</td>\n",
       "      <td>12.95</td>\n",
       "      <td>yellow</td>\n",
       "      <td>credit card</td>\n",
       "      <td>...</td>\n",
       "      <td>UN/Turtle Bay South</td>\n",
       "      <td>Manhattan</td>\n",
       "      <td>Manhattan</td>\n",
       "      <td>2019</td>\n",
       "      <td>3</td>\n",
       "      <td>1</td>\n",
       "      <td>2019-03</td>\n",
       "      <td>2019Q1</td>\n",
       "      <td>2019-W12</td>\n",
       "      <td>Sat</td>\n",
       "    </tr>\n",
       "    <tr>\n",
       "      <th>1</th>\n",
       "      <td>2019-03-04 16:11:55</td>\n",
       "      <td>2019-03-04 16:19:00</td>\n",
       "      <td>1</td>\n",
       "      <td>0.79</td>\n",
       "      <td>5.0</td>\n",
       "      <td>0.00</td>\n",
       "      <td>0.0</td>\n",
       "      <td>9.30</td>\n",
       "      <td>yellow</td>\n",
       "      <td>cash</td>\n",
       "      <td>...</td>\n",
       "      <td>Upper West Side South</td>\n",
       "      <td>Manhattan</td>\n",
       "      <td>Manhattan</td>\n",
       "      <td>2019</td>\n",
       "      <td>3</td>\n",
       "      <td>1</td>\n",
       "      <td>2019-03</td>\n",
       "      <td>2019Q1</td>\n",
       "      <td>2019-W10</td>\n",
       "      <td>Mon</td>\n",
       "    </tr>\n",
       "    <tr>\n",
       "      <th>2</th>\n",
       "      <td>2019-03-27 17:53:01</td>\n",
       "      <td>2019-03-27 18:00:25</td>\n",
       "      <td>1</td>\n",
       "      <td>1.37</td>\n",
       "      <td>7.5</td>\n",
       "      <td>2.36</td>\n",
       "      <td>0.0</td>\n",
       "      <td>14.16</td>\n",
       "      <td>yellow</td>\n",
       "      <td>credit card</td>\n",
       "      <td>...</td>\n",
       "      <td>West Village</td>\n",
       "      <td>Manhattan</td>\n",
       "      <td>Manhattan</td>\n",
       "      <td>2019</td>\n",
       "      <td>3</td>\n",
       "      <td>1</td>\n",
       "      <td>2019-03</td>\n",
       "      <td>2019Q1</td>\n",
       "      <td>2019-W13</td>\n",
       "      <td>Wed</td>\n",
       "    </tr>\n",
       "    <tr>\n",
       "      <th>3</th>\n",
       "      <td>2019-03-10 01:23:59</td>\n",
       "      <td>2019-03-10 01:49:51</td>\n",
       "      <td>1</td>\n",
       "      <td>7.70</td>\n",
       "      <td>27.0</td>\n",
       "      <td>6.15</td>\n",
       "      <td>0.0</td>\n",
       "      <td>36.95</td>\n",
       "      <td>yellow</td>\n",
       "      <td>credit card</td>\n",
       "      <td>...</td>\n",
       "      <td>Yorkville West</td>\n",
       "      <td>Manhattan</td>\n",
       "      <td>Manhattan</td>\n",
       "      <td>2019</td>\n",
       "      <td>3</td>\n",
       "      <td>1</td>\n",
       "      <td>2019-03</td>\n",
       "      <td>2019Q1</td>\n",
       "      <td>2019-W10</td>\n",
       "      <td>Sun</td>\n",
       "    </tr>\n",
       "    <tr>\n",
       "      <th>4</th>\n",
       "      <td>2019-03-30 13:27:42</td>\n",
       "      <td>2019-03-30 13:37:14</td>\n",
       "      <td>3</td>\n",
       "      <td>2.16</td>\n",
       "      <td>9.0</td>\n",
       "      <td>1.10</td>\n",
       "      <td>0.0</td>\n",
       "      <td>13.40</td>\n",
       "      <td>yellow</td>\n",
       "      <td>credit card</td>\n",
       "      <td>...</td>\n",
       "      <td>Yorkville West</td>\n",
       "      <td>Manhattan</td>\n",
       "      <td>Manhattan</td>\n",
       "      <td>2019</td>\n",
       "      <td>3</td>\n",
       "      <td>1</td>\n",
       "      <td>2019-03</td>\n",
       "      <td>2019Q1</td>\n",
       "      <td>2019-W13</td>\n",
       "      <td>Sat</td>\n",
       "    </tr>\n",
       "    <tr>\n",
       "      <th>...</th>\n",
       "      <td>...</td>\n",
       "      <td>...</td>\n",
       "      <td>...</td>\n",
       "      <td>...</td>\n",
       "      <td>...</td>\n",
       "      <td>...</td>\n",
       "      <td>...</td>\n",
       "      <td>...</td>\n",
       "      <td>...</td>\n",
       "      <td>...</td>\n",
       "      <td>...</td>\n",
       "      <td>...</td>\n",
       "      <td>...</td>\n",
       "      <td>...</td>\n",
       "      <td>...</td>\n",
       "      <td>...</td>\n",
       "      <td>...</td>\n",
       "      <td>...</td>\n",
       "      <td>...</td>\n",
       "      <td>...</td>\n",
       "      <td>...</td>\n",
       "    </tr>\n",
       "    <tr>\n",
       "      <th>6428</th>\n",
       "      <td>2019-03-31 09:51:53</td>\n",
       "      <td>2019-03-31 09:55:27</td>\n",
       "      <td>1</td>\n",
       "      <td>0.75</td>\n",
       "      <td>4.5</td>\n",
       "      <td>1.06</td>\n",
       "      <td>0.0</td>\n",
       "      <td>6.36</td>\n",
       "      <td>green</td>\n",
       "      <td>credit card</td>\n",
       "      <td>...</td>\n",
       "      <td>Central Harlem North</td>\n",
       "      <td>Manhattan</td>\n",
       "      <td>Manhattan</td>\n",
       "      <td>2019</td>\n",
       "      <td>3</td>\n",
       "      <td>1</td>\n",
       "      <td>2019-03</td>\n",
       "      <td>2019Q1</td>\n",
       "      <td>2019-W13</td>\n",
       "      <td>Sun</td>\n",
       "    </tr>\n",
       "    <tr>\n",
       "      <th>6429</th>\n",
       "      <td>2019-03-31 17:38:00</td>\n",
       "      <td>2019-03-31 18:34:23</td>\n",
       "      <td>1</td>\n",
       "      <td>18.74</td>\n",
       "      <td>58.0</td>\n",
       "      <td>0.00</td>\n",
       "      <td>0.0</td>\n",
       "      <td>58.80</td>\n",
       "      <td>green</td>\n",
       "      <td>credit card</td>\n",
       "      <td>...</td>\n",
       "      <td>East Concourse/Concourse Village</td>\n",
       "      <td>Queens</td>\n",
       "      <td>Bronx</td>\n",
       "      <td>2019</td>\n",
       "      <td>3</td>\n",
       "      <td>1</td>\n",
       "      <td>2019-03</td>\n",
       "      <td>2019Q1</td>\n",
       "      <td>2019-W13</td>\n",
       "      <td>Sun</td>\n",
       "    </tr>\n",
       "    <tr>\n",
       "      <th>6430</th>\n",
       "      <td>2019-03-23 22:55:18</td>\n",
       "      <td>2019-03-23 23:14:25</td>\n",
       "      <td>1</td>\n",
       "      <td>4.14</td>\n",
       "      <td>16.0</td>\n",
       "      <td>0.00</td>\n",
       "      <td>0.0</td>\n",
       "      <td>17.30</td>\n",
       "      <td>green</td>\n",
       "      <td>cash</td>\n",
       "      <td>...</td>\n",
       "      <td>Bushwick North</td>\n",
       "      <td>Brooklyn</td>\n",
       "      <td>Brooklyn</td>\n",
       "      <td>2019</td>\n",
       "      <td>3</td>\n",
       "      <td>1</td>\n",
       "      <td>2019-03</td>\n",
       "      <td>2019Q1</td>\n",
       "      <td>2019-W12</td>\n",
       "      <td>Sat</td>\n",
       "    </tr>\n",
       "    <tr>\n",
       "      <th>6431</th>\n",
       "      <td>2019-03-04 10:09:25</td>\n",
       "      <td>2019-03-04 10:14:29</td>\n",
       "      <td>1</td>\n",
       "      <td>1.12</td>\n",
       "      <td>6.0</td>\n",
       "      <td>0.00</td>\n",
       "      <td>0.0</td>\n",
       "      <td>6.80</td>\n",
       "      <td>green</td>\n",
       "      <td>credit card</td>\n",
       "      <td>...</td>\n",
       "      <td>East Flatbush/Remsen Village</td>\n",
       "      <td>Brooklyn</td>\n",
       "      <td>Brooklyn</td>\n",
       "      <td>2019</td>\n",
       "      <td>3</td>\n",
       "      <td>1</td>\n",
       "      <td>2019-03</td>\n",
       "      <td>2019Q1</td>\n",
       "      <td>2019-W10</td>\n",
       "      <td>Mon</td>\n",
       "    </tr>\n",
       "    <tr>\n",
       "      <th>6432</th>\n",
       "      <td>2019-03-13 19:31:22</td>\n",
       "      <td>2019-03-13 19:48:02</td>\n",
       "      <td>1</td>\n",
       "      <td>3.85</td>\n",
       "      <td>15.0</td>\n",
       "      <td>3.36</td>\n",
       "      <td>0.0</td>\n",
       "      <td>20.16</td>\n",
       "      <td>green</td>\n",
       "      <td>credit card</td>\n",
       "      <td>...</td>\n",
       "      <td>Windsor Terrace</td>\n",
       "      <td>Brooklyn</td>\n",
       "      <td>Brooklyn</td>\n",
       "      <td>2019</td>\n",
       "      <td>3</td>\n",
       "      <td>1</td>\n",
       "      <td>2019-03</td>\n",
       "      <td>2019Q1</td>\n",
       "      <td>2019-W11</td>\n",
       "      <td>Wed</td>\n",
       "    </tr>\n",
       "  </tbody>\n",
       "</table>\n",
       "<p>6433 rows × 21 columns</p>\n",
       "</div>"
      ],
      "text/plain": [
       "                  pickup             dropoff  passengers  distance  fare  \\\n",
       "0    2019-03-23 20:21:09 2019-03-23 20:27:24           1      1.60   7.0   \n",
       "1    2019-03-04 16:11:55 2019-03-04 16:19:00           1      0.79   5.0   \n",
       "2    2019-03-27 17:53:01 2019-03-27 18:00:25           1      1.37   7.5   \n",
       "3    2019-03-10 01:23:59 2019-03-10 01:49:51           1      7.70  27.0   \n",
       "4    2019-03-30 13:27:42 2019-03-30 13:37:14           3      2.16   9.0   \n",
       "...                  ...                 ...         ...       ...   ...   \n",
       "6428 2019-03-31 09:51:53 2019-03-31 09:55:27           1      0.75   4.5   \n",
       "6429 2019-03-31 17:38:00 2019-03-31 18:34:23           1     18.74  58.0   \n",
       "6430 2019-03-23 22:55:18 2019-03-23 23:14:25           1      4.14  16.0   \n",
       "6431 2019-03-04 10:09:25 2019-03-04 10:14:29           1      1.12   6.0   \n",
       "6432 2019-03-13 19:31:22 2019-03-13 19:48:02           1      3.85  15.0   \n",
       "\n",
       "       tip  tolls  total   color      payment  ...  \\\n",
       "0     2.15    0.0  12.95  yellow  credit card  ...   \n",
       "1     0.00    0.0   9.30  yellow         cash  ...   \n",
       "2     2.36    0.0  14.16  yellow  credit card  ...   \n",
       "3     6.15    0.0  36.95  yellow  credit card  ...   \n",
       "4     1.10    0.0  13.40  yellow  credit card  ...   \n",
       "...    ...    ...    ...     ...          ...  ...   \n",
       "6428  1.06    0.0   6.36   green  credit card  ...   \n",
       "6429  0.00    0.0  58.80   green  credit card  ...   \n",
       "6430  0.00    0.0  17.30   green         cash  ...   \n",
       "6431  0.00    0.0   6.80   green  credit card  ...   \n",
       "6432  3.36    0.0  20.16   green  credit card  ...   \n",
       "\n",
       "                          dropoff_zone pickup_borough dropoff_borough  YYYY  \\\n",
       "0                  UN/Turtle Bay South      Manhattan       Manhattan  2019   \n",
       "1                Upper West Side South      Manhattan       Manhattan  2019   \n",
       "2                         West Village      Manhattan       Manhattan  2019   \n",
       "3                       Yorkville West      Manhattan       Manhattan  2019   \n",
       "4                       Yorkville West      Manhattan       Manhattan  2019   \n",
       "...                                ...            ...             ...   ...   \n",
       "6428              Central Harlem North      Manhattan       Manhattan  2019   \n",
       "6429  East Concourse/Concourse Village         Queens           Bronx  2019   \n",
       "6430                    Bushwick North       Brooklyn        Brooklyn  2019   \n",
       "6431      East Flatbush/Remsen Village       Brooklyn        Brooklyn  2019   \n",
       "6432                   Windsor Terrace       Brooklyn        Brooklyn  2019   \n",
       "\n",
       "      MM  Q  YYYY-MM   YYYYQ   YYYY-WW  DDD  \n",
       "0      3  1  2019-03  2019Q1  2019-W12  Sat  \n",
       "1      3  1  2019-03  2019Q1  2019-W10  Mon  \n",
       "2      3  1  2019-03  2019Q1  2019-W13  Wed  \n",
       "3      3  1  2019-03  2019Q1  2019-W10  Sun  \n",
       "4      3  1  2019-03  2019Q1  2019-W13  Sat  \n",
       "...   .. ..      ...     ...       ...  ...  \n",
       "6428   3  1  2019-03  2019Q1  2019-W13  Sun  \n",
       "6429   3  1  2019-03  2019Q1  2019-W13  Sun  \n",
       "6430   3  1  2019-03  2019Q1  2019-W12  Sat  \n",
       "6431   3  1  2019-03  2019Q1  2019-W10  Mon  \n",
       "6432   3  1  2019-03  2019Q1  2019-W11  Wed  \n",
       "\n",
       "[6433 rows x 21 columns]"
      ]
     },
     "execution_count": 112,
     "metadata": {},
     "output_type": "execute_result"
    }
   ],
   "source": [
    "# df\n",
    "# from pandas_plots import hlp\n",
    "hlp.add_datetime_columns(df,\"dropoff\")\n",
    "# df"
   ]
  },
  {
   "cell_type": "code",
   "execution_count": 113,
   "metadata": {},
   "outputs": [
    {
     "name": "stdout",
     "output_type": "stream",
     "text": [
      "[The most important themes of the draft referendum are:  \n",
      "1. Improving the use of health data for research and innovation particularly through  \n",
      "the establishment of a National Data Access Point;  \n",
      "2. Enhancing the coordination and networking of different stakeholders involved  \n",
      "in health data management;  \n",
      "3. Expanding the scope of the General Data Protection Regulation (GDPR) to cover all  \n",
      "areas of healthcare;  \n",
      "4. Providing better access to health data for patients and researchers including through  \n",
      "the development of a new law on health data protection;  \n",
      "5. Facilitating the exchange of health data between different countries and regions  \n",
      "particularly within the European Union (EU);  \n",
      "6. Ensuring that data are used in a way that promotes sustainable development and achieves  \n",
      "the United Nations Sustainable Development Goals (SDGs).]\n"
     ]
    }
   ],
   "source": [
    "lol=\"\"\"\n",
    "The most important themes of the draft referendum are:\n",
    "1. Improving the use of health data for research and innovation, particularly through the establishment of a National Data Access Point;\n",
    "2. Enhancing the coordination and networking of different stakeholders involved in health data management;\n",
    "3. Expanding the scope of the General Data Protection Regulation (GDPR) to cover all areas of healthcare;\n",
    "4. Providing better access to health data for patients and researchers, including through the development of a new law on health data protection;\n",
    "5. Facilitating the exchange of health data between different countries and regions, particularly within the European Union (EU);\n",
    "6. Ensuring that data are used in a way that promotes sustainable development and achieves the United Nations' Sustainable Development Goals (SDGs).\"\"\"\n",
    "\n",
    "print(\n",
    "hlp.wrap_text(\n",
    "    text=lol,\n",
    "    # max_items_in_line=40,\n",
    "    use_sep=True,\n",
    "    use_apo=True,\n",
    ")\n",
    ")"
   ]
  }
 ],
 "metadata": {
  "kernelspec": {
   "display_name": "pandas-plots",
   "language": "python",
   "name": "python3"
  },
  "language_info": {
   "codemirror_mode": {
    "name": "ipython",
    "version": 3
   },
   "file_extension": ".py",
   "mimetype": "text/x-python",
   "name": "python",
   "nbconvert_exporter": "python",
   "pygments_lexer": "ipython3",
   "version": "3.12.9"
  }
 },
 "nbformat": 4,
 "nbformat_minor": 2
}
