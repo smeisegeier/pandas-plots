{
 "cells": [
  {
   "cell_type": "markdown",
   "metadata": {},
   "source": [
    "# <a id='toc1_'></a>[test area](#toc0_)"
   ]
  },
  {
   "cell_type": "markdown",
   "metadata": {},
   "source": [
    "**Table of contents**<a id='toc0_'></a>    \n",
    "- [test area](#toc1_)    \n",
    "    - [load](#toc1_1_1_)    \n",
    "  - [pls](#toc1_2_)    \n",
    "    - [bars](#toc1_2_1_)    \n",
    "    - [histo](#toc1_2_2_)    \n",
    "    - [box](#toc1_2_3_)    \n",
    "    - [pie](#toc1_2_4_)    \n",
    "    - [join](#toc1_2_5_)    \n",
    "    - [sankey](#toc1_2_6_)    \n",
    "  - [tbl](#toc1_3_)    \n",
    "    - [print_summary()](#toc1_3_1_)    \n",
    "    - [describe_df()](#toc1_3_2_)    \n",
    "    - [descr_db()](#toc1_3_3_)    \n",
    "  - [show num](#toc1_4_)    \n",
    "  - [venn](#toc1_5_)    \n",
    "  - [hlp](#toc1_6_)    \n",
    "\n",
    "<!-- vscode-jupyter-toc-config\n",
    "\tnumbering=false\n",
    "\tanchor=true\n",
    "\tflat=false\n",
    "\tminLevel=1\n",
    "\tmaxLevel=6\n",
    "\t/vscode-jupyter-toc-config -->\n",
    "<!-- THIS CELL WILL BE REPLACED ON TOC UPDATE. DO NOT WRITE YOUR TEXT IN THIS CELL -->"
   ]
  },
  {
   "cell_type": "markdown",
   "metadata": {},
   "source": [
    "### <a id='toc1_1_1_'></a>[load](#toc0_)"
   ]
  },
  {
   "cell_type": "code",
   "execution_count": 61,
   "metadata": {},
   "outputs": [
    {
     "name": "stdout",
     "output_type": "stream",
     "text": [
      "🐍 3.12.9 | 📦 matplotlib_venn: 0.11.10 | 📦 dataframe_image: 0.2.7 | 📦 plotly: 6.2.0 | 📦 kaleido: 1.0.0 | 📦 seaborn: 0.13.2 | 📦 pandas: 2.3.1 | 📦 numpy: 1.26.4 | 📦 duckdb: 1.3.2 | 📦 pandas-plots: 0.20.0 | 📦 connection-helper: 0.13.1\n",
      "True\n"
     ]
    }
   ],
   "source": [
    "from pathlib import Path\n",
    "import os\n",
    "import seaborn as sb\n",
    "import pandas as pd\n",
    "import sys\n",
    "import numpy as np\n",
    "# from datetime import datetime\n",
    "# from connection_helper import sql\n",
    "\n",
    "from pandas_plots import tbl, pls, ven , hlp\n",
    "import duckdb as ddb\n",
    "\n",
    "hlp.show_package_version([\"matplotlib_venn\", \"dataframe_image\", \"plotly\", \"kaleido\", \"seaborn\"], )\n",
    "df = sb.load_dataset('taxis')\n",
    "\n",
    "# if os.getenv(\"RENDERER\") in ('png', 'svg'):\n",
    "#     os.environ['THEME'] = 'light'\n",
    "# else:\n",
    "#     os.environ['THEME'] = 'dark'\n",
    "\n",
    "hlp.set_theme(\"dark\")\n",
    "\n",
    "dir_db=Path(\"C://temp\") if hlp.get_os(hlp.OperatingSystem.WINDOWS) else Path(os.path.expanduser(\"~/tmp\"))\n",
    "\n",
    "file_db_clin = dir_db/'workflow/2025-06-24_data_clin.duckdb'\n",
    "\n",
    "if not file_db_clin.is_file():\n",
    "    print(f\"File does not exist: {file_db_clin}\")\n",
    "    raise FileNotFoundError\n",
    "\n",
    "print(hlp.get_os(hlp.OperatingSystem.MAC))"
   ]
  },
  {
   "cell_type": "code",
   "execution_count": 62,
   "metadata": {},
   "outputs": [],
   "source": [
    "con = ddb.connect(file_db_clin, read_only=True)"
   ]
  },
  {
   "cell_type": "code",
   "execution_count": 63,
   "metadata": {},
   "outputs": [],
   "source": [
    "db_delay = con.sql(\"\"\"--sql\n",
    "    select\n",
    "            first(z_kkr_label) as z_kkr_label,\n",
    "            first(z_first_treatment_after_days) as z_first_treatment_after_days, \n",
    "            first(z_first_treatment) as z_first_treatment\n",
    "    from Tumor\n",
    "    where ifnull(z_first_treatment,'') <> ''\n",
    "    and z_dy = 2023 and z_icd10_3d = 'C81'\n",
    "    group by z_tum_id\n",
    "    \"\"\")"
   ]
  },
  {
   "cell_type": "markdown",
   "metadata": {},
   "source": [
    "## <a id='toc1_2_'></a>[pls](#toc0_)"
   ]
  },
  {
   "cell_type": "markdown",
   "metadata": {},
   "source": [
    "### <a id='toc1_2_1_'></a>[bars](#toc0_)"
   ]
  },
  {
   "cell_type": "code",
   "execution_count": null,
   "metadata": {},
   "outputs": [],
   "source": [
    "_ = pls.plot_bars(\n",
    "    db_delay.to_df().iloc[:,:2],\n",
    "    # height=400,\n",
    "    # width=1000,\n",
    "    # use_ci=True,\n",
    "    # ci_agg='median',\n",
    ")\n",
    "_ = pls.plot_bars(\n",
    "    db_delay.to_df().iloc[:,:2],\n",
    "    height=600,\n",
    "    use_ci=True,\n",
    "    ci_agg='median',\n",
    ")"
   ]
  },
  {
   "cell_type": "code",
   "execution_count": null,
   "metadata": {},
   "outputs": [],
   "source": [
    "_df = db_delay.filter(\"left(z_kkr_label,2)::int8 in (2,5,9,15)\").to_df().iloc[:,[0,2,1]]\n",
    "display(_df)\n",
    "pls.plot_stacked_bars(\n",
    "    _df,\n",
    "    height=600,\n",
    "    width=1600,\n",
    "    orientation=\"h\",\n",
    "    relative=True,\n",
    "    show_pct_bar=True,\n",
    "    kkr_col=\"z_kkr_label\",\n",
    "    # renderer=\"png\",\n",
    "    )"
   ]
  },
  {
   "cell_type": "code",
   "execution_count": null,
   "metadata": {},
   "outputs": [],
   "source": [
    "df_facets = pd.read_csv(\"assets/facets.csv\", sep=\";\")#.astype({\"z_dy\": \"Int64\"}).astype({\"z_dy\": str})\n",
    "display(df_facets[:None])\n",
    "print(df_facets.dtypes)\n",
    "\n",
    "_df = df_facets[\n",
    "    [\n",
    "        \"z_dy\",\n",
    "        \"tu\",\n",
    "        \"z_kkr_label\",\n",
    "        \"cnt\",\n",
    "    ]\n",
    "]#[:100]\n",
    "# _df\n",
    "\n",
    "\n",
    "l=pls.plot_facet_stacked_bars(\n",
    "    _df,\n",
    "    top_n_color=5,\n",
    "    # subplots_per_row=3,\n",
    "    # top_n_facet=15,\n",
    "    # top_n_index=3, \n",
    "    show_other=True,\n",
    "    sort_values_color=True,\n",
    "    # sort_values_facet=True,\n",
    "    relative=True,\n",
    "    # show_pct=True,\n",
    "    annotations=True,\n",
    "    subplot_size=300,\n",
    "    subplots_per_row=5,\n",
    "    # renderer=\"\",\n",
    "    # show_pct=True,\n",
    "    )\n",
    "# l\n",
    "\n",
    "# ll = pls.plot_facet_stacked_bars(\n",
    "#     _df,\n",
    "#     top_n_color=5,\n",
    "#     # subplots_per_row=8,\n",
    "#     # top_n_facet=15,\n",
    "#     # top_n_index=3, \n",
    "#     show_other=True,\n",
    "#     sort_values_color=True,\n",
    "#     # sort_values_facet=True,\n",
    "#     relative=True,\n",
    "#     annotations=True,\n",
    "#     )\n",
    "# # ll"
   ]
  },
  {
   "cell_type": "markdown",
   "metadata": {},
   "source": [
    "### <a id='toc1_2_2_'></a>[histo](#toc0_)"
   ]
  },
  {
   "cell_type": "code",
   "execution_count": null,
   "metadata": {},
   "outputs": [],
   "source": [
    "_=pls.plot_histogram_large(\n",
    "    df.distance,\n",
    "    # nbins=50,\n",
    "    height=300,\n",
    "    summary=True\n",
    ")"
   ]
  },
  {
   "cell_type": "code",
   "execution_count": null,
   "metadata": {},
   "outputs": [],
   "source": [
    "# _df = df[\"distance\"]\n",
    "# # _df#.to_frame()\n",
    "# # _df=df[[\"fare\",\"distance\"]]\n",
    "# pls.plot_histogram(\n",
    "#     _df,\n",
    "#     height=300,\n",
    "#     width=1000,\n",
    "#     precision=0,\n",
    "#     orientation=\"v\",\n",
    "#     histnorm=\"\",\n",
    "#     nbins=-1,\n",
    "#     # barmode=\"overlay\",\n",
    "#     # renderer=\"png\",\n",
    "#     # png_path=Path(\".local/box5.png\"),\n",
    "#     summary=True,\n",
    "#     caption=\"test lol xd-lmao\",\n",
    "# )"
   ]
  },
  {
   "cell_type": "markdown",
   "metadata": {},
   "source": [
    "### <a id='toc1_2_3_'></a>[box](#toc0_)"
   ]
  },
  {
   "cell_type": "code",
   "execution_count": null,
   "metadata": {},
   "outputs": [],
   "source": [
    "# _=pls.plot_box(\n",
    "#     # df[\"distance\"],\n",
    "#     df[df[\"dropoff_borough\"].isna()].distance,\n",
    "#     height=200,\n",
    "#     # violin=True,\n",
    "#     # use_log=True,\n",
    "# )"
   ]
  },
  {
   "cell_type": "code",
   "execution_count": null,
   "metadata": {},
   "outputs": [],
   "source": [
    "_df = df[[\"dropoff_borough\",\"distance\"]]\n",
    "print(_df)\n",
    "_=pls.plot_boxes_large(\n",
    "    _df,\n",
    "    width=600,\n",
    "    # violin=True,\n",
    "    # use_log=True,\n",
    ")\n",
    "_=pls.plot_boxes(\n",
    "    _df,\n",
    "    width=600,\n",
    "    # violin=True,\n",
    "    # use_log=True,\n",
    ")\n"
   ]
  },
  {
   "cell_type": "code",
   "execution_count": null,
   "metadata": {},
   "outputs": [],
   "source": [
    "# pls.plot_box(\n",
    "#     df.distance,\n",
    "#     height=400,\n",
    "#     violin=False,\n",
    "#     x_min=-2,\n",
    "#     x_max=50,\n",
    "#     # summary = False\n",
    "# )\n",
    "\n",
    "# _df = df[[\"dropoff_borough\", \"distance\"]]\n",
    "# # _df[\"dropoff_borough\"] = _df[\"dropoff_borough\"].astype(str)\n",
    "# display(_df.dtypes)\n",
    "# display(_df)\n",
    "# _=pls.plot_boxes(\n",
    "#     _df,\n",
    "#     width=1600,\n",
    "#     annotations=False,\n",
    "#     precision=4,\n",
    "# )"
   ]
  },
  {
   "cell_type": "markdown",
   "metadata": {},
   "source": [
    "### <a id='toc1_2_4_'></a>[pie](#toc0_)"
   ]
  },
  {
   "cell_type": "code",
   "execution_count": null,
   "metadata": {},
   "outputs": [],
   "source": [
    "df[\"payment\"]\n",
    "pls.plot_pie(\n",
    "    data=df[\"payment\"],\n",
    "    caption=\"test lol\",\n",
    "    donut_size=0.3,\n",
    "    # precision=3,\n",
    ")"
   ]
  },
  {
   "cell_type": "markdown",
   "metadata": {},
   "source": [
    "### <a id='toc1_2_5_'></a>[join](#toc0_)"
   ]
  },
  {
   "cell_type": "code",
   "execution_count": null,
   "metadata": {},
   "outputs": [],
   "source": [
    "_df = df[[\"fare\", \"passengers\"]]\n",
    "# pls.plot_joint(_df, precision=0, size=15, kind=\"reg\", caption=\"\")\n",
    "# pls.plot_joint(_df, precision=0, size=15, kind=\"hex\", png_path=Path(\".local/box6.png\"))\n",
    "pls.plot_joint(_df, precision=0, size=5, kind=\"kde\",)\n",
    "# pls.plot_joint(_df, precision=0, size=5, kind=\"hist\",)\n",
    "# pls.plot_joint(_df, precision=0, size=5, kind=\"kde\", png_path=Path(\".local/box7.png\"))"
   ]
  },
  {
   "cell_type": "markdown",
   "metadata": {},
   "source": [
    "### <a id='toc1_2_6_'></a>[sankey](#toc0_)"
   ]
  },
  {
   "cell_type": "code",
   "execution_count": null,
   "metadata": {},
   "outputs": [],
   "source": [
    "pls.plot_sankey(\n",
    "    width=2000,\n",
    "    font_size=15,\n",
    "    # renderer=\"png\",\n",
    ")"
   ]
  },
  {
   "cell_type": "markdown",
   "metadata": {},
   "source": [
    "## <a id='toc1_3_'></a>[tbl](#toc0_)"
   ]
  },
  {
   "cell_type": "markdown",
   "metadata": {},
   "source": [
    "### <a id='toc1_3_1_'></a>[print_summary()](#toc0_)"
   ]
  },
  {
   "cell_type": "code",
   "execution_count": null,
   "metadata": {},
   "outputs": [],
   "source": [
    "_=tbl.print_summary(df)"
   ]
  },
  {
   "cell_type": "markdown",
   "metadata": {},
   "source": [
    "### <a id='toc1_3_2_'></a>[describe_df()](#toc0_)"
   ]
  },
  {
   "cell_type": "code",
   "execution_count": null,
   "metadata": {},
   "outputs": [],
   "source": [
    "df[\"lol\"] = np.nan\n",
    "df[\"lol\"] = df[\"lol\"].astype(\"float64\")\n",
    "tbl.describe_df(\n",
    "    df,\n",
    "    # \"taxis\",\n",
    "    use_columns=False,\n",
    "    # renderer=\"svg\",\n",
    "    top_n_uniques=10,\n",
    "    top_n_chars_in_columns=10,\n",
    "    top_n_chars_in_index=15,\n",
    ")"
   ]
  },
  {
   "cell_type": "markdown",
   "metadata": {},
   "source": [
    "### <a id='toc1_3_3_'></a>[descr_db()](#toc0_)"
   ]
  },
  {
   "cell_type": "code",
   "execution_count": null,
   "metadata": {},
   "outputs": [],
   "source": [
    "tbl.descr_db(db_delay, caption=\"delay\", width=200)"
   ]
  },
  {
   "cell_type": "code",
   "execution_count": null,
   "metadata": {},
   "outputs": [],
   "source": [
    "df_dsich = pd.read_csv(\"assets/dsich.csv\", sep=\";\")#.astype({\"z_dy\": \"Int64\"}).astype({\"z_dy\": str})\n",
    "display(df_dsich[:3])\n",
    "# print(df_dsich.dtypes)"
   ]
  },
  {
   "cell_type": "code",
   "execution_count": null,
   "metadata": {},
   "outputs": [],
   "source": [
    "_df = df_dsich[\n",
    "    [\n",
    "        \"bl\",\n",
    "        \"label\",\n",
    "        \"cnt\",\n",
    "    ]\n",
    "].sort_values(\"bl\")\n",
    "\n",
    "_ = pls.plot_stacked_bars(\n",
    "    _df,\n",
    "    # swap=True,\n",
    "    orientation=\"h\",\n",
    "    # show_total=True,\n",
    "    # normalize=True,\n",
    "    # relative=True,\n",
    "    height=600,\n",
    "    # top_n_color=5,\n",
    "    # sort_values_index=True,\n",
    "    sort_values_color=True,\n",
    "    # top_n_index=3,\n",
    "    # precision=2,\n",
    "    # show_other=True,\n",
    "    # top_n_index=2,\n",
    "    kkr_col=\"bl\",\n",
    ")\n",
    "_"
   ]
  },
  {
   "cell_type": "code",
   "execution_count": null,
   "metadata": {},
   "outputs": [],
   "source": [
    "_df = df_facets[\n",
    "    [\n",
    "        \"z_kkr_label\",\n",
    "        \"z_dy\",\n",
    "        \"cnt\",\n",
    "    ]\n",
    "]#.astype({\"z_dy\": str})\n",
    "\n",
    "_ = pls.plot_stacked_bars(\n",
    "    _df,\n",
    "    # swap=True,\n",
    "    orientation=\"h\",\n",
    "    # show_total=True,\n",
    "    # normalize=True,\n",
    "    # relative=True,\n",
    "    height=1000,\n",
    "    top_n_color=10,\n",
    "    # sort_values_index=True,\n",
    "    # sort_values_color=True,\n",
    "    # top_n_index=5,\n",
    "    # precision=2,\n",
    "    # show_other=True,\n",
    "    # top_n_index=2,\n",
    "    # renderer=\"png\",\n",
    ")\n",
    "_"
   ]
  },
  {
   "cell_type": "code",
   "execution_count": null,
   "metadata": {},
   "outputs": [],
   "source": [
    "_df = df_facets[\n",
    "    [\n",
    "        \"z_kkr_label\",\n",
    "        \"cnt\",\n",
    "    ]\n",
    "]\n",
    "_df\n",
    "\n",
    "_ = pls.plot_bars(\n",
    "    _df,\n",
    "    height=600,\n",
    "    width=1200,\n",
    "    sort_values=True,\n",
    "    # renderer=\"png\",\n",
    ")"
   ]
  },
  {
   "cell_type": "code",
   "execution_count": null,
   "metadata": {},
   "outputs": [],
   "source": [
    "_df = df[[\"color\",\"payment\",\"pickup_borough\",\"total\"]]\n",
    "_df\n",
    "# _=pls.plot_stacked_bars(_df[[\"color\",\"payment\",\"total\"]],)\n",
    "tbl.describe_df(_df, \"taxis\")"
   ]
  },
  {
   "cell_type": "code",
   "execution_count": null,
   "metadata": {},
   "outputs": [],
   "source": [
    "db = con.from_df(df)\n",
    "tbl.descr_db(db, caption=\"taxis\",)"
   ]
  },
  {
   "cell_type": "markdown",
   "metadata": {},
   "source": [
    "## <a id='toc1_4_'></a>[show num](#toc0_)"
   ]
  },
  {
   "cell_type": "code",
   "execution_count": null,
   "metadata": {},
   "outputs": [],
   "source": [
    "from pathlib import Path\n",
    "\n",
    "_df=df.pivot_table(index=\"color\", columns=\"payment\", values=\"fare\", aggfunc=\"sum\", dropna=False)\n",
    "tbl.show_num_df(\n",
    "    _df,\n",
    "    total_mode=\"sum\",\n",
    "    total_axis=\"y\",\n",
    "    data_bar_axis=\"\",\n",
    "    pct_axis=\"xy\",\n",
    "    precision=0,\n",
    "    heatmap_axis=\"xy\",\n",
    "    # kpi_mode=\"max_min_x\",\n",
    "    total_exclude=True,\n",
    "    # kpi_mode=\"min_max_xy\",\n",
    "    kpi_mode=\"rag_abs\",\n",
    "    kpi_rag_list=(100, 1000),\n",
    "    # swap=True,\n",
    "    font_size_td=12,\n",
    "    font_size_th=14,\n",
    "    # png_path=Path(\"test.png\"),\n",
    ")"
   ]
  },
  {
   "cell_type": "code",
   "execution_count": null,
   "metadata": {},
   "outputs": [],
   "source": [
    "_df=df[[\"color\", \"payment\", \"fare\"]]\n",
    "tbl.pivot_df(\n",
    "    _df,\n",
    "    total_mode=\"sum\",\n",
    "    data_bar_axis=\"xy\",\n",
    "    pct_axis=\"xy\",\n",
    "    precision=0,\n",
    "    heatmap_axis=\"\",\n",
    "    kpi_mode=\"max_min_x\"\n",
    "    # kpi_mode=\"min_max_xy\",\n",
    "    # kpi_mode=\"rag_abs\",\n",
    "    # kpi_rag_list=(100, 1000),\n",
    ")"
   ]
  },
  {
   "cell_type": "code",
   "execution_count": null,
   "metadata": {},
   "outputs": [],
   "source": [
    "_df = df[[\"distance\", \"fare\", \"tip\", \"tolls\"]][:5]\n",
    "tbl.show_num_df(\n",
    "    _df,\n",
    "    data_bar_axis=\"x\",\n",
    "    pct_axis=\"xy\",\n",
    "    precision=3,\n",
    "    total_mode=\"sum\",\n",
    ")\n",
    "# _df['distance'].mean()"
   ]
  },
  {
   "cell_type": "markdown",
   "metadata": {},
   "source": [
    "## <a id='toc1_5_'></a>[venn](#toc0_)"
   ]
  },
  {
   "cell_type": "code",
   "execution_count": null,
   "metadata": {},
   "outputs": [],
   "source": [
    "set_a = {'ford','ferrari','mercedes', 'bmw'}\n",
    "set_b = {'opel','bmw','bentley','audi'}\n",
    "_df, _details = ven.show_venn2(\n",
    "    title=\"taxis\",\n",
    "    a_set=set_a,\n",
    "    a_label=\"cars1\",\n",
    "    b_set=set_b,\n",
    "    b_label=\"cars2\",\n",
    "    verbose=0,\n",
    "    size=8,\n",
    ")"
   ]
  },
  {
   "cell_type": "code",
   "execution_count": null,
   "metadata": {},
   "outputs": [],
   "source": [
    "set_a = {'ford','ferrari','mercedes', 'bmw'}\n",
    "set_b = {'opel','bmw','bentley','audi'}\n",
    "set_c = {'ferrari','bmw','chrysler','renault','peugeot','fiat'}\n",
    "_df, _details = ven.show_venn3(\n",
    "    title=\"taxis\",\n",
    "    a_set=set_a,\n",
    "    a_label=\"cars1\",\n",
    "    b_set=set_b,\n",
    "    b_label=\"cars2\",\n",
    "    c_set=set_c,\n",
    "    c_label=\"cars3\",\n",
    "    verbose=0,\n",
    "    size=8,\n",
    ")"
   ]
  },
  {
   "cell_type": "markdown",
   "metadata": {},
   "source": [
    "## <a id='toc1_6_'></a>[hlp](#toc0_)"
   ]
  },
  {
   "cell_type": "code",
   "execution_count": null,
   "metadata": {},
   "outputs": [],
   "source": [
    "db_ops_kkr = con.sql(\"\"\"--sql\n",
    "    select\n",
    "            z_kkr_label,\n",
    "            ops.Code as ops_code,\n",
    "            count(distinct OPSId) as cnt_ops,\n",
    "            dim_ops.name as ops_name,\n",
    "    from Tumor tum\n",
    "    left join OP op on tum.z_tum_id = op.z_tum_id\n",
    "    left join OPS ops on op.OPId = ops.OP_TypId\n",
    "    left join dim_ops on dim_ops.code = ops.Code\n",
    "    group by ops_code, z_kkr_label, ops_name\n",
    "    \"\"\")\n",
    "# tbl.descr_db(db_ops_kkr, \"ops_kk\")\n",
    "\n",
    "# print(db_ops_kkr.aggregate(\"ops_code || ' - ' || ops_name as ops, sum(cnt_ops)::int as cnt_ops\").order(\"cnt_ops desc\").limit(10).to_df())\n",
    "db_ops_kkr.aggregate(\"ops_code || ' - ' || ops_name as ops, sum(cnt_ops)::int as cnt_ops\").order(\"cnt_ops desc\").limit(10).show(max_width=120)\n",
    "db_ops_kkr.aggregate(\"left(ops_code || ' - ' || ops_name,100) as ops, sum(cnt_ops)::int as cnt_ops\").order(\"cnt_ops desc\").limit(10).show()"
   ]
  },
  {
   "cell_type": "code",
   "execution_count": null,
   "metadata": {},
   "outputs": [],
   "source": [
    "df.pickup.to_series()"
   ]
  },
  {
   "cell_type": "code",
   "execution_count": null,
   "metadata": {},
   "outputs": [],
   "source": [
    "hlp.get_tum_details(\"df6bc655-e0ca-47f1-900c-ff2c749b3c7d\", con)"
   ]
  },
  {
   "cell_type": "code",
   "execution_count": null,
   "metadata": {},
   "outputs": [],
   "source": [
    "hlp.add_measures_to_pyg_config(\".local/pygwalker_spec_.json\", strict=False)"
   ]
  },
  {
   "cell_type": "code",
   "execution_count": null,
   "metadata": {},
   "outputs": [],
   "source": [
    "from pandas_plots import hlp\n",
    "url=\"https://github.com/robert-koch-institut/Bundesweiter_klinischer_Krebsregisterdatensatz-Datenschema_und_Klassifikationen\"\n",
    "# url=\"http://google.com\"\n",
    "\n",
    "# hlp.create_barcode_from_url(\n",
    "#     url=url,\n",
    "#     output_path=\".local/zfkd-repo.png\",\n",
    "#     show_image=True,\n",
    "# )"
   ]
  },
  {
   "cell_type": "code",
   "execution_count": null,
   "metadata": {},
   "outputs": [],
   "source": [
    "hlp.find_cols(df, [\n",
    "    \"Tot\",\n",
    "    \"DIS\",\n",
    "    ])\n"
   ]
  },
  {
   "cell_type": "code",
   "execution_count": null,
   "metadata": {},
   "outputs": [],
   "source": [
    "# df\n",
    "# from pandas_plots import hlp\n",
    "hlp.add_datetime_columns(df,\"dropoff\")\n",
    "# df"
   ]
  },
  {
   "cell_type": "code",
   "execution_count": null,
   "metadata": {},
   "outputs": [],
   "source": [
    "lol=\"\"\"\n",
    "The most important themes of the draft referendum are:\n",
    "1. Improving the use of health data for research and innovation, particularly through the establishment of a National Data Access Point;\n",
    "2. Enhancing the coordination and networking of different stakeholders involved in health data management;\n",
    "3. Expanding the scope of the General Data Protection Regulation (GDPR) to cover all areas of healthcare;\n",
    "4. Providing better access to health data for patients and researchers, including through the development of a new law on health data protection;\n",
    "5. Facilitating the exchange of health data between different countries and regions, particularly within the European Union (EU);\n",
    "6. Ensuring that data are used in a way that promotes sustainable development and achieves the United Nations' Sustainable Development Goals (SDGs).\"\"\"\n",
    "\n",
    "print(\n",
    "hlp.wrap_text(\n",
    "    text=lol,\n",
    "    # max_items_in_line=40,\n",
    "    use_sep=True,\n",
    "    use_apo=True,\n",
    ")\n",
    ")"
   ]
  }
 ],
 "metadata": {
  "kernelspec": {
   "display_name": "pandas-plots",
   "language": "python",
   "name": "python3"
  },
  "language_info": {
   "codemirror_mode": {
    "name": "ipython",
    "version": 3
   },
   "file_extension": ".py",
   "mimetype": "text/x-python",
   "name": "python",
   "nbconvert_exporter": "python",
   "pygments_lexer": "ipython3",
   "version": "3.12.9"
  }
 },
 "nbformat": 4,
 "nbformat_minor": 2
}
